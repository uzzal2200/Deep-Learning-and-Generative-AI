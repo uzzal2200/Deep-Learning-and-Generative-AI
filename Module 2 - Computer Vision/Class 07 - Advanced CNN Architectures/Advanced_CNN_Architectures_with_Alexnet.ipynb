{
  "nbformat": 4,
  "nbformat_minor": 0,
  "metadata": {
    "colab": {
      "provenance": [],
      "toc_visible": true,
      "gpuType": "T4"
    },
    "kernelspec": {
      "name": "python3",
      "display_name": "Python 3"
    },
    "language_info": {
      "name": "python"
    },
    "accelerator": "GPU"
  },
  "cells": [
    {
      "cell_type": "code",
      "execution_count": 1,
      "metadata": {
        "id": "4cqUbn_xktWP"
      },
      "outputs": [],
      "source": [
        "import torch\n",
        "import torch.nn as nn\n",
        "import torch.optim as optim\n",
        "from torchvision import datasets, transforms, models\n",
        "from torch.utils.data import DataLoader\n",
        "from torchsummary import summary"
      ]
    },
    {
      "cell_type": "code",
      "source": [
        "transform = transforms.Compose([\n",
        "    transforms.Resize((224,224)),\n",
        "    transforms.ToTensor(),\n",
        "    transforms.Normalize(mean=[0.485, 0.456, 0.406], std=[0.229, 0.224, 0.225])\n",
        "\n",
        "])"
      ],
      "metadata": {
        "id": "pcqA2tjblHAH"
      },
      "execution_count": 2,
      "outputs": []
    },
    {
      "cell_type": "code",
      "source": [
        "train_dataset = datasets.CIFAR10(root='./data', train=True, download=True, transform = transform)\n",
        "test_dataset = datasets.CIFAR10(root='./data', train=False, download=True, transform = transform)"
      ],
      "metadata": {
        "colab": {
          "base_uri": "https://localhost:8080/"
        },
        "id": "o1IyjVgDmWcP",
        "outputId": "638aa273-3f73-4280-c296-5d90dd03d4a0"
      },
      "execution_count": 3,
      "outputs": [
        {
          "output_type": "stream",
          "name": "stderr",
          "text": [
            "100%|██████████| 170M/170M [00:12<00:00, 13.1MB/s]\n"
          ]
        }
      ]
    },
    {
      "cell_type": "code",
      "source": [
        "batch_size = 128\n",
        "num_class = 10\n",
        "epochs = 5\n",
        "learning_rate = 0.001\n",
        "train_loader = DataLoader(train_dataset, batch_size=batch_size, shuffle=True)\n",
        "test_loader = DataLoader(test_dataset, batch_size=batch_size, shuffle=False)\n"
      ],
      "metadata": {
        "id": "dNKuZVkWmwxA"
      },
      "execution_count": 4,
      "outputs": []
    },
    {
      "cell_type": "code",
      "source": [
        "\n",
        "# Load a pretrained AlexNet model\n",
        "model = models.alexnet(pretrained=True)\n",
        "\n",
        "# Freeze the feature layers (optional, but often beneficial initially)\n",
        "for param in model.features.parameters():\n",
        "    param.requires_grad = False\n",
        "\n",
        "# Modify the classifier for CIFAR-10 (10 classes)\n",
        "num_ftrs = model.classifier[6].in_features\n",
        "model.classifier[6] = nn.Linear(num_ftrs, 10)\n",
        "\n",
        "\n"
      ],
      "metadata": {
        "id": "xVtw0Ty1nOIv",
        "colab": {
          "base_uri": "https://localhost:8080/"
        },
        "outputId": "359ff3e5-1981-44d1-9d54-67177f0ba7fc"
      },
      "execution_count": 7,
      "outputs": [
        {
          "output_type": "stream",
          "name": "stderr",
          "text": [
            "/usr/local/lib/python3.11/dist-packages/torchvision/models/_utils.py:208: UserWarning: The parameter 'pretrained' is deprecated since 0.13 and may be removed in the future, please use 'weights' instead.\n",
            "  warnings.warn(\n",
            "/usr/local/lib/python3.11/dist-packages/torchvision/models/_utils.py:223: UserWarning: Arguments other than a weight enum or `None` for 'weights' are deprecated since 0.13 and may be removed in the future. The current behavior is equivalent to passing `weights=AlexNet_Weights.IMAGENET1K_V1`. You can also use `weights=AlexNet_Weights.DEFAULT` to get the most up-to-date weights.\n",
            "  warnings.warn(msg)\n",
            "Downloading: \"https://download.pytorch.org/models/alexnet-owt-7be5be79.pth\" to /root/.cache/torch/hub/checkpoints/alexnet-owt-7be5be79.pth\n",
            "100%|██████████| 233M/233M [00:01<00:00, 199MB/s]\n"
          ]
        }
      ]
    },
    {
      "cell_type": "code",
      "source": [
        "print(model.classifier)"
      ],
      "metadata": {
        "colab": {
          "base_uri": "https://localhost:8080/"
        },
        "id": "IDmxVULLpuZW",
        "outputId": "3a865d40-8e3a-4849-ece3-0f719e42ea39"
      },
      "execution_count": 8,
      "outputs": [
        {
          "output_type": "stream",
          "name": "stdout",
          "text": [
            "Sequential(\n",
            "  (0): Dropout(p=0.5, inplace=False)\n",
            "  (1): Linear(in_features=9216, out_features=4096, bias=True)\n",
            "  (2): ReLU(inplace=True)\n",
            "  (3): Dropout(p=0.5, inplace=False)\n",
            "  (4): Linear(in_features=4096, out_features=4096, bias=True)\n",
            "  (5): ReLU(inplace=True)\n",
            "  (6): Linear(in_features=4096, out_features=10, bias=True)\n",
            ")\n"
          ]
        }
      ]
    },
    {
      "cell_type": "code",
      "source": [
        "device = torch.device('cuda' if torch.cuda.is_available() else 'cpu')\n",
        "model = model.to(device)\n",
        "summary(model, (3,224, 224))\n"
      ],
      "metadata": {
        "colab": {
          "base_uri": "https://localhost:8080/"
        },
        "id": "iFSkgArkqJ49",
        "outputId": "9ba05a01-7396-4643-87f6-26abbc0e5391"
      },
      "execution_count": 9,
      "outputs": [
        {
          "output_type": "stream",
          "name": "stdout",
          "text": [
            "----------------------------------------------------------------\n",
            "        Layer (type)               Output Shape         Param #\n",
            "================================================================\n",
            "            Conv2d-1           [-1, 64, 55, 55]          23,296\n",
            "              ReLU-2           [-1, 64, 55, 55]               0\n",
            "         MaxPool2d-3           [-1, 64, 27, 27]               0\n",
            "            Conv2d-4          [-1, 192, 27, 27]         307,392\n",
            "              ReLU-5          [-1, 192, 27, 27]               0\n",
            "         MaxPool2d-6          [-1, 192, 13, 13]               0\n",
            "            Conv2d-7          [-1, 384, 13, 13]         663,936\n",
            "              ReLU-8          [-1, 384, 13, 13]               0\n",
            "            Conv2d-9          [-1, 256, 13, 13]         884,992\n",
            "             ReLU-10          [-1, 256, 13, 13]               0\n",
            "           Conv2d-11          [-1, 256, 13, 13]         590,080\n",
            "             ReLU-12          [-1, 256, 13, 13]               0\n",
            "        MaxPool2d-13            [-1, 256, 6, 6]               0\n",
            "AdaptiveAvgPool2d-14            [-1, 256, 6, 6]               0\n",
            "          Dropout-15                 [-1, 9216]               0\n",
            "           Linear-16                 [-1, 4096]      37,752,832\n",
            "             ReLU-17                 [-1, 4096]               0\n",
            "          Dropout-18                 [-1, 4096]               0\n",
            "           Linear-19                 [-1, 4096]      16,781,312\n",
            "             ReLU-20                 [-1, 4096]               0\n",
            "           Linear-21                   [-1, 10]          40,970\n",
            "================================================================\n",
            "Total params: 57,044,810\n",
            "Trainable params: 54,575,114\n",
            "Non-trainable params: 2,469,696\n",
            "----------------------------------------------------------------\n",
            "Input size (MB): 0.57\n",
            "Forward/backward pass size (MB): 8.37\n",
            "Params size (MB): 217.61\n",
            "Estimated Total Size (MB): 226.55\n",
            "----------------------------------------------------------------\n"
          ]
        }
      ]
    },
    {
      "cell_type": "code",
      "source": [
        "optimizer = optim.Adam(model.classifier[6].parameters(), lr=learning_rate)\n",
        "\n",
        "citerion = nn.CrossEntropyLoss()\n",
        "\n",
        "def train_model(model, train_loader, epochs):\n",
        "  model.train()\n",
        "  for epoch in range(epochs):\n",
        "    total_running_loss = 0\n",
        "    correct = 0\n",
        "    for input, label in train_loader:\n",
        "      input, label = input.to(device), label.to(device)\n",
        "      optimizer.zero_grad()\n",
        "      output = model(input)\n",
        "      loss = citerion(output, label)\n",
        "      loss.backward()\n",
        "      optimizer.step()\n",
        "      total_running_loss += loss.item() * input.size(0)\n",
        "      pred = output.argmax(dim=1)\n",
        "      correct += pred.eq(label).sum().item()\n",
        "    avg_loss = total_running_loss / len(train_loader.dataset)\n",
        "    accuracy = correct / len(train_loader.dataset)\n",
        "    print(f'Epoch: [{epoch+1}/{epochs}], Loss: {avg_loss:.4f}, Accuracy: {accuracy:.4f}')\n",
        "\n",
        "\n",
        "train_model(model, train_loader, epochs)"
      ],
      "metadata": {
        "colab": {
          "base_uri": "https://localhost:8080/"
        },
        "id": "U5OgoJhEqlm2",
        "outputId": "0b6c76dd-4b2a-43ea-cd22-443006f242a4"
      },
      "execution_count": 10,
      "outputs": [
        {
          "output_type": "stream",
          "name": "stdout",
          "text": [
            "Epoch: [1/5], Loss: 0.7125, Accuracy: 0.7501\n",
            "Epoch: [2/5], Loss: 0.5994, Accuracy: 0.7921\n",
            "Epoch: [3/5], Loss: 0.5740, Accuracy: 0.7984\n",
            "Epoch: [4/5], Loss: 0.5642, Accuracy: 0.8021\n",
            "Epoch: [5/5], Loss: 0.5561, Accuracy: 0.8049\n"
          ]
        }
      ]
    },
    {
      "cell_type": "code",
      "source": [
        "def evaluate_model (model, test_loader):\n",
        "  model.eval()\n",
        "  test_loss = 0\n",
        "  correct = 0\n",
        "  with torch.no_grad():\n",
        "    for input, label in test_loader:\n",
        "      input, label = input.to(device), label.to(device)\n",
        "      output = model(input)\n",
        "      loss = citerion(output, label)\n",
        "      test_loss += loss.item() * input.size(0)\n",
        "      pred = output.argmax(dim=1)\n",
        "      correct += pred.eq(label).sum().item()\n",
        "    avg_loss = test_loss / len(test_loader.dataset)\n",
        "    accuracy  = correct / len(test_loader.dataset)\n",
        "    print(f'Test Loss: {avg_loss:.4f}, Accuracy: {accuracy:.4f}')\n",
        "\n",
        "evaluate_model(model, test_loader)"
      ],
      "metadata": {
        "colab": {
          "base_uri": "https://localhost:8080/"
        },
        "id": "vJCg_jlO0-Cm",
        "outputId": "083ff995-5405-44df-8f4e-bee16a1ec261"
      },
      "execution_count": 11,
      "outputs": [
        {
          "output_type": "stream",
          "name": "stdout",
          "text": [
            "Test Loss: 0.4844, Accuracy: 0.8303\n"
          ]
        }
      ]
    }
  ]
}