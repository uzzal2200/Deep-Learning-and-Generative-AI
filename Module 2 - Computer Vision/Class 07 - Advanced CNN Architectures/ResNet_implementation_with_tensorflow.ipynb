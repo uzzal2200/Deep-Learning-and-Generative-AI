{
  "nbformat": 4,
  "nbformat_minor": 0,
  "metadata": {
    "colab": {
      "name": "ResNet_implementation.ipynb",
      "provenance": [],
      "collapsed_sections": [],
      "authorship_tag": "ABX9TyOSJRXSkrUT9xpW750xDd2T",
      "include_colab_link": true
    },
    "kernelspec": {
      "name": "python3",
      "display_name": "Python 3"
    }
  },
  "cells": [
    {
      "cell_type": "markdown",
      "metadata": {
        "id": "view-in-github",
        "colab_type": "text"
      },
      "source": [
        "<a href=\"https://colab.research.google.com/github/Machine-Learning-Tokyo/CNN-Architectures/blob/master/Implementations/ResNet/ResNet_implementation.ipynb\" target=\"_parent\"><img src=\"https://colab.research.google.com/assets/colab-badge.svg\" alt=\"Open In Colab\"/></a>"
      ]
    },
    {
      "cell_type": "markdown",
      "metadata": {
        "id": "-D79U3kqGx2d",
        "colab_type": "text"
      },
      "source": [
        "# Implementation of ResNet\n",
        "\n",
        "We will use the [tensorflow.keras Functional API](https://www.tensorflow.org/guide/keras/functional) to build ResNet from the original paper: “[Deep Residual Learning for Image Recognition](https://arxiv.org/abs/1512.03385)” by Kaiming He, Xiangyu Zhang, Shaoqing Ren, Jian Sun.\n",
        "\n",
        "[Video tutorial](https://www.youtube.com/watch?v=oeIMmtUroi0&list=PLaPdEEY26UXyE3UchW0C742xh542yh0yI&index=5)\n",
        "\n",
        "---\n",
        "\n",
        "In the paper we can read:\n",
        "\n",
        ">**[i]** “We adopt batch normalization (BN) [16] right after each convolution and before activation.”\n",
        ">\n",
        ">**[ii]** \"Donwsampling is performed by conv3_1, conv4_1, and conv5_1 with a stride of 2.\"\n",
        ">\n",
        ">**[iii]** \"(B) The projection shortcut in Eqn.(2) is used to match dimensions (done by 1×1 convolutions). For both options, when the shortcuts go across feature maps of two sizes, they are performed with a stride of 2\"\n",
        ">\n",
        ">**[iv]** \"[...] (B) projection shortcuts are used for increasing dimensions, and other shortcuts are identity;\"\n",
        ">\n",
        ">**[v]** \"The three layers are 1×1, 3×3, and 1×1 convolutions, where the 1×1 layers are responsible for reducing and then increasing (restoring) dimensions, leaving the 3×3 layer a bottleneck with smaller input/output dimensions.\"\n",
        ">\n",
        ">**[vi]** \"50-layer ResNet: We replace each 2-layer block in the 34-layer net with this 3-layer bottleneck block, resulting in a 50-layer ResNet (Table 1). We use option B for increasing\n",
        "dimensions.\"\n",
        "\n",
        "<br>\n",
        "\n",
        "We will also make use of the following Table **[vii]**:\n",
        "\n",
        "<img src=https://github.com/Machine-Learning-Tokyo/DL-workshop-series/raw/master/Part%20I%20-%20Convolution%20Operations/images/ResNet/ResNet.png width=\"600\">\n",
        "\n",
        "<br>\n",
        "<br>\n",
        "\n",
        "as well the following diagram **[viii]**:\n",
        "<img src=https://github.com/Machine-Learning-Tokyo/DL-workshop-series/raw/master/Part%20I%20-%20Convolution%20Operations/images/ResNet/ResNet_block.png width=\"200\">\n",
        "\n",
        "---\n",
        "\n",
        "## Network architecture\n",
        "\n",
        "The network starts with a [Conv, BatchNorm, ReLU] block (**[i]**) and continues with a series of **Resnet blocks** (conv*n*.x in **[vii]**) before the final *Avg Pool* and *Fully Connected* layers.\n",
        "\n",
        "### Resnet block\n",
        "\n",
        "The *Resnet block* consists of a repetition of blocks similar to the one depicted in **[viii]**. As one can see the input tesnor goes through three Conv-BN-ReLU blocks and the output is added to the input tensor. This type of connection that skips the main body of the block and merges (adds) the input tensor with another one further on is called *skip connection* (right arrow in **[viii]**).\n",
        "\n",
        "There are two types of skip connections in ResNet: the **Identity** and the **Projection**. In **[viii]** is depicted the **Identity** one. This is used when the input tensor has same shape as the one produced by the last Convolution layer of the block.\n",
        "\n",
        "However, when the two tensors have different shape, the input tensor must change to get same shape as the other one in order to be able to be added to it. This is done by the **Projection** connection as described in **[iii]** and **[iv]**.\n",
        "\n",
        "The change in shape happens when we:\n",
        "- Change the number of filters and thus of feature maps of the output tensor.\n",
        "This happens at the first sub-block of each *ResNet* block since the output tensor has 4 times the number of feature maps than the input tensor.\n",
        "- Change the spatial dimensions of the output tensor (downsampling)\n",
        "which takes place according to **[ii]**.\n",
        "\n",
        "#### Identity block\n",
        "\n",
        "The *Identity block* takes a tensor as an input and passes it through 1 stream of:\n",
        "> 1. a 1x1 *Convolution* layer followed by a *Batch Normalization* and a *Rectified Linear Unit (ReLU)* activation layer\n",
        "> 2. a 3x3 *Convolution* layer followed by a *Batch Normalization* and a *Rectified Linear Unit (ReLU)* activation layer\n",
        "> 3. a 1x1 *Convolution* layer followed by a *Batch Normalization* layer\n",
        ">\n",
        "> Pay attention at the number of filters (depicted with the letter f at the diagram) which are the same for the first 2 Convolution layer but 4x for the 3rd one.\n",
        "\n",
        "Then the *output* of this stream is added to the *input* tensor. On the new tensor a *Rectified Linear Unit (ReLU)* activation is applied befor returning it.\n",
        "\n",
        "<br>\n",
        "\n",
        "#### Projection block\n",
        "\n",
        "The *Projection block* takes a tensor as an input and passes it through 2 streams.\n",
        "- The left stream consists of:\n",
        "> 1. a 1x1 *Convolution* layer followed by a *Batch Normalization* and a *Rectified Linear Unit (ReLU)* activation layer\n",
        "> 2. a 3x3 *Convolution* layer followed by a *Batch Normalization* and a *Rectified Linear Unit (ReLU)* activation layer\n",
        "> 3. a 1x1 *Convolution* layer followed by a *Batch Normalization* layer\n",
        ">\n",
        "> Pay attention at the number of filters (depicted with the letter f at the diagram) which are the same for the first 2 Convolution layer but 4x for the 3rd one.\n",
        "\n",
        "\n",
        "- The right stream consists of:\n",
        "> a 1x1 *Convolution* layer followed by a *Batch Normalization* layer\n",
        "\n",
        "The outputs of both streams are then added up to a new tensor on which a *Rectified Linear Unit (ReLU)* activation is applied befor returning it.\n",
        "\n",
        "<br>\n",
        "\n",
        "As one can see the only difference between the two blocks is the existence of the Convolution-Batch Normalization sub-block at the right stream.\n",
        "\n",
        "The reason we need this Convolution layer is:\n",
        "- To change the number of filters (feature maps) of the tensor after each block.\n",
        "- To change the size of the tensor after each block.\n",
        "\n",
        "In order to change the size (downsampling) we use a stride of 2 after specific blocks as described at **[ii]** at the first 1x1 Convolution layer and the Projection's Convolution layer according to **[iii]** and **[v]**.\n",
        "\n",
        "---\n",
        "\n",
        "## Workflow\n",
        "We will:\n",
        "1. import the neccesary layers\n",
        "2. write a helper function for the Conv-BatchNorm-ReLU block (**[i]**)\n",
        "3. write a helper function for the Identity block\n",
        "4. write a helper function for the Projection block\n",
        "5. write a helper function for the Resnet block (**[ii]**)\n",
        "6. use these helper functions to build the model.\n",
        "\n",
        "---\n",
        "\n",
        "### 1. Imports"
      ]
    },
    {
      "cell_type": "code",
      "metadata": {
        "id": "I4R3bJ_oGvWu",
        "colab_type": "code",
        "colab": {}
      },
      "source": [
        "from tensorflow.keras.layers import Input, Conv2D, BatchNormalization, \\\n",
        "    ReLU, Add, MaxPool2D, GlobalAvgPool2D, Dense"
      ],
      "execution_count": 0,
      "outputs": []
    },
    {
      "cell_type": "markdown",
      "metadata": {
        "id": "s_OYs62GHy25",
        "colab_type": "text"
      },
      "source": [
        "### 2. *Conv-BatchNorm-ReLU block*\n",
        "Next, we will build the *Conv-BatchNorm-ReLU block* as a function that will:\n",
        "- take as inputs:\n",
        "  - a tensor (**`x`**)\n",
        "  - the number of filters (**`filters`**)\n",
        "  - the kernel size (**`kernel_size`**)\n",
        "  - the strides (**`strides`**)\n",
        "- run:\n",
        "    - apply a *Convolution layer* followed by a *Batch Normalization* and a *ReLU* activation\n",
        " - return the tensor"
      ]
    },
    {
      "cell_type": "code",
      "metadata": {
        "id": "zIX-qmoYH5cr",
        "colab_type": "code",
        "colab": {}
      },
      "source": [
        "def conv_batchnorm_relu(x, filters, kernel_size, strides):\n",
        "    x = Conv2D(filters=filters,\n",
        "               kernel_size=kernel_size,\n",
        "               strides=strides,\n",
        "               padding='same')(x)\n",
        "    x = BatchNormalization()(x)\n",
        "    x = ReLU()(x)\n",
        "    return x"
      ],
      "execution_count": 0,
      "outputs": []
    },
    {
      "cell_type": "markdown",
      "metadata": {
        "id": "3TKlbCK7H9Ej",
        "colab_type": "text"
      },
      "source": [
        "### 3. *Identity block*\n",
        "Now, we will build the *Identity block* as a function that will:\n",
        "- take as inputs:\n",
        "  - a tensor (**`tensor`**)\n",
        "  - the number of filters (**`filters`**)\n",
        "- run:\n",
        "    - apply a 1x1 **Conv-BatchNorm-ReLU block** to **`tensor`**\n",
        "    - apply a 3x3 **Conv-BatchNorm-ReLU block**\n",
        "    - apply a 1x1 *Convolution layer* with 4 times the filters **`filters`**\n",
        "    - apply a *Batch normalization*\n",
        "    - add this tensor with **`tensor`**\n",
        "    - apply a *ReLU* activation\n",
        " - return the tensor"
      ]
    },
    {
      "cell_type": "code",
      "metadata": {
        "id": "hAV39Lb_ICOH",
        "colab_type": "code",
        "colab": {}
      },
      "source": [
        "def identity_block(tensor, filters):\n",
        "    x = conv_batchnorm_relu(tensor, filters=filters, kernel_size=1, strides=1)\n",
        "    x = conv_batchnorm_relu(x, filters=filters, kernel_size=3, strides=1)\n",
        "    x = Conv2D(filters=4*filters, kernel_size=1, strides=1)(x)  # notice: filters=4*filters\n",
        "    x = BatchNormalization()(x)\n",
        " \n",
        "    x = Add()([x, tensor])\n",
        "    x = ReLU()(x)\n",
        "    return x"
      ],
      "execution_count": 0,
      "outputs": []
    },
    {
      "cell_type": "markdown",
      "metadata": {
        "id": "7Q38iyJWII9K",
        "colab_type": "text"
      },
      "source": [
        "### 4. *Projection block*\n",
        "Now, we will build the *Projection block* which is similar to the *Identity* one.\n",
        "\n",
        "Remember, this time we need the strides because we want to downsample the tensors at specific blocks according to **[ii]**, **[iii]** and **[v]**:\n",
        "> “the 1×1 layers are responsible for reducing and then increasing (restoring) dimensions”.\n",
        "\n",
        "The downsampling at the main stream will take place at the first 1x1 Convolution layer*.\n",
        "The downsampling at the right stream will take place at its Convolution layer."
      ]
    },
    {
      "cell_type": "code",
      "metadata": {
        "id": "V1BTC5FuIMuv",
        "colab_type": "code",
        "colab": {}
      },
      "source": [
        "def projection_block(tensor, filters, strides):\n",
        "    # left stream\n",
        "    x = conv_batchnorm_relu(tensor, filters=filters, kernel_size=1, strides=strides) #[v]\n",
        "    x = conv_batchnorm_relu(x, filters=filters, kernel_size=3, strides=1)\n",
        "    x = Conv2D(filters=4*filters, kernel_size=1, strides=1)(x)  # notice: filters=4*filters\n",
        "    x = BatchNormalization()(x)\n",
        " \n",
        "    # right stream\n",
        "    shortcut = Conv2D(filters=4*filters, kernel_size=1, strides=strides)(tensor)  # notice: filters=4*filters\n",
        "    shortcut = BatchNormalization()(shortcut)\n",
        " \n",
        "    x = Add()([x, shortcut])\n",
        "    x = ReLU()(x)\n",
        "    return x"
      ],
      "execution_count": 0,
      "outputs": []
    },
    {
      "cell_type": "markdown",
      "metadata": {
        "id": "hrmfsTM1IXaS",
        "colab_type": "text"
      },
      "source": [
        "\\**Notice that in some implementations downsampling takes place at the 3x3 layer. This is also know as ResNet 1.5 (https://ngc.nvidia.com/catalog/model-scripts/nvidia:resnet_50_v1_5_for_pytorch).*\n",
        "\n",
        "---\n",
        "\n",
        "### 5. *Resnet block*\n",
        "Now that we defined the *Projection block* and the *Identity block* we can use them to define the **Resnet block**.\n",
        "\n",
        "Based on the **[vii]** (column *50-layer*) for each block we have a number of repetiontions (depicted with *xn* next to the block numbers). The 1st of these blocks will be a *Projection block* and the rest will be *Identity blocks*.\n",
        "\n",
        "The reason for this is that at the beginning of each block the number of feature maps of the tensor change. Since at the Identity block the input tensor and the output tensor are added, they need to have the same number of feature maps.\n",
        "\n",
        "Let's build the *Resnet block* as a function that will:\n",
        "- take as inputs:\n",
        "  - a tensor (**`x`**)\n",
        "  - the number of filters (**`filters`**)\n",
        "  - the total number of repetitions of internal blocks (**`reps`**)\n",
        "  - the strides (**`strides`**)\n",
        "- run:\n",
        "    - apply a projection block with strides: **`strides`**\n",
        "    - for apply an *Identity block* for $r-1$ times (the $-1$ is because the first block was a *Convolution* one)\n",
        "- return the tensor"
      ]
    },
    {
      "cell_type": "code",
      "metadata": {
        "id": "pTsieulOITMi",
        "colab_type": "code",
        "colab": {}
      },
      "source": [
        "def resnet_block(x, filters, reps, strides):\n",
        "    x = projection_block(x, filters=filters, strides=strides)\n",
        "    for _ in range(reps-1):\n",
        "        x = identity_block(x, filters=filters)\n",
        "    return x"
      ],
      "execution_count": 0,
      "outputs": []
    },
    {
      "cell_type": "markdown",
      "metadata": {
        "id": "TCOXYcAmIebP",
        "colab_type": "text"
      },
      "source": [
        "### 6. Model code\n",
        "Now we are ready to build the model:"
      ]
    },
    {
      "cell_type": "code",
      "metadata": {
        "id": "wTK6a4AmIawj",
        "colab_type": "code",
        "colab": {}
      },
      "source": [
        "input = Input(shape=(224, 224, 3))\n",
        " \n",
        "x = conv_batchnorm_relu(input, filters=64, kernel_size=7, strides=2)  # [3]: 7x7, 64, strides 2\n",
        "x = MaxPool2D(pool_size=3, strides=2, padding='same')(x)  # [3]: 3x3 max mool, strides 2\n",
        " \n",
        "x = resnet_block(x, filters=64, reps=3, strides=1)\n",
        "x = resnet_block(x, filters=128, reps=4, strides=2)  # strides=2 ([2]: conv3_1)\n",
        "x = resnet_block(x, filters=256, reps=6, strides=2)  # strides=2 ([2]: conv4_1)\n",
        "x = resnet_block(x, filters=512, reps=3, strides=2)  # strides=2 ([2]: conv5_1)\n",
        " \n",
        "x = GlobalAvgPool2D()(x)  # [3]: average pool *it is not written any pool size so we use Global\n",
        " \n",
        "output = Dense(1000, activation='softmax')(x)  # [3]: 1000-d fc, softmax\n",
        " \n",
        "from tensorflow.keras import Model\n",
        " \n",
        "model = Model(input, output)"
      ],
      "execution_count": 0,
      "outputs": []
    },
    {
      "cell_type": "markdown",
      "metadata": {
        "id": "WCnWXgx3JG1d",
        "colab_type": "text"
      },
      "source": [
        "## Final code"
      ]
    },
    {
      "cell_type": "code",
      "metadata": {
        "id": "1fdNEUqGIjZL",
        "colab_type": "code",
        "colab": {}
      },
      "source": [
        "from tensorflow.keras.layers import Input\n",
        "from tensorflow.keras.layers import Conv2D, BatchNormalization, ReLU, Add\n",
        "from tensorflow.keras.layers import MaxPool2D, GlobalAvgPool2D, Dense\n",
        " \n",
        " \n",
        "def conv_batchnorm_relu(x, filters, kernel_size, strides):\n",
        "    x = Conv2D(filters=filters,\n",
        "               kernel_size=kernel_size,\n",
        "               strides=strides,\n",
        "               padding='same')(x)\n",
        "    x = BatchNormalization()(x)\n",
        "    x = ReLU()(x)\n",
        "    return x\n",
        " \n",
        " \n",
        "def identity_block(tensor, filters):\n",
        "    x = conv_batchnorm_relu(tensor, filters=filters, kernel_size=1, strides=1)\n",
        "    x = conv_batchnorm_relu(x, filters=filters, kernel_size=3, strides=1)\n",
        "    x = Conv2D(filters=4*filters, kernel_size=1, strides=1)(x)  # notice: filters=4*filters\n",
        "    x = BatchNormalization()(x)\n",
        " \n",
        "    x = Add()([x, tensor])\n",
        "    x = ReLU()(x)\n",
        "    return x\n",
        " \n",
        " \n",
        "def projection_block(tensor, filters, strides):\n",
        "    # left stream\n",
        "    x = conv_batchnorm_relu(tensor, filters=filters, kernel_size=1, strides=1)\n",
        "    x = conv_batchnorm_relu(x, filters=filters, kernel_size=3, strides=strides)\n",
        "    x = Conv2D(filters=4*filters, kernel_size=1, strides=1)(x)  # notice: filters=4*filters\n",
        "    x = BatchNormalization()(x)\n",
        " \n",
        "    # right stream\n",
        "    shortcut = Conv2D(filters=4*filters, kernel_size=1, strides=strides)(tensor)  # notice: filters=4*filters\n",
        "    shortcut = BatchNormalization()(shortcut)\n",
        " \n",
        "    x = Add()([x, shortcut])\n",
        "    x = ReLU()(x)\n",
        "    return x\n",
        " \n",
        " \n",
        "def resnet_block(x, filters, reps, strides):\n",
        "    x = projection_block(x, filters=filters, strides=strides)\n",
        "    for _ in range(reps-1):  # the -1 is because the first block was a Conv one\n",
        "        x = identity_block(x, filters=filters)\n",
        "    return x\n",
        " \n",
        " \n",
        "input = Input(shape=(224, 224, 3))\n",
        " \n",
        "x = conv_batchnorm_relu(input, filters=64, kernel_size=7, strides=2)  # [3]: 7x7, 64, strides 2\n",
        "x = MaxPool2D(pool_size=3, strides=2, padding='same')(x)  # [3]: 3x3 max mool, strides 2\n",
        " \n",
        "x = resnet_block(x, filters=64, reps=3, strides=1)\n",
        "x = resnet_block(x, filters=128, reps=4, strides=2)  # s=2 ([2]: conv3_1)\n",
        "x = resnet_block(x, filters=256, reps=6, strides=2)  # s=2 ([2]: conv4_1)\n",
        "x = resnet_block(x, filters=512, reps=3, strides=2)  # s=2 ([2]: conv5_1)\n",
        " \n",
        "x = GlobalAvgPool2D()(x)  # [3]: average pool *it is not written any pool size so we use Global\n",
        " \n",
        "output = Dense(1000, activation='softmax')(x)  # [3]: 1000-d fc, softmax\n",
        " \n",
        "from tensorflow.keras import Model\n",
        " \n",
        "model = Model(input, output)"
      ],
      "execution_count": 0,
      "outputs": []
    },
    {
      "cell_type": "markdown",
      "metadata": {
        "id": "Dndy3rtVJQYw",
        "colab_type": "text"
      },
      "source": [
        "## Model diagram\n",
        "\n",
        "<img src=\"https://raw.githubusercontent.com/Machine-Learning-Tokyo/CNN-Architectures/master/Implementations/ResNet/ResNet_diagram.svg?sanitize=true\">"
      ]
    }
  ]
}