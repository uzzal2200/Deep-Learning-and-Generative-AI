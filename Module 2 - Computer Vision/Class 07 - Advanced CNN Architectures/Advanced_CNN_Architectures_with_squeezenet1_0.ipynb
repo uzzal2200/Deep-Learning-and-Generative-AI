{
  "nbformat": 4,
  "nbformat_minor": 0,
  "metadata": {
    "colab": {
      "provenance": [],
      "toc_visible": true,
      "gpuType": "T4"
    },
    "kernelspec": {
      "name": "python3",
      "display_name": "Python 3"
    },
    "language_info": {
      "name": "python"
    },
    "accelerator": "GPU"
  },
  "cells": [
    {
      "cell_type": "code",
      "execution_count": 1,
      "metadata": {
        "id": "4cqUbn_xktWP"
      },
      "outputs": [],
      "source": [
        "import torch\n",
        "import torch.nn as nn\n",
        "import torch.optim as optim\n",
        "from torchvision import datasets, transforms, models\n",
        "from torch.utils.data import DataLoader\n",
        "from torchsummary import summary"
      ]
    },
    {
      "cell_type": "code",
      "source": [
        "transform = transforms.Compose([\n",
        "    transforms.Resize((224,224)),\n",
        "    transforms.ToTensor(),\n",
        "    transforms.Normalize(mean=[0.485, 0.456, 0.406], std=[0.229, 0.224, 0.225])\n",
        "\n",
        "])"
      ],
      "metadata": {
        "id": "pcqA2tjblHAH"
      },
      "execution_count": 2,
      "outputs": []
    },
    {
      "cell_type": "code",
      "source": [
        "train_dataset = datasets.CIFAR10(root='./data', train=True, download=True, transform = transform)\n",
        "test_dataset = datasets.CIFAR10(root='./data', train=False, download=True, transform = transform)"
      ],
      "metadata": {
        "colab": {
          "base_uri": "https://localhost:8080/"
        },
        "id": "o1IyjVgDmWcP",
        "outputId": "5cd929da-12d3-467f-b935-dabd8da3ac11"
      },
      "execution_count": 3,
      "outputs": [
        {
          "output_type": "stream",
          "name": "stderr",
          "text": [
            "100%|██████████| 170M/170M [00:03<00:00, 48.5MB/s]\n"
          ]
        }
      ]
    },
    {
      "cell_type": "code",
      "source": [
        "batch_size = 128\n",
        "num_class = 10\n",
        "epochs = 5\n",
        "learning_rate = 0.001\n",
        "train_loader = DataLoader(train_dataset, batch_size=batch_size, shuffle=True)\n",
        "test_loader = DataLoader(test_dataset, batch_size=batch_size, shuffle=False)\n"
      ],
      "metadata": {
        "id": "dNKuZVkWmwxA"
      },
      "execution_count": 4,
      "outputs": []
    },
    {
      "cell_type": "code",
      "source": [
        "# Load pre-trained SqueezeNet1.0\n",
        "model = models.squeezenet1_0(pretrained=True)\n",
        "\n",
        "# Freeze feature extractor layers\n",
        "for param in model.features.parameters():\n",
        "    param.requires_grad = False\n",
        "\n",
        "# Save original final conv layer (optional)\n",
        "final_conv = model.classifier[1]\n",
        "\n",
        "# Replace final conv layer to match number of classes\n",
        "model.classifier[1] = nn.Conv2d(512, num_class, kernel_size=(1, 1), stride=(1, 1))\n",
        "\n",
        "# Adjust average pooling (kernel size depends on input image size)\n",
        "model.classifier[3] = nn.AvgPool2d(kernel_size=13, stride=1)\n",
        "\n",
        "# Custom forward function\n",
        "def squeezenet_forward(self, x):\n",
        "    x = self.features(x)        # Feature extraction\n",
        "    x = self.classifier(x)      # Classification\n",
        "    return torch.flatten(x, 1)  # Flatten output\n",
        "\n",
        "\n",
        "\n"
      ],
      "metadata": {
        "id": "xVtw0Ty1nOIv"
      },
      "execution_count": 14,
      "outputs": []
    },
    {
      "cell_type": "code",
      "source": [
        "print(model.classifier)"
      ],
      "metadata": {
        "colab": {
          "base_uri": "https://localhost:8080/"
        },
        "id": "IDmxVULLpuZW",
        "outputId": "2afe347c-700c-4901-d5c7-64fa70b71200"
      },
      "execution_count": 12,
      "outputs": [
        {
          "output_type": "stream",
          "name": "stdout",
          "text": [
            "Sequential(\n",
            "  (0): Dropout(p=0.5, inplace=False)\n",
            "  (1): Conv2d(512, 10, kernel_size=(1, 1), stride=(1, 1))\n",
            "  (2): ReLU(inplace=True)\n",
            "  (3): AvgPool2d(kernel_size=13, stride=1, padding=0)\n",
            ")\n"
          ]
        }
      ]
    },
    {
      "cell_type": "code",
      "source": [
        "device = torch.device('cuda' if torch.cuda.is_available() else 'cpu')\n",
        "model = model.to(device)\n",
        "summary(model, (3,224, 224))\n"
      ],
      "metadata": {
        "colab": {
          "base_uri": "https://localhost:8080/"
        },
        "id": "iFSkgArkqJ49",
        "outputId": "7a9d0a5b-050e-4846-d0f5-cb83d960a409"
      },
      "execution_count": 18,
      "outputs": [
        {
          "output_type": "stream",
          "name": "stdout",
          "text": [
            "----------------------------------------------------------------\n",
            "        Layer (type)               Output Shape         Param #\n",
            "================================================================\n",
            "            Conv2d-1         [-1, 96, 109, 109]          14,208\n",
            "              ReLU-2         [-1, 96, 109, 109]               0\n",
            "         MaxPool2d-3           [-1, 96, 54, 54]               0\n",
            "            Conv2d-4           [-1, 16, 54, 54]           1,552\n",
            "              ReLU-5           [-1, 16, 54, 54]               0\n",
            "            Conv2d-6           [-1, 64, 54, 54]           1,088\n",
            "              ReLU-7           [-1, 64, 54, 54]               0\n",
            "            Conv2d-8           [-1, 64, 54, 54]           9,280\n",
            "              ReLU-9           [-1, 64, 54, 54]               0\n",
            "             Fire-10          [-1, 128, 54, 54]               0\n",
            "           Conv2d-11           [-1, 16, 54, 54]           2,064\n",
            "             ReLU-12           [-1, 16, 54, 54]               0\n",
            "           Conv2d-13           [-1, 64, 54, 54]           1,088\n",
            "             ReLU-14           [-1, 64, 54, 54]               0\n",
            "           Conv2d-15           [-1, 64, 54, 54]           9,280\n",
            "             ReLU-16           [-1, 64, 54, 54]               0\n",
            "             Fire-17          [-1, 128, 54, 54]               0\n",
            "           Conv2d-18           [-1, 32, 54, 54]           4,128\n",
            "             ReLU-19           [-1, 32, 54, 54]               0\n",
            "           Conv2d-20          [-1, 128, 54, 54]           4,224\n",
            "             ReLU-21          [-1, 128, 54, 54]               0\n",
            "           Conv2d-22          [-1, 128, 54, 54]          36,992\n",
            "             ReLU-23          [-1, 128, 54, 54]               0\n",
            "             Fire-24          [-1, 256, 54, 54]               0\n",
            "        MaxPool2d-25          [-1, 256, 27, 27]               0\n",
            "           Conv2d-26           [-1, 32, 27, 27]           8,224\n",
            "             ReLU-27           [-1, 32, 27, 27]               0\n",
            "           Conv2d-28          [-1, 128, 27, 27]           4,224\n",
            "             ReLU-29          [-1, 128, 27, 27]               0\n",
            "           Conv2d-30          [-1, 128, 27, 27]          36,992\n",
            "             ReLU-31          [-1, 128, 27, 27]               0\n",
            "             Fire-32          [-1, 256, 27, 27]               0\n",
            "           Conv2d-33           [-1, 48, 27, 27]          12,336\n",
            "             ReLU-34           [-1, 48, 27, 27]               0\n",
            "           Conv2d-35          [-1, 192, 27, 27]           9,408\n",
            "             ReLU-36          [-1, 192, 27, 27]               0\n",
            "           Conv2d-37          [-1, 192, 27, 27]          83,136\n",
            "             ReLU-38          [-1, 192, 27, 27]               0\n",
            "             Fire-39          [-1, 384, 27, 27]               0\n",
            "           Conv2d-40           [-1, 48, 27, 27]          18,480\n",
            "             ReLU-41           [-1, 48, 27, 27]               0\n",
            "           Conv2d-42          [-1, 192, 27, 27]           9,408\n",
            "             ReLU-43          [-1, 192, 27, 27]               0\n",
            "           Conv2d-44          [-1, 192, 27, 27]          83,136\n",
            "             ReLU-45          [-1, 192, 27, 27]               0\n",
            "             Fire-46          [-1, 384, 27, 27]               0\n",
            "           Conv2d-47           [-1, 64, 27, 27]          24,640\n",
            "             ReLU-48           [-1, 64, 27, 27]               0\n",
            "           Conv2d-49          [-1, 256, 27, 27]          16,640\n",
            "             ReLU-50          [-1, 256, 27, 27]               0\n",
            "           Conv2d-51          [-1, 256, 27, 27]         147,712\n",
            "             ReLU-52          [-1, 256, 27, 27]               0\n",
            "             Fire-53          [-1, 512, 27, 27]               0\n",
            "        MaxPool2d-54          [-1, 512, 13, 13]               0\n",
            "           Conv2d-55           [-1, 64, 13, 13]          32,832\n",
            "             ReLU-56           [-1, 64, 13, 13]               0\n",
            "           Conv2d-57          [-1, 256, 13, 13]          16,640\n",
            "             ReLU-58          [-1, 256, 13, 13]               0\n",
            "           Conv2d-59          [-1, 256, 13, 13]         147,712\n",
            "             ReLU-60          [-1, 256, 13, 13]               0\n",
            "             Fire-61          [-1, 512, 13, 13]               0\n",
            "          Dropout-62          [-1, 512, 13, 13]               0\n",
            "           Conv2d-63           [-1, 10, 13, 13]           5,130\n",
            "             ReLU-64           [-1, 10, 13, 13]               0\n",
            "        AvgPool2d-65             [-1, 10, 1, 1]               0\n",
            "================================================================\n",
            "Total params: 740,554\n",
            "Trainable params: 5,130\n",
            "Non-trainable params: 735,424\n",
            "----------------------------------------------------------------\n",
            "Input size (MB): 0.57\n",
            "Forward/backward pass size (MB): 89.24\n",
            "Params size (MB): 2.82\n",
            "Estimated Total Size (MB): 92.64\n",
            "----------------------------------------------------------------\n"
          ]
        }
      ]
    },
    {
      "cell_type": "code",
      "source": [
        "optimizer = optim.Adam(model.classifier.parameters(), lr=learning_rate)\n",
        "\n",
        "citerion = nn.CrossEntropyLoss()\n",
        "\n",
        "def train_model(model, train_loader, epochs):\n",
        "  model.train()\n",
        "  for epoch in range(epochs):\n",
        "    total_running_loss = 0\n",
        "    correct = 0\n",
        "    for input, label in train_loader:\n",
        "      input, label = input.to(device), label.to(device)\n",
        "      optimizer.zero_grad()\n",
        "      output = model(input)\n",
        "      loss = citerion(output, label)\n",
        "      loss.backward()\n",
        "      optimizer.step()\n",
        "      total_running_loss += loss.item() * input.size(0)\n",
        "      pred = output.argmax(dim=1)\n",
        "      correct += pred.eq(label).sum().item()\n",
        "    avg_loss = total_running_loss / len(train_loader.dataset)\n",
        "    accuracy = correct / len(train_loader.dataset)\n",
        "    print(f'Epoch: [{epoch+1}/{epochs}], Loss: {avg_loss:.4f}, Accuracy: {accuracy:.4f}')\n",
        "\n",
        "\n",
        "train_model(model, train_loader, epochs)"
      ],
      "metadata": {
        "colab": {
          "base_uri": "https://localhost:8080/"
        },
        "id": "U5OgoJhEqlm2",
        "outputId": "2123eb56-4591-449f-aaf5-11a4bb9458f0"
      },
      "execution_count": 19,
      "outputs": [
        {
          "output_type": "stream",
          "name": "stdout",
          "text": [
            "Epoch: [1/5], Loss: 0.8038, Accuracy: 0.7253\n",
            "Epoch: [2/5], Loss: 0.5649, Accuracy: 0.8058\n",
            "Epoch: [3/5], Loss: 0.5260, Accuracy: 0.8156\n",
            "Epoch: [4/5], Loss: 0.5159, Accuracy: 0.8195\n",
            "Epoch: [5/5], Loss: 0.5011, Accuracy: 0.8262\n"
          ]
        }
      ]
    },
    {
      "cell_type": "code",
      "source": [
        "def evaluate_model (model, test_loader):\n",
        "  model.eval()\n",
        "  test_loss = 0\n",
        "  correct = 0\n",
        "  with torch.no_grad():\n",
        "    for input, label in test_loader:\n",
        "      input, label = input.to(device), label.to(device)\n",
        "      output = model(input)\n",
        "      loss = citerion(output, label)\n",
        "      test_loss += loss.item() * input.size(0)\n",
        "      pred = output.argmax(dim=1)\n",
        "      correct += pred.eq(label).sum().item()\n",
        "    avg_loss = test_loss / len(test_loader.dataset)\n",
        "    accuracy  = correct / len(test_loader.dataset)\n",
        "    print(f'Test Loss: {avg_loss:.4f}, Accuracy: {accuracy:.4f}')\n",
        "\n",
        "evaluate_model(model, test_loader)"
      ],
      "metadata": {
        "colab": {
          "base_uri": "https://localhost:8080/"
        },
        "id": "vJCg_jlO0-Cm",
        "outputId": "ec7c2d2d-303a-4ea9-ca71-d4b8fdef636d"
      },
      "execution_count": 20,
      "outputs": [
        {
          "output_type": "stream",
          "name": "stdout",
          "text": [
            "Test Loss: 0.5018, Accuracy: 0.8275\n"
          ]
        }
      ]
    }
  ]
}