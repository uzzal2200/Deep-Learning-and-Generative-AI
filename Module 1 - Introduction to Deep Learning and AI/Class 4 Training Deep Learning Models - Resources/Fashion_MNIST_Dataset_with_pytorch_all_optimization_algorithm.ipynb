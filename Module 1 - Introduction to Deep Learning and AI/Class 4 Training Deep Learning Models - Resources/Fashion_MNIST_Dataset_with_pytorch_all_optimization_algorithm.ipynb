{
  "nbformat": 4,
  "nbformat_minor": 0,
  "metadata": {
    "colab": {
      "provenance": []
    },
    "kernelspec": {
      "name": "python3",
      "display_name": "Python 3"
    },
    "language_info": {
      "name": "python"
    }
  },
  "cells": [
    {
      "cell_type": "code",
      "execution_count": null,
      "metadata": {
        "id": "QJxYKV7u3kZO"
      },
      "outputs": [],
      "source": [
        "# import neccesary libaries\n",
        "import torch\n",
        "import torch.nn as nn\n",
        "import torch.optim as optim\n",
        "import torchvision.transforms as transforms\n",
        "import torchvision.datasets as datasets\n",
        "from torch.utils.data import DataLoader\n",
        "import matplotlib.pyplot as plt\n",
        "import numpy as np\n"
      ]
    },
    {
      "cell_type": "code",
      "source": [
        "# Define transformations for the training and testing sets\n",
        "\n",
        "transform = transforms.Compose([\n",
        "    transforms.ToTensor(),               # Convert images to PyTorch tensors (from [0, 255] to [0.0, 1.0])\n",
        "    transforms.Normalize((0.5,), (0.5,)) # Normalize: mean=0.5, std=0.5 → transforms [0.0, 1.0] to [-1, 1]\n",
        "])\n"
      ],
      "metadata": {
        "id": "iQ1xy2kr4_cn"
      },
      "execution_count": null,
      "outputs": []
    },
    {
      "cell_type": "code",
      "source": [
        "# Download and load the tranining data\n",
        "trainset = datasets.FashionMNIST(\n",
        "    root = './data',     # Directory to store the dataset\n",
        "    train = True,        # Specifies training set\n",
        "    download = True,\n",
        "    transform = transform\n",
        ")"
      ],
      "metadata": {
        "id": "bV_58esf6EQ3",
        "colab": {
          "base_uri": "https://localhost:8080/"
        },
        "outputId": "a483fd3e-4f71-4975-f6c5-a4919035a2c1"
      },
      "execution_count": null,
      "outputs": [
        {
          "output_type": "stream",
          "name": "stderr",
          "text": [
            "100%|██████████| 26.4M/26.4M [00:02<00:00, 10.7MB/s]\n",
            "100%|██████████| 29.5k/29.5k [00:00<00:00, 166kB/s]\n",
            "100%|██████████| 4.42M/4.42M [00:01<00:00, 3.15MB/s]\n",
            "100%|██████████| 5.15k/5.15k [00:00<00:00, 16.3MB/s]\n"
          ]
        }
      ]
    },
    {
      "cell_type": "markdown",
      "source": [
        "shuffle=True মানে হল — ডেটাসেট থেকে ডেটা লোড করার আগে প্রতিবার এলোমেলো (random) করে ফেলা হবে। অর্থাৎ, প্রতিটি epoch-এ ডেটাগুলোর ক্রম (order) পরিবর্তন হয়ে যাবে।\n",
        "\n",
        "কেন shuffle=True ব্যবহার করা হয়?\n",
        "Overfitting কমায়:\n",
        "\n",
        "যদি ডেটা সব সময় একি ক্রমে মডেল দেখত, তাহলে মডেল ওই ক্রম মনে রাখার চেষ্টা করতে পারে, যেটা overfitting ডেকে আনতে পারে।\n",
        "\n",
        "Generalization উন্নত করে:\n",
        "\n",
        "এলোমেলোভাবে ডেটা দিলে মডেল প্রতিবার ভিন্ন ডেটা ক্রম দেখে শেখে, ফলে তা নতুন ডেটার ওপর ভালো পারফর্ম করে।\n",
        "\n",
        "Bias কমায়:\n",
        "\n",
        "যদি ডেটাসেট কোনো নির্দিষ্ট অর্ডারে থাকে (যেমন, প্রথমে সব ‘happy’, পরে সব ‘sad’ ডেটা), তাহলে মডেল biased হয়ে যেতে পারে। Shuffle করলে এ সমস্যা দূর হয়।\n",
        "\n",
        "ধরা যাক, আপনার ডেটাসেটে ৮টি ডেটা আছে:\n",
        "[1, 2, 3, 4, 5, 6, 7, 8]\n",
        "\n",
        "যদি shuffle=False, তাহলে প্রতিটি epoch-এ আপনি এটাই পাবেন।\n",
        "\n",
        "কিন্তু shuffle=True দিলে প্রতিবারের অর্ডার হতে পারে:\n",
        "\n",
        "Epoch 1: [3, 1, 6, 2, 8, 4, 5, 7]\n",
        "\n",
        "Epoch 2: [5, 2, 4, 1, 8, 6, 7, 3]"
      ],
      "metadata": {
        "id": "D5h6XU548Ezt"
      }
    },
    {
      "cell_type": "code",
      "source": [
        "trainloader = DataLoader(trainset, batch_size=4, shuffle=True)"
      ],
      "metadata": {
        "id": "EAOpUqcV6tSP"
      },
      "execution_count": null,
      "outputs": []
    },
    {
      "cell_type": "code",
      "source": [
        "testset = datasets.FashionMNIST(\n",
        "    root = './data',\n",
        "    train = False ,\n",
        "    download=True,\n",
        "    transform = transform\n",
        "\n",
        ")"
      ],
      "metadata": {
        "id": "HGxgvQIx89Dm"
      },
      "execution_count": null,
      "outputs": []
    },
    {
      "cell_type": "code",
      "source": [
        "testloader = DataLoader(testset, batch_size=4, shuffle = False)\n"
      ],
      "metadata": {
        "id": "LBUE2xQr9ep1"
      },
      "execution_count": null,
      "outputs": []
    },
    {
      "cell_type": "code",
      "source": [
        "# Map numeric labels to class names\n",
        "\n",
        "classes = ['T-shirt/top', 'Trouser', 'Pullover', 'Dress', 'Coat', 'Sandal', 'Shirt', 'Sneaker', 'Bag', 'Ankle boot']\n"
      ],
      "metadata": {
        "id": "PcnFTVJ8-UO-"
      },
      "execution_count": null,
      "outputs": []
    },
    {
      "cell_type": "code",
      "source": [
        "# Function to show an image\n",
        "def imshow(img):\n",
        "  img = img / 2 + 0.5 # unnormlalize the image\n",
        "\n",
        "  npimg = img.numpy()\n",
        "  plt.imshow(np.squeeze(npimg), cmap='gray')\n",
        "  plt.axis('off')\n",
        "  plt.show()\n",
        "\n",
        "# Get some random training images\n",
        "\n",
        "dataiter = iter(trainloader)\n",
        "images,labels = next(dataiter)\n",
        "\n",
        "# show one image\n",
        "imshow(images[0])\n",
        "print('Label :',classes[labels[0]])"
      ],
      "metadata": {
        "colab": {
          "base_uri": "https://localhost:8080/",
          "height": 423
        },
        "id": "_7rUImpo-4q1",
        "outputId": "ac4d746d-a81e-4db5-95cd-dc840b4abed3"
      },
      "execution_count": null,
      "outputs": [
        {
          "output_type": "display_data",
          "data": {
            "text/plain": [
              "<Figure size 640x480 with 1 Axes>"
            ],
            "image/png": "[encoded data removed]"
          },
          "metadata": {}
        },
        {
          "output_type": "stream",
          "name": "stdout",
          "text": [
            "Label : Sandal\n"
          ]
        }
      ]
    },
    {
      "cell_type": "code",
      "source": [
        "# Define the Neural Network with Dropout\n",
        "\n",
        "class NetwithDropout(nn.Module):\n",
        "  def __init__(self):\n",
        "    super(NetwithDropout, self).__init__()\n",
        "    self.fc1 = nn.Linear(28 * 28, 256)  # First fully connected layer: input 784 (28x28 image) → 256 neurons\n",
        "    self.dropout1 = nn.Dropout(0.5)   # Dropout layer with 50% drop probability to prevent overfitting\n",
        "    self.relu1 = nn.ReLU()\n",
        "\n",
        "    # Second fully connected layer: 256 → 128\n",
        "    self.fc2 = nn.Linear(256, 128)\n",
        "    self.dropout2 = nn.Dropout(0.5)\n",
        "    self.relu2 = nn.ReLU()\n",
        "\n",
        "    # Third fully connected layer: 128 → 64\n",
        "    self.fc3 = nn.Linear(128, 64)\n",
        "    self.dropout3 = nn.Dropout(0.5)\n",
        "    self.relu3 = nn.ReLU()\n",
        "\n",
        "    # Output layer: 64 → 10 (for 10 FashionMNIST classes)\n",
        "    self.fc4 = nn.Linear(64, 10)\n",
        "  def forward(self,x):\n",
        "    # Flatten the 2D image to 1D vector: [batch_size, 1, 28, 28] → [batch_size, 784]\n",
        "    x = x.view(-1, 28 * 28) # The '-1' lets PyTorch automatically infer the batch size based on the input\n",
        "    # It keeps the first dimension dynamic and calculates it so that the total number of elements remains unchanged\n",
        "    x = self.dropout1(self.relu1(self.fc1(x)))\n",
        "    x = self.dropout2(self.relu2(self.fc2(x)))\n",
        "    x = self.dropout3(self.relu3(self.fc3(x)))\n",
        "    x = self.fc4(x)\n",
        "    return x\n",
        "\n",
        "net = NetwithDropout()\n",
        "\n"
      ],
      "metadata": {
        "id": "ObcVxdh3CHWK"
      },
      "execution_count": null,
      "outputs": []
    },
    {
      "cell_type": "code",
      "source": [
        "# Choosing Loss Function and Optimizer\n",
        "\n",
        "criterion = nn.CrossEntropyLoss()  # Suitable for multi-class classification tasks\n",
        "optimizer = optim.Adam(net.parameters(), lr=0.001, weight_decay=0.001)\n",
        "# Adam optimizer with L2 regularization (weight decay) to reduce overfitting\n",
        "\n",
        "# Training Parameters and Variables\n",
        "\n",
        "num_epochs = 10                    # Number of full passes through the training dataset\n",
        "train_losses = []                 # List to store training loss after each epoch\n",
        "val_losses = []                   # List to store validation loss after each epoch\n",
        "best_val_loss = float('inf')     # Initialize best validation loss as infinity\n",
        "patience = 3                     # Early stopping will trigger after 3 epochs with no improvement\n",
        "trigger_times = 0                # Counter for epochs without improvement\n",
        "\n",
        "# Training Loop with Early Stopping\n",
        "\n",
        "for epoch in range(num_epochs):\n",
        "    net.train()  # Set the model to training mode (activates dropout, batchnorm, etc.)\n",
        "    running_train_loss = 0.0\n",
        "\n",
        "    for inputs, labels in trainloader:\n",
        "        optimizer.zero_grad()             # Clear previously accumulated gradients\n",
        "        outputs = net(inputs)             # Forward pass: compute model predictions\n",
        "        loss = criterion(outputs, labels) # Compute the loss between predictions and labels\n",
        "        loss.backward()                   # Backward pass: compute gradients\n",
        "        optimizer.step()                  # Update model parameters based on gradients\n",
        "\n",
        "        running_train_loss += loss.item()  # Accumulate training loss\n",
        "\n",
        "    train_loss = running_train_loss / len(trainloader)  # Average training loss per epoch\n",
        "    train_losses.append(train_loss)                     # Store it for future visualization\n",
        "\n",
        "    net.eval()  # Set the model to evaluation mode (disables dropout, batchnorm behavior)\n",
        "    running_val_loss = 0.0\n",
        "    with torch.no_grad():  # Disable gradient tracking for validation (saves memory and time)\n",
        "        for inputs, labels in testloader:\n",
        "            outputs = net(inputs)               # Forward pass on validation data\n",
        "            loss = criterion(outputs, labels)   # Compute validation loss\n",
        "            running_val_loss += loss.item()     # Accumulate validation loss\n",
        "\n",
        "    val_loss = running_val_loss / len(testloader)  # Average validation loss per epoch\n",
        "    val_losses.append(val_loss)                    # Store for tracking\n",
        "\n",
        "    print(f\"Epoch [{epoch + 1}/{num_epochs}], Training Loss: {train_loss:.4f}, Validation Loss: {val_loss:.4f}\")\n",
        "\n",
        "    # Early stopping logic\n",
        "    if val_loss < best_val_loss:\n",
        "        best_val_loss = val_loss           # Update best validation loss\n",
        "        trigger_times = 0                  # Reset early stopping counter\n",
        "        torch.save(net.state_dict(), 'best_model.pth')  # Save the model's weights\n",
        "    else:\n",
        "        trigger_times += 1                # No improvement, increment counter\n",
        "        if trigger_times >= patience:     # If no improvement for 'patience' epochs\n",
        "            print('Early stopping!')      # Stop training early\n",
        "            break\n",
        "\n"
      ],
      "metadata": {
        "id": "rHpPKZd1UHnF",
        "colab": {
          "base_uri": "https://localhost:8080/"
        },
        "outputId": "d71fabfd-c1a6-4427-c26c-eb0f211cecc7"
      },
      "execution_count": null,
      "outputs": [
        {
          "output_type": "stream",
          "name": "stdout",
          "text": [
            "Epoch [1/10], Training Loss: 0.9097, Validation Loss: 0.6396\n",
            "Epoch [2/10], Training Loss: 0.8237, Validation Loss: 0.5753\n",
            "Epoch [3/10], Training Loss: 0.8048, Validation Loss: 0.6455\n",
            "Epoch [4/10], Training Loss: 0.7929, Validation Loss: 0.5849\n",
            "Epoch [5/10], Training Loss: 0.7956, Validation Loss: 0.5769\n",
            "Early stopping!\n"
          ]
        }
      ]
    },
    {
      "cell_type": "code",
      "source": [
        "# 6. Loading the Best Model\n",
        "\n",
        "net.load_state_dict(torch.load('best_model.pth'))\n",
        "\n",
        "# 7. Plotting the Losses\n",
        "\n",
        "plt.plot(train_losses, label='Training Loss')\n",
        "plt.plot(val_losses, label='Validation Loss')\n",
        "plt.xlabel('Epoch')\n",
        "plt.ylabel('Loss')\n",
        "plt.title('Training and Validation Loss')\n",
        "plt.legend()\n",
        "plt.grid(True)\n",
        "plt.show()"
      ],
      "metadata": {
        "colab": {
          "base_uri": "https://localhost:8080/",
          "height": 472
        },
        "id": "Qpg2op7Ne4I9",
        "outputId": "0a85e2cc-379e-4e5b-e87e-b78964f0bdb6"
      },
      "execution_count": null,
      "outputs": [
        {
          "output_type": "display_data",
          "data": {
            "text/plain": [
              "<Figure size 640x480 with 1 Axes>"
            ],
            "image/png": "[encoded data removed]"
          },
          "metadata": {}
        }
      ]
    },
    {
      "cell_type": "code",
      "source": [
        "def evaluate_network():\n",
        "    net.eval()  # Set the model to evaluation mode (disables dropout, etc.)\n",
        "\n",
        "    correct = 0     # Total correct predictions\n",
        "    total = 0       # Total number of samples\n",
        "\n",
        "    # For per-class accuracy tracking\n",
        "    class_correct = [0] * 10  # Correct predictions per class (10 classes in FashionMNIST)\n",
        "    class_total = [0] * 10    # Total samples per class\n",
        "\n",
        "    with torch.no_grad():  # Disable gradient computation for efficiency\n",
        "        for inputs, labels in testloader:\n",
        "            outputs = net(inputs)                  # Forward pass\n",
        "            _, predicted = torch.max(outputs, 1)   # Get class with highest score\n",
        "            total += labels.size(0)                # Count total samples\n",
        "            correct += (predicted == labels).sum().item()  # Count correct predictions\n",
        "\n",
        "            # Track per-class accuracy\n",
        "            c = (predicted == labels).squeeze()    # Boolean array of correct predictions\n",
        "            for i in range(len(labels)):\n",
        "                label = labels[i]                  # True label\n",
        "                class_correct[label] += c[i].item()  # Increment correct count for that class\n",
        "                class_total[label] += 1              # Increment total count for that class\n",
        "\n",
        "    # Print overall test accuracy\n",
        "    print(f'Overall Accuracy on the test set: {100 * correct / total:.2f}%\\n')\n",
        "\n",
        "    # Print per-class accuracy\n",
        "    for i in range(10):\n",
        "        if class_total[i] > 0:\n",
        "            print(f'Accuracy of {classes[i]:>10s}: {100 * class_correct[i] / class_total[i]:.2f}%')\n",
        "        else:\n",
        "            print(f'Accuracy of {classes[i]:>10s}: N/A (no samples)')  # Just in case a class had 0 samples\n",
        "\n",
        "# Call the evaluation function\n",
        "evaluate_network()\n"
      ],
      "metadata": {
        "colab": {
          "base_uri": "https://localhost:8080/"
        },
        "id": "it4OjKCue9iz",
        "outputId": "dd72fd71-e909-412b-d56b-09b8cb34d649"
      },
      "execution_count": null,
      "outputs": [
        {
          "output_type": "stream",
          "name": "stdout",
          "text": [
            "Overall Accuracy on the test set: 79.66%\n",
            "\n",
            "Accuracy of T-shirt/top: 88.00%\n",
            "Accuracy of    Trouser: 94.90%\n",
            "Accuracy of   Pullover: 71.50%\n",
            "Accuracy of      Dress: 71.50%\n",
            "Accuracy of       Coat: 73.90%\n",
            "Accuracy of     Sandal: 90.00%\n",
            "Accuracy of      Shirt: 40.60%\n",
            "Accuracy of    Sneaker: 78.40%\n",
            "Accuracy of        Bag: 92.70%\n",
            "Accuracy of Ankle boot: 95.10%\n"
          ]
        }
      ]
    },
    {
      "cell_type": "markdown",
      "source": [
        "## Create the scnario of the Exployding Gradient Decent & Implement Gradient clipping"
      ],
      "metadata": {
        "id": "akFLLui4fFE0"
      }
    },
    {
      "cell_type": "code",
      "source": [
        "# Import necessary libraries\n",
        "import torch\n",
        "import torch.nn as nn\n",
        "import torch.optim as optim\n",
        "import torchvision\n",
        "import torchvision.transforms as transforms\n",
        "import matplotlib.pyplot as plt\n",
        "import numpy as np\n",
        "\n",
        "# 1. Data Import, Preparation, and Preprocessing\n",
        "\n",
        "# Define transformations for the training and testing sets\n",
        "transform = transforms.Compose([\n",
        "    transforms.ToTensor(),  # Convert images to PyTorch tensors\n",
        "    transforms.Normalize((0.5,), (0.5,))  # Normalize the data to [-1, 1]\n",
        "])\n",
        "\n",
        "# Download and load the training data\n",
        "trainset = torchvision.datasets.FashionMNIST(\n",
        "    root='./data',\n",
        "    train=True,\n",
        "    download=True,\n",
        "    transform=transform\n",
        ")\n",
        "trainloader = torch.utils.data.DataLoader(\n",
        "    trainset,\n",
        "    batch_size=64,\n",
        "    shuffle=True\n",
        ")\n",
        "\n",
        "# Download and load the testing data\n",
        "testset = torchvision.datasets.FashionMNIST(\n",
        "    root='./data',\n",
        "    train=False,\n",
        "    download=True,\n",
        "    transform=transform\n",
        ")\n",
        "testloader = torch.utils.data.DataLoader(\n",
        "    testset,\n",
        "    batch_size=64,\n",
        "    shuffle=False\n",
        ")\n",
        "\n",
        "# Map numeric labels to class names\n",
        "classes = ['T-shirt/top', 'Trouser', 'Pullover', 'Dress', 'Coat',\n",
        "           'Sandal', 'Shirt', 'Sneaker', 'Bag', 'Ankle boot']\n",
        "\n",
        "# 2. Defining the Neural Network\n",
        "\n",
        "class SimpleNet(nn.Module):\n",
        "    def __init__(self):\n",
        "        super(SimpleNet, self).__init__()\n",
        "        self.fc1 = nn.Linear(28 * 28, 512)\n",
        "        self.relu1 = nn.ReLU()\n",
        "        self.fc2 = nn.Linear(512, 256)\n",
        "        self.relu2 = nn.ReLU()\n",
        "        self.fc3 = nn.Linear(256, 128)\n",
        "        self.relu3 = nn.ReLU()\n",
        "        self.fc4 = nn.Linear(128, 64)\n",
        "        self.relu4 = nn.ReLU()\n",
        "        self.fc5 = nn.Linear(64, 10)  # Output layer\n",
        "\n",
        "    def forward(self, x):\n",
        "        x = x.view(-1, 28 * 28)\n",
        "        x = self.relu1(self.fc1(x))\n",
        "        x = self.relu2(self.fc2(x))\n",
        "        x = self.relu3(self.fc3(x))\n",
        "        x = self.relu4(self.fc4(x))\n",
        "        x = self.fc5(x)\n",
        "        return x\n"
      ],
      "metadata": {
        "id": "xPVZkTrVfGrr"
      },
      "execution_count": null,
      "outputs": []
    },
    {
      "cell_type": "code",
      "source": [
        "# 3. Demonstrating the Exploding Gradient Problem\n",
        "\n",
        "def train_without_clipping(net, optimizer, criterion, num_epochs=5):\n",
        "    print(\"\\nTraining without Gradient Clipping\")\n",
        "    net.train()\n",
        "\n",
        "    train_losses = []\n",
        "    for epoch in range(num_epochs):\n",
        "        running_loss = 0.0\n",
        "        for inputs, labels in trainloader:\n",
        "            optimizer.zero_grad()\n",
        "            outputs = net(inputs)\n",
        "            loss = criterion(outputs, labels)\n",
        "            loss.backward()\n",
        "            optimizer.step()\n",
        "            running_loss += loss.item()\n",
        "        epoch_loss = running_loss / len(trainloader)\n",
        "        train_losses.append(epoch_loss)\n",
        "        print(f\"Epoch [{epoch + 1}/{num_epochs}], Loss: {epoch_loss:.4f}\")\n",
        "\n",
        "    print('Finished Training without Clipping')\n",
        "    return train_losses\n",
        "\n",
        "# Initialize the network\n",
        "net = SimpleNet()\n",
        "\n",
        "# Define loss function and optimizer with a high learning rate\n",
        "criterion = nn.CrossEntropyLoss()\n",
        "optimizer = optim.SGD(net.parameters(), lr=1.0)  # High learning rate\n",
        "\n",
        "# Train the network\n",
        "losses_without_clipping = train_without_clipping(net, optimizer, criterion, num_epochs=5)\n",
        "\n",
        "# Plot the training losses\n",
        "plt.figure()\n",
        "plt.plot(losses_without_clipping, label='Training Loss without Clipping')\n",
        "plt.title('Training Loss without Gradient Clipping')\n",
        "plt.xlabel('Epoch')\n",
        "plt.ylabel('Loss')\n",
        "plt.legend()\n",
        "plt.grid(True)\n",
        "plt.show()"
      ],
      "metadata": {
        "colab": {
          "base_uri": "https://localhost:8080/",
          "height": 611
        },
        "id": "uNkrHbnnfV_d",
        "outputId": "07bb499c-ba4b-412a-d92e-b65b10a94957"
      },
      "execution_count": null,
      "outputs": [
        {
          "output_type": "stream",
          "name": "stdout",
          "text": [
            "\n",
            "Training without Gradient Clipping\n",
            "Epoch [1/5], Loss: 2.2218\n",
            "Epoch [2/5], Loss: 2.3061\n",
            "Epoch [3/5], Loss: 2.3064\n",
            "Epoch [4/5], Loss: 2.3064\n",
            "Epoch [5/5], Loss: 2.3064\n",
            "Finished Training without Clipping\n"
          ]
        },
        {
          "output_type": "display_data",
          "data": {
            "text/plain": [
              "<Figure size 640x480 with 1 Axes>"
            ],
            "image/png": "[encoded data removed]"
          },
          "metadata": {}
        }
      ]
    },
    {
      "cell_type": "code",
      "source": [
        "# 5. Solving the Exploding Gradient Problem\n",
        "\n",
        "def train_with_clipping(net, optimizer, criterion, clip_value=1.0, num_epochs=5):\n",
        "    print(\"\\nTraining with Gradient Clipping\")\n",
        "    net.train()\n",
        "\n",
        "    train_losses = []\n",
        "    for epoch in range(num_epochs):\n",
        "        running_loss = 0.0\n",
        "        for inputs, labels in trainloader:\n",
        "            optimizer.zero_grad()\n",
        "            outputs = net(inputs)\n",
        "            loss = criterion(outputs, labels)\n",
        "            loss.backward()\n",
        "            # Apply gradient clipping\n",
        "            torch.nn.utils.clip_grad_norm_(net.parameters(), clip_value)\n",
        "            optimizer.step()\n",
        "            running_loss += loss.item()\n",
        "        epoch_loss = running_loss / len(trainloader)\n",
        "        train_losses.append(epoch_loss)\n",
        "        print(f\"Epoch [{epoch + 1}/{num_epochs}], Loss: {epoch_loss:.4f}\")\n",
        "\n",
        "    print('Finished Training with Clipping')\n",
        "    return train_losses\n",
        "\n",
        "# Re-initialize the network\n",
        "net_clipped = SimpleNet()\n",
        "\n",
        "# Define loss function and optimizer with the same high learning rate\n",
        "optimizer_clipped = optim.SGD(net_clipped.parameters(), lr=1.0)  # High learning rate\n",
        "\n",
        "# Train the network with gradient clipping\n",
        "losses_with_clipping = train_with_clipping(net_clipped, optimizer_clipped, criterion, clip_value=1.0, num_epochs=5)\n",
        "\n",
        "# Plot the training losses\n",
        "plt.figure()\n",
        "plt.plot(losses_without_clipping, label='Without Clipping')\n",
        "plt.plot(losses_with_clipping, label='With Clipping')\n",
        "plt.title('Training Loss Comparison')\n",
        "plt.xlabel('Epoch')\n",
        "plt.ylabel('Loss')\n",
        "plt.legend()\n",
        "plt.grid(True)\n",
        "plt.show()\n"
      ],
      "metadata": {
        "colab": {
          "base_uri": "https://localhost:8080/",
          "height": 611
        },
        "id": "pHtJhs_FfiZM",
        "outputId": "14188563-f4ac-4304-fc9e-78901aa9cd96"
      },
      "execution_count": null,
      "outputs": [
        {
          "output_type": "stream",
          "name": "stdout",
          "text": [
            "\n",
            "Training with Gradient Clipping\n",
            "Epoch [1/5], Loss: 0.7893\n",
            "Epoch [2/5], Loss: 0.5080\n",
            "Epoch [3/5], Loss: 0.4509\n",
            "Epoch [4/5], Loss: 0.4156\n",
            "Epoch [5/5], Loss: 0.3957\n",
            "Finished Training with Clipping\n"
          ]
        },
        {
          "output_type": "display_data",
          "data": {
            "text/plain": [
              "<Figure size 640x480 with 1 Axes>"
            ],
            "image/png": "[encoded data removed]"
          },
          "metadata": {}
        }
      ]
    },
    {
      "cell_type": "code",
      "source": [
        "\n",
        "# 7. Evaluating the Model Trained With Gradient Clipping\n",
        "\n",
        "def evaluate_model(net):\n",
        "    net.eval()\n",
        "    correct = 0\n",
        "    total = 0\n",
        "    with torch.no_grad():\n",
        "        for inputs, labels in testloader:\n",
        "            outputs = net(inputs)\n",
        "            _, predicted = torch.max(outputs, 1)\n",
        "            total += labels.size(0)\n",
        "            correct += (predicted == labels).sum().item()\n",
        "    print(f'Accuracy on the test set: {100 * correct / total:.2f}%')\n",
        "\n",
        "# Evaluate the model trained without clipping\n",
        "print(\"\\nEvaluating model trained without gradient clipping (may fail due to NaNs):\")\n",
        "evaluate_model(net)\n",
        "\n",
        "# Evaluate the model trained with clipping\n",
        "print(\"\\nEvaluating model trained with gradient clipping:\")\n",
        "evaluate_model(net_clipped)\n"
      ],
      "metadata": {
        "colab": {
          "base_uri": "https://localhost:8080/"
        },
        "id": "i1IB1z-ohFR-",
        "outputId": "83d7297c-0e98-4162-a735-43ccd0d9751f"
      },
      "execution_count": null,
      "outputs": [
        {
          "output_type": "stream",
          "name": "stdout",
          "text": [
            "\n",
            "Evaluating model trained without gradient clipping (may fail due to NaNs):\n",
            "Accuracy on the test set: 10.00%\n",
            "\n",
            "Evaluating model trained with gradient clipping:\n",
            "Accuracy on the test set: 82.20%\n"
          ]
        }
      ]
    },
    {
      "cell_type": "markdown",
      "source": [
        "### Experiments with the Adam Optimizer\n"
      ],
      "metadata": {
        "id": "-nKt2v1rfrVs"
      }
    },
    {
      "cell_type": "code",
      "source": [
        "# Import necessary libraries\n",
        "import torch\n",
        "import torch.nn as nn\n",
        "import torch.optim as optim\n",
        "import torchvision\n",
        "import torchvision.transforms as transforms\n",
        "import matplotlib.pyplot as plt\n",
        "import numpy as np\n",
        "\n",
        "# 1. Data Import, Preparation, and Preprocessing\n",
        "\n",
        "# Define transformations for the training and testing sets\n",
        "transform = transforms.Compose([\n",
        "    transforms.ToTensor(),  # Convert images to PyTorch tensors\n",
        "    transforms.Normalize((0.5,), (0.5,))  # Normalize the data to [-1, 1]\n",
        "])\n",
        "\n",
        "# Download and load the training data\n",
        "trainset = torchvision.datasets.FashionMNIST(\n",
        "    root='./data',\n",
        "    train=True,\n",
        "    download=True,\n",
        "    transform=transform\n",
        ")\n",
        "trainloader = torch.utils.data.DataLoader(\n",
        "    trainset,\n",
        "    batch_size=64,\n",
        "    shuffle=True\n",
        ")\n",
        "\n",
        "# Download and load the testing data\n",
        "testset = torchvision.datasets.FashionMNIST(\n",
        "    root='./data',\n",
        "    train=False,\n",
        "    download=True,\n",
        "    transform=transform\n",
        ")\n",
        "testloader = torch.utils.data.DataLoader(\n",
        "    testset,\n",
        "    batch_size=64,\n",
        "    shuffle=False\n",
        ")\n",
        "\n",
        "# Map numeric labels to class names\n",
        "classes = ['T-shirt/top', 'Trouser', 'Pullover', 'Dress', 'Coat',\n",
        "           'Sandal', 'Shirt', 'Sneaker', 'Bag', 'Ankle boot']\n",
        "\n",
        "# 2. Defining the Neural Network\n",
        "\n",
        "class SimpleNet(nn.Module):\n",
        "    def __init__(self):\n",
        "        super(SimpleNet, self).__init__()\n",
        "        self.fc1 = nn.Linear(28 * 28, 512)\n",
        "        self.relu1 = nn.ReLU()\n",
        "        self.fc2 = nn.Linear(512, 256)\n",
        "        self.relu2 = nn.ReLU()\n",
        "        self.fc3 = nn.Linear(256, 128)\n",
        "        self.relu3 = nn.ReLU()\n",
        "        self.fc4 = nn.Linear(128, 64)\n",
        "        self.relu4 = nn.ReLU()\n",
        "        self.fc5 = nn.Linear(64, 10)  # Output layer\n",
        "\n",
        "    def forward(self, x):\n",
        "        x = x.view(-1, 28 * 28)\n",
        "        x = self.relu1(self.fc1(x))\n",
        "        x = self.relu2(self.fc2(x))\n",
        "        x = self.relu3(self.fc3(x))\n",
        "        x = self.relu4(self.fc4(x))\n",
        "        x = self.fc5(x)\n",
        "        return x\n"
      ],
      "metadata": {
        "id": "bL8cxzbDftM-"
      },
      "execution_count": null,
      "outputs": []
    },
    {
      "cell_type": "code",
      "source": [
        "\n",
        "# 3. Training Function Without Gradient Clipping (Using Adam Optimizer)\n",
        "\n",
        "def train_with_optimizer(net, optimizer, criterion, num_epochs=5):\n",
        "    print(\"\\nTraining with Optimizer (Adam)\")\n",
        "    net.train()\n",
        "\n",
        "    train_losses = []\n",
        "    for epoch in range(num_epochs):\n",
        "        running_loss = 0.0\n",
        "        for inputs, labels in trainloader:\n",
        "            optimizer.zero_grad()\n",
        "            outputs = net(inputs)\n",
        "            loss = criterion(outputs, labels)\n",
        "            loss.backward()\n",
        "            optimizer.step()\n",
        "            running_loss += loss.item()\n",
        "        epoch_loss = running_loss / len(trainloader)\n",
        "        train_losses.append(epoch_loss)\n",
        "        print(f\"Epoch [{epoch + 1}/{num_epochs}], Loss: {epoch_loss:.4f}\")\n",
        "\n",
        "    print('Finished Training with Optimizer (Adam)')\n",
        "    return train_losses\n",
        "\n",
        "# Initialize the network\n",
        "net = SimpleNet()\n",
        "\n",
        "# Define loss function and optimizer\n",
        "criterion = nn.CrossEntropyLoss()\n",
        "optimizer = optim.Adam(net.parameters(), lr=0.001)  # Using Adam optimizer\n",
        "\n",
        "# Train the network\n",
        "losses_with_optimizer = train_with_optimizer(net, optimizer, criterion, num_epochs=5)\n",
        "\n",
        "# Plot the training losses\n",
        "plt.figure()\n",
        "plt.plot(losses_with_optimizer, label='Training Loss with Adam Optimizer')\n",
        "plt.title('Training Loss with Adam Optimizer')\n",
        "plt.xlabel('Epoch')\n",
        "plt.ylabel('Loss')\n",
        "plt.legend()\n",
        "plt.grid(True)\n",
        "plt.show()"
      ],
      "metadata": {
        "colab": {
          "base_uri": "https://localhost:8080/",
          "height": 611
        },
        "id": "xRSNGXDphus2",
        "outputId": "76d9a5be-3c49-4cbb-8619-a86bd48f9177"
      },
      "execution_count": null,
      "outputs": [
        {
          "output_type": "stream",
          "name": "stdout",
          "text": [
            "\n",
            "Training with Optimizer (Adam)\n",
            "Epoch [1/5], Loss: 0.5323\n",
            "Epoch [2/5], Loss: 0.3797\n",
            "Epoch [3/5], Loss: 0.3416\n",
            "Epoch [4/5], Loss: 0.3147\n",
            "Epoch [5/5], Loss: 0.2965\n",
            "Finished Training with Optimizer (Adam)\n"
          ]
        },
        {
          "output_type": "display_data",
          "data": {
            "text/plain": [
              "<Figure size 640x480 with 1 Axes>"
            ],
            "image/png": "[encoded data removed]"
          },
          "metadata": {}
        }
      ]
    },
    {
      "cell_type": "code",
      "source": [
        "# 4. Evaluating the Model Trained with Adam Optimizer\n",
        "\n",
        "def evaluate_model(net):\n",
        "    net.eval()\n",
        "    correct = 0\n",
        "    total = 0\n",
        "    with torch.no_grad():\n",
        "        for inputs, labels in testloader:\n",
        "            outputs = net(inputs)\n",
        "            _, predicted = torch.max(outputs, 1)\n",
        "            total += labels.size(0)\n",
        "            correct += (predicted == labels).sum().item()\n",
        "    print(f'Accuracy on the test set: {100 * correct / total:.2f}%')\n",
        "\n",
        "# Evaluate the model\n",
        "print(\"\\nEvaluating model trained with Adam optimizer:\")\n",
        "evaluate_model(net)\n"
      ],
      "metadata": {
        "colab": {
          "base_uri": "https://localhost:8080/"
        },
        "id": "mYrJQ-OViVNG",
        "outputId": "58ea6c5e-0ada-478f-f63d-3aac54f80e4f"
      },
      "execution_count": null,
      "outputs": [
        {
          "output_type": "stream",
          "name": "stdout",
          "text": [
            "\n",
            "Evaluating model trained with Adam optimizer:\n",
            "Accuracy on the test set: 87.28%\n"
          ]
        }
      ]
    },
    {
      "cell_type": "markdown",
      "source": [
        "## Implementation of L1 & L2 Regularization with optimizer\n"
      ],
      "metadata": {
        "id": "QqgRSVFakb0O"
      }
    },
    {
      "cell_type": "code",
      "source": [
        "import torch\n",
        "import torch.nn as nn\n",
        "import torch.optim as optim\n",
        "import torchvision\n",
        "import torchvision.transforms as transforms\n",
        "import matplotlib.pyplot as plt\n",
        "\n",
        "# 1. Data Import, Preparation, and Preprocessing\n",
        "transform = transforms.Compose([\n",
        "    transforms.ToTensor(),\n",
        "    transforms.Normalize((0.5,), (0.5,))\n",
        "])\n",
        "\n",
        "trainset = torchvision.datasets.FashionMNIST(\n",
        "    root='./data',\n",
        "    train=True,\n",
        "    download=True,\n",
        "    transform=transform\n",
        ")\n",
        "trainloader = torch.utils.data.DataLoader(trainset, batch_size=64, shuffle=True)\n",
        "\n",
        "testset = torchvision.datasets.FashionMNIST(\n",
        "    root='./data',\n",
        "    train=False,\n",
        "    download=True,\n",
        "    transform=transform\n",
        ")\n",
        "testloader = torch.utils.data.DataLoader(testset, batch_size=64, shuffle=False)\n",
        "\n",
        "# 2. Defining the Neural Network\n",
        "class SimpleNet(nn.Module):\n",
        "    def __init__(self):\n",
        "        super(SimpleNet, self).__init__()\n",
        "        self.fc1 = nn.Linear(28 * 28, 512)\n",
        "        self.fc2 = nn.Linear(512, 256)\n",
        "        self.fc3 = nn.Linear(256, 128)\n",
        "        self.fc4 = nn.Linear(128, 64)\n",
        "        self.fc5 = nn.Linear(64, 10)\n",
        "\n",
        "    def forward(self, x):\n",
        "        x = x.view(-1, 28 * 28)\n",
        "        x = torch.relu(self.fc1(x))\n",
        "        x = torch.relu(self.fc2(x))\n",
        "        x = torch.relu(self.fc3(x))\n",
        "        x = torch.relu(self.fc4(x))\n",
        "        x = self.fc5(x)\n",
        "        return x"
      ],
      "metadata": {
        "id": "oWXaYVyvkdFl"
      },
      "execution_count": null,
      "outputs": []
    },
    {
      "cell_type": "code",
      "source": [
        "# Initialize the network\n",
        "net = SimpleNet()\n",
        "\n",
        "# 3. Define the loss function (Cross-Entropy Loss) and optimizer\n",
        "criterion = nn.CrossEntropyLoss()\n",
        "\n",
        "# L2 Regularization using weight_decay in the optimizer\n",
        "optimizer_l2 = optim.Adam(net.parameters(), lr=0.001, weight_decay=0.01)  # L2 regularization\n",
        "\n",
        "# Function for training with L2 regularization (via weight_decay)\n",
        "def train_with_l2_regularization(net, optimizer, criterion, num_epochs=5):\n",
        "    print(\"\\nTraining with L2 Regularization\")\n",
        "    train_losses = []\n",
        "\n",
        "    for epoch in range(num_epochs):\n",
        "        net.train()\n",
        "        running_loss = 0.0\n",
        "        for inputs, labels in trainloader:\n",
        "            optimizer.zero_grad()         # Zero gradients\n",
        "            outputs = net(inputs)         # Forward pass\n",
        "            loss = criterion(outputs, labels)  # Compute loss\n",
        "            loss.backward()               # Backpropagation\n",
        "            optimizer.step()              # Update weights\n",
        "            running_loss += loss.item()\n",
        "\n",
        "        epoch_loss = running_loss / len(trainloader)\n",
        "        train_losses.append(epoch_loss)\n",
        "        print(f\"Epoch [{epoch + 1}/{num_epochs}], Loss: {epoch_loss:.4f}\")\n",
        "\n",
        "    return train_losses\n",
        "\n",
        "# Train the model with L2 regularization\n",
        "train_losses_l2 = train_with_l2_regularization(net, optimizer_l2, criterion, num_epochs=5)\n",
        "\n",
        "# Plot the training loss for L2 regularization\n",
        "plt.figure()\n",
        "plt.plot(train_losses_l2, label='L2 Regularization (weight_decay)')\n",
        "plt.title('Training Loss with L2 Regularization')\n",
        "plt.xlabel('Epoch')\n",
        "plt.ylabel('Loss')\n",
        "plt.legend()\n",
        "plt.grid(True)\n",
        "plt.show()"
      ],
      "metadata": {
        "colab": {
          "base_uri": "https://localhost:8080/",
          "height": 593
        },
        "id": "3rVAhq6dkogO",
        "outputId": "5abe02b8-8387-4ee9-f549-9252b15af61f"
      },
      "execution_count": null,
      "outputs": [
        {
          "output_type": "stream",
          "name": "stdout",
          "text": [
            "\n",
            "Training with L2 Regularization\n",
            "Epoch [1/5], Loss: 0.6717\n",
            "Epoch [2/5], Loss: 0.5369\n",
            "Epoch [3/5], Loss: 0.4976\n",
            "Epoch [4/5], Loss: 0.4821\n",
            "Epoch [5/5], Loss: 0.4626\n"
          ]
        },
        {
          "output_type": "display_data",
          "data": {
            "text/plain": [
              "<Figure size 640x480 with 1 Axes>"
            ],
            "image/png": "[encoded data removed]"
          },
          "metadata": {}
        }
      ]
    },
    {
      "cell_type": "code",
      "source": [
        "# 4. L1 Regularization Implementation (Manually Adding L1 to Loss)\n",
        "l1_lambda = 0.01  # The strength of L1 regularization\n",
        "\n",
        "# Function for training with manual L1 regularization\n",
        "def train_with_l1_regularization(net, optimizer, criterion, l1_lambda, num_epochs=5):\n",
        "    print(\"\\nTraining with L1 Regularization\")\n",
        "    train_losses = []\n",
        "\n",
        "    for epoch in range(num_epochs):\n",
        "        net.train()\n",
        "        running_loss = 0.0\n",
        "        for inputs, labels in trainloader:\n",
        "            optimizer.zero_grad()         # Zero gradients\n",
        "            outputs = net(inputs)         # Forward pass\n",
        "            loss = criterion(outputs, labels)  # Compute loss\n",
        "\n",
        "            # Manually add L1 regularization (sum of absolute values of weights)\n",
        "            l1_norm = sum(p.abs().sum() for p in net.parameters())\n",
        "            loss = loss + l1_lambda * l1_norm  # Add L1 penalty to the loss\n",
        "\n",
        "            loss.backward()               # Backpropagation\n",
        "            optimizer.step()              # Update weights\n",
        "            running_loss += loss.item()\n",
        "\n",
        "        epoch_loss = running_loss / len(trainloader)\n",
        "        train_losses.append(epoch_loss)\n",
        "        print(f\"Epoch [{epoch + 1}/{num_epochs}], Loss: {epoch_loss:.4f}\")\n",
        "\n",
        "    return train_losses\n",
        "\n",
        "# Reinitialize the network for L1 training\n",
        "net_l1 = SimpleNet()\n",
        "\n",
        "# Define the optimizer without weight_decay for L1 (since we'll add L1 manually)\n",
        "optimizer_l1 = optim.Adam(net_l1.parameters(), lr=0.001)\n",
        "\n",
        "# Train the model with L1 regularization\n",
        "train_losses_l1 = train_with_l1_regularization(net_l1, optimizer_l1, criterion, l1_lambda, num_epochs=5)\n",
        "\n",
        "# Plot the training loss for L1 regularization\n",
        "plt.figure()\n",
        "plt.plot(train_losses_l1, label='L1 Regularization (manual)')\n",
        "plt.title('Training Loss with L1 Regularization')\n",
        "plt.xlabel('Epoch')\n",
        "plt.ylabel('Loss')\n",
        "plt.legend()\n",
        "plt.grid(True)\n",
        "plt.show()\n"
      ],
      "metadata": {
        "colab": {
          "base_uri": "https://localhost:8080/"
        },
        "id": "H_DFDV0IkvqG",
        "outputId": "16499e47-6b0d-4f3b-8ef3-8d1b67c08973"
      },
      "execution_count": null,
      "outputs": [
        {
          "output_type": "stream",
          "name": "stdout",
          "text": [
            "\n",
            "Training with L1 Regularization\n",
            "Epoch [1/5], Loss: 4.9708\n",
            "Epoch [2/5], Loss: 3.0177\n",
            "Epoch [3/5], Loss: 3.0177\n",
            "Epoch [4/5], Loss: 3.0177\n",
            "Epoch [5/5], Loss: 3.0176\n"
          ]
        },
        {
          "output_type": "display_data",
          "data": {
            "text/plain": [
              "<Figure size 640x480 with 1 Axes>"
            ],
            "image/png": "[encoded data removed]"
          },
          "metadata": {}
        }
      ]
    },
    {
      "cell_type": "code",
      "source": [
        "# 5. Model Evaluation\n",
        "def evaluate_model(net, testloader):\n",
        "    net.eval()\n",
        "    correct = 0\n",
        "    total = 0\n",
        "    with torch.no_grad():\n",
        "        for inputs, labels in testloader:\n",
        "            outputs = net(inputs)\n",
        "            _, predicted = torch.max(outputs, 1)\n",
        "            total += labels.size(0)\n",
        "            correct += (predicted == labels).sum().item()\n",
        "    print(f'Accuracy: {100 * correct / total:.2f}%')\n",
        "\n",
        "# Evaluate the model trained with L2 regularization\n",
        "print(\"\\nEvaluating model trained with L2 regularization:\")\n",
        "evaluate_model(net, testloader)\n",
        "\n",
        "# Evaluate the model trained with L1 regularization\n",
        "print(\"\\nEvaluating model trained with L1 regularization:\")\n",
        "evaluate_model(net_l1, testloader)"
      ],
      "metadata": {
        "colab": {
          "base_uri": "https://localhost:8080/"
        },
        "id": "0FKZw11tkzHG",
        "outputId": "ed203c84-bb1f-46f7-ec9a-868517ed2105"
      },
      "execution_count": null,
      "outputs": [
        {
          "output_type": "stream",
          "name": "stdout",
          "text": [
            "\n",
            "Evaluating model trained with L2 regularization:\n",
            "Accuracy: 82.60%\n",
            "\n",
            "Evaluating model trained with L1 regularization:\n",
            "Accuracy: 10.00%\n"
          ]
        }
      ]
    },
    {
      "cell_type": "code",
      "source": [
        "import torch\n",
        "import torch.nn as nn\n",
        "import torch.optim as optim\n",
        "import torchvision\n",
        "import torchvision.transforms as transforms\n",
        "import matplotlib.pyplot as plt\n",
        "\n",
        "\n",
        "# 1. Data Import , Preparation , and Preprocessing\n",
        "\n",
        "transform = transforms.Compose([\n",
        "    transforms.ToTensor(),\n",
        "    transforms.Normalize((0.5), (0.5))\n",
        "])\n",
        "\n",
        "trainset = torchvision.datasets.FashionMNIST(\n",
        "    root = './data',\n",
        "    train=True,\n",
        "    download=True,\n",
        "    transform = transform\n",
        "\n",
        ")\n"
      ],
      "metadata": {
        "id": "nLmMPrzqzKGh",
        "colab": {
          "base_uri": "https://localhost:8080/"
        },
        "outputId": "52c6a10e-3a3f-4fc3-ba46-de1ce4ff3edc"
      },
      "execution_count": 4,
      "outputs": [
        {
          "output_type": "stream",
          "name": "stderr",
          "text": [
            "100%|██████████| 26.4M/26.4M [00:01<00:00, 16.5MB/s]\n",
            "100%|██████████| 29.5k/29.5k [00:00<00:00, 300kB/s]\n",
            "100%|██████████| 4.42M/4.42M [00:00<00:00, 5.50MB/s]\n",
            "100%|██████████| 5.15k/5.15k [00:00<00:00, 7.97MB/s]\n"
          ]
        }
      ]
    },
    {
      "cell_type": "code",
      "source": [
        "trainloader = torch.utils.data.DataLoader(trainset, batch_size=64, shuffle=True)"
      ],
      "metadata": {
        "id": "fH8Ql0d_z5Zo"
      },
      "execution_count": 5,
      "outputs": []
    },
    {
      "cell_type": "code",
      "source": [
        "testset = torchvision.datasets.FashionMNIST(\n",
        "    root = './data',\n",
        "    train=False,\n",
        "    download = True,\n",
        "    transform = transform\n",
        "\n",
        ")\n",
        "\n",
        "testloader = torch.utils.data.DataLoader(testset, batch_size=64, shuffle=False)\n"
      ],
      "metadata": {
        "id": "SpMaRxrs0G1X"
      },
      "execution_count": 6,
      "outputs": []
    },
    {
      "cell_type": "code",
      "source": [
        "# 2. Defining the Neural Network\n",
        "class SimpleNet(nn.Module):\n",
        "    def __init__(self):\n",
        "        super(SimpleNet, self).__init__()\n",
        "        self.fc1 = nn.Linear(28 * 28, 512)\n",
        "        self.fc2 = nn.Linear(512, 256)\n",
        "        self.fc3 = nn.Linear(256, 128)\n",
        "        self.fc4 = nn.Linear(128, 64)\n",
        "        self.fc5 = nn.Linear(64, 10)\n",
        "\n",
        "    def forward(self, x):\n",
        "        x = x.view(-1, 28 * 28)\n",
        "        x = torch.relu(self.fc1(x))\n",
        "        x = torch.relu(self.fc2(x))\n",
        "        x = torch.relu(self.fc3(x))\n",
        "        x = torch.relu(self.fc4(x))\n",
        "        x = self.fc5(x)\n",
        "        return x\n",
        "\n",
        "# Initialize the network\n",
        "net = SimpleNet()\n",
        "\n",
        "# 3. Define the loss function (Cross-Entropy Loss)\n",
        "criterion = nn.CrossEntropyLoss()\n",
        "\n",
        "# Dummy input and output (batch of 64 samples)\n",
        "inputs = torch.randn(64, 28 * 28)  # Example input (flattened images)\n",
        "labels = torch.randint(0, 10, (64,))  # Example output (random labels)\n"
      ],
      "metadata": {
        "id": "nDDReSuq0ogX"
      },
      "execution_count": 21,
      "outputs": []
    },
    {
      "cell_type": "code",
      "source": [
        "# 4. Optimizer Functions and Training Steps\n",
        "\n",
        "def train_model_with_optimizer(optimizer, num_epochs=5):\n",
        "    for epoch in range(num_epochs):\n",
        "        running_loss = 0.0\n",
        "        for inputs_batch, labels in trainloader:  # Changed 'inputs' to 'inputs_batch'\n",
        "            optimizer.zero_grad()         # Zero gradients\n",
        "            outputs = net(inputs_batch)         # Pass 'inputs_batch' to the network\n",
        "            loss = criterion(outputs, labels)  # Compute loss\n",
        "            loss.backward()               # Backpropagation\n",
        "            optimizer.step()              # Update weights\n",
        "            running_loss += loss.item()\n",
        "        print(f\"Epoch [{epoch + 1}/{num_epochs}], Loss: {running_loss/len(trainloader):.4f}\")\n",
        "\n",
        "# Define all optimizers\n",
        "optimizers = {\n",
        "    \"SGD\": optim.SGD(net.parameters(), lr=0.01, momentum=0.9),\n",
        "    \"Adam\": optim.Adam(net.parameters(), lr=0.001),\n",
        "    \"RMSprop\": optim.RMSprop(net.parameters(), lr=0.001, alpha=0.99),\n",
        "    \"Adagrad\": optim.Adagrad(net.parameters(), lr=0.01),\n",
        "    \"Adadelta\": optim.Adadelta(net.parameters(), rho=0.9),\n",
        "    \"AdamW\": optim.AdamW(net.parameters(), lr=0.001, weight_decay=0.01),\n",
        "    \"NAG\": optim.SGD(net.parameters(), lr=0.01, momentum=0.9, nesterov=True),\n",
        "    \"Adamax\": optim.Adamax(net.parameters(), lr=0.002),\n",
        "}\n",
        "\n"
      ],
      "metadata": {
        "id": "CFZCe1Ib16If"
      },
      "execution_count": 24,
      "outputs": []
    },
    {
      "cell_type": "code",
      "source": [
        "# Train with each optimizer\n",
        "for opt_name, optimizer in optimizers.items():\n",
        "    print(f\"\\nTraining with {opt_name} optimizer\")\n",
        "\n",
        "    # Re-initialize the network and optimizer for each test\n",
        "    net = SimpleNet()  # Re-initialize the model to avoid weight carryover\n",
        "    optimizer = optimizers[opt_name]\n",
        "\n",
        "    train_model_with_optimizer(optimizer, num_epochs=5)"
      ],
      "metadata": {
        "id": "qy48i6jY5c5F",
        "colab": {
          "base_uri": "https://localhost:8080/"
        },
        "outputId": "9a8db00d-ee46-40d4-cba6-5d8d6e7345e0"
      },
      "execution_count": 25,
      "outputs": [
        {
          "output_type": "stream",
          "name": "stdout",
          "text": [
            "\n",
            "Training with SGD optimizer\n",
            "Epoch [1/5], Loss: 2.3057\n",
            "Epoch [2/5], Loss: 2.3056\n",
            "Epoch [3/5], Loss: 2.3057\n",
            "Epoch [4/5], Loss: 2.3056\n",
            "Epoch [5/5], Loss: 2.3056\n",
            "\n",
            "Training with Adam optimizer\n",
            "Epoch [1/5], Loss: 2.3046\n",
            "Epoch [2/5], Loss: 2.3046\n",
            "Epoch [3/5], Loss: 2.3046\n",
            "Epoch [4/5], Loss: 2.3046\n",
            "Epoch [5/5], Loss: 2.3046\n",
            "\n",
            "Training with RMSprop optimizer\n",
            "Epoch [1/5], Loss: 2.3078\n",
            "Epoch [2/5], Loss: 2.3078\n",
            "Epoch [3/5], Loss: 2.3078\n",
            "Epoch [4/5], Loss: 2.3078\n",
            "Epoch [5/5], Loss: 2.3078\n",
            "\n",
            "Training with Adagrad optimizer\n",
            "Epoch [1/5], Loss: 2.3056\n",
            "Epoch [2/5], Loss: 2.3056\n",
            "Epoch [3/5], Loss: 2.3056\n",
            "Epoch [4/5], Loss: 2.3056\n",
            "Epoch [5/5], Loss: 2.3056\n",
            "\n",
            "Training with Adadelta optimizer\n",
            "Epoch [1/5], Loss: 2.3034\n",
            "Epoch [2/5], Loss: 2.3034\n",
            "Epoch [3/5], Loss: 2.3034\n",
            "Epoch [4/5], Loss: 2.3034\n",
            "Epoch [5/5], Loss: 2.3034\n",
            "\n",
            "Training with AdamW optimizer\n",
            "Epoch [1/5], Loss: 2.3024\n",
            "Epoch [2/5], Loss: 2.3024\n",
            "Epoch [3/5], Loss: 2.3024\n",
            "Epoch [4/5], Loss: 2.3024\n",
            "Epoch [5/5], Loss: 2.3024\n",
            "\n",
            "Training with NAG optimizer\n",
            "Epoch [1/5], Loss: 2.3031\n",
            "Epoch [2/5], Loss: 2.3031\n",
            "Epoch [3/5], Loss: 2.3031\n",
            "Epoch [4/5], Loss: 2.3031\n",
            "Epoch [5/5], Loss: 2.3031\n",
            "\n",
            "Training with Adamax optimizer\n",
            "Epoch [1/5], Loss: 2.3085\n",
            "Epoch [2/5], Loss: 2.3084\n",
            "Epoch [3/5], Loss: 2.3084\n",
            "Epoch [4/5], Loss: 2.3084\n",
            "Epoch [5/5], Loss: 2.3084\n"
          ]
        }
      ]
    },
    {
      "cell_type": "code",
      "source": [
        "# 5. Model Evaluation Function\n",
        "def evaluate_model(net, testloader):\n",
        "    net.eval()  # Set the model to evaluation mode\n",
        "    correct = 0\n",
        "    total = 0\n",
        "    with torch.no_grad():  # Disable gradient calculation for evaluation\n",
        "        for inputs, labels in testloader:\n",
        "            outputs = net(inputs)\n",
        "            _, predicted = torch.max(outputs.data, 1)\n",
        "            total += labels.size(0)\n",
        "            correct += (predicted == labels).sum().item()\n",
        "    print(f'Accuracy: {100 * correct / total:.2f}%')\n",
        "\n",
        "# Evaluate the model trained with the last optimizer\n",
        "print(\"\\nEvaluating the model with the last optimizer\")\n",
        "evaluate_model(net, testloader)"
      ],
      "metadata": {
        "id": "bnXE-dYH5gN9",
        "colab": {
          "base_uri": "https://localhost:8080/"
        },
        "outputId": "f81fe779-f3ed-489e-f0a9-ccba20ff0d34"
      },
      "execution_count": 26,
      "outputs": [
        {
          "output_type": "stream",
          "name": "stdout",
          "text": [
            "\n",
            "Evaluating the model with the last optimizer\n",
            "Accuracy: 10.00%\n"
          ]
        }
      ]
    }
  ]
}