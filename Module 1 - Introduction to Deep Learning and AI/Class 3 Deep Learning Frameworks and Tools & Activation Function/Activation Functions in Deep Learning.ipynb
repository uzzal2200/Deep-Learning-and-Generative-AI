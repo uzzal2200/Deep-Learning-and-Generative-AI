{
 "cells": [
  {
   "cell_type": "code",
   "execution_count": 6,
   "id": "f458b912",
   "metadata": {},
   "outputs": [],
   "source": [
    "import numpy as np\n"
   ]
  },
  {
   "cell_type": "markdown",
   "id": "c7a15cc6",
   "metadata": {},
   "source": [
    "1. ReLU - Rectified Linear Unit (Hidden Layer)"
   ]
  },
  {
   "cell_type": "code",
   "execution_count": 7,
   "id": "4bc0044a",
   "metadata": {},
   "outputs": [],
   "source": [
    "def relu(x):\n",
    "    return np.maximum(0,x)"
   ]
  },
  {
   "cell_type": "code",
   "execution_count": 8,
   "id": "22393adb",
   "metadata": {},
   "outputs": [
    {
     "data": {
      "text/plain": [
       "10"
      ]
     },
     "execution_count": 8,
     "metadata": {},
     "output_type": "execute_result"
    }
   ],
   "source": [
    "relu(10)"
   ]
  },
  {
   "cell_type": "code",
   "execution_count": 9,
   "id": "f87f53d6",
   "metadata": {},
   "outputs": [
    {
     "data": {
      "text/plain": [
       "0"
      ]
     },
     "execution_count": 9,
     "metadata": {},
     "output_type": "execute_result"
    }
   ],
   "source": [
    "relu(-10)"
   ]
  },
  {
   "cell_type": "markdown",
   "id": "1f850286",
   "metadata": {},
   "source": [
    "2. Leaky ReLU (Hidden Layer)"
   ]
  },
  {
   "cell_type": "code",
   "execution_count": 12,
   "id": "8e9b1778",
   "metadata": {},
   "outputs": [],
   "source": [
    "def leaky_relu(x, alpha=0.01):\n",
    "    return np.where(x > 0, x, x * alpha)\n"
   ]
  },
  {
   "cell_type": "code",
   "execution_count": 13,
   "id": "06297fa3",
   "metadata": {},
   "outputs": [
    {
     "data": {
      "text/plain": [
       "array(-0.01)"
      ]
     },
     "execution_count": 13,
     "metadata": {},
     "output_type": "execute_result"
    }
   ],
   "source": [
    "\n",
    "leaky_relu(-1)"
   ]
  },
  {
   "cell_type": "code",
   "execution_count": 17,
   "id": "8914a335",
   "metadata": {},
   "outputs": [
    {
     "data": {
      "text/plain": [
       "array([-0.01,  0.  ,  1.  ,  2.  ])"
      ]
     },
     "execution_count": 17,
     "metadata": {},
     "output_type": "execute_result"
    }
   ],
   "source": [
    "\n",
    "leaky_relu(np.array([-1, 0, 1, 2]))"
   ]
  },
  {
   "cell_type": "markdown",
   "id": "333b9c1f",
   "metadata": {},
   "source": [
    "3. ELU - Exponential Linear Unit (Hidden Layer)\n",
    "   \n",
    "ELU has a small slope for negative values, unlike ReLU, to avoid the dying ReLU problem."
   ]
  },
  {
   "cell_type": "code",
   "execution_count": 18,
   "id": "657e24ac",
   "metadata": {},
   "outputs": [
    {
     "data": {
      "text/plain": [
       "array(5.)"
      ]
     },
     "execution_count": 18,
     "metadata": {},
     "output_type": "execute_result"
    }
   ],
   "source": [
    "def elu(x, alpha=1.0):\n",
    "    return np.where(x>0, x, alpha * (np.exp(x) - 1))\n",
    "\n",
    "\n",
    "elu(5)"
   ]
  },
  {
   "cell_type": "code",
   "execution_count": 19,
   "id": "8b5b2d91",
   "metadata": {},
   "outputs": [
    {
     "data": {
      "text/plain": [
       "array([-0.63212056,  0.        ,  1.        ,  2.        ])"
      ]
     },
     "execution_count": 19,
     "metadata": {},
     "output_type": "execute_result"
    }
   ],
   "source": [
    "elu(np.array([-1, 0, 1,2]))"
   ]
  },
  {
   "cell_type": "markdown",
   "id": "3e658c73",
   "metadata": {},
   "source": [
    "4. Sigmoid (Output Layer & Binaryclass Problem)"
   ]
  },
  {
   "cell_type": "code",
   "execution_count": 20,
   "id": "f6f5fa31",
   "metadata": {},
   "outputs": [],
   "source": [
    "def sigmoid(x):\n",
    "    return  1 / (1+np.exp(-x))"
   ]
  },
  {
   "cell_type": "code",
   "execution_count": 21,
   "id": "cc369699",
   "metadata": {},
   "outputs": [
    {
     "data": {
      "text/plain": [
       "array([0.26894142, 0.5       , 0.73105858, 0.88079708])"
      ]
     },
     "execution_count": 21,
     "metadata": {},
     "output_type": "execute_result"
    }
   ],
   "source": [
    "sigmoid(np.array([-1,0,1,2]))"
   ]
  },
  {
   "cell_type": "markdown",
   "id": "1b9ce42c",
   "metadata": {},
   "source": [
    "5. Softmax (Output Layer & Multiclass Problem)"
   ]
  },
  {
   "cell_type": "code",
   "execution_count": 22,
   "id": "b94b6dec",
   "metadata": {},
   "outputs": [],
   "source": [
    "def softmax(x):\n",
    "    e_x = np.exp(x - np.max(x))\n",
    "    return e_x / e_x.sum(axis=0)"
   ]
  },
  {
   "cell_type": "code",
   "execution_count": 23,
   "id": "626267ba",
   "metadata": {},
   "outputs": [
    {
     "data": {
      "text/plain": [
       "array([0.0320586 , 0.08714432, 0.23688282, 0.64391426])"
      ]
     },
     "execution_count": 23,
     "metadata": {},
     "output_type": "execute_result"
    }
   ],
   "source": [
    "proba = softmax(np.array([-1, 0,1, 2]))\n",
    "proba"
   ]
  },
  {
   "cell_type": "code",
   "execution_count": 24,
   "id": "8e088e6e",
   "metadata": {},
   "outputs": [
    {
     "data": {
      "text/plain": [
       "1.0"
      ]
     },
     "execution_count": 24,
     "metadata": {},
     "output_type": "execute_result"
    }
   ],
   "source": [
    "sum(proba)"
   ]
  },
  {
   "cell_type": "markdown",
   "id": "16b37cd6",
   "metadata": {},
   "source": [
    "6. Swish (Hidden Layer)"
   ]
  },
  {
   "cell_type": "code",
   "execution_count": 25,
   "id": "927f3e39",
   "metadata": {},
   "outputs": [],
   "source": [
    "def swish(x, beta=1.0):\n",
    "    return x * sigmoid(beta * x)\n"
   ]
  },
  {
   "cell_type": "code",
   "execution_count": 26,
   "id": "d84621a2",
   "metadata": {},
   "outputs": [
    {
     "data": {
      "text/plain": [
       "4.966535745378576"
      ]
     },
     "execution_count": 26,
     "metadata": {},
     "output_type": "execute_result"
    }
   ],
   "source": [
    "swish(5)"
   ]
  },
  {
   "cell_type": "code",
   "execution_count": 28,
   "id": "b0b667bf",
   "metadata": {},
   "outputs": [
    {
     "data": {
      "text/plain": [
       "-0.2689414213699951"
      ]
     },
     "execution_count": 28,
     "metadata": {},
     "output_type": "execute_result"
    }
   ],
   "source": [
    "swish(-1)"
   ]
  },
  {
   "cell_type": "code",
   "execution_count": 27,
   "id": "87c45f9b",
   "metadata": {},
   "outputs": [
    {
     "data": {
      "text/plain": [
       "array([-0.26894142,  0.        ,  0.73105858,  1.76159416])"
      ]
     },
     "execution_count": 27,
     "metadata": {},
     "output_type": "execute_result"
    }
   ],
   "source": [
    "\n",
    "swish(np.array([-1, 0, 1, 2]))"
   ]
  },
  {
   "cell_type": "markdown",
   "id": "26a5dff6",
   "metadata": {},
   "source": [
    "7. Linear (Output Layer)"
   ]
  },
  {
   "cell_type": "code",
   "execution_count": 29,
   "id": "4b4127bc",
   "metadata": {},
   "outputs": [],
   "source": [
    "def linear(x):\n",
    "    return x\n",
    "\n"
   ]
  },
  {
   "cell_type": "code",
   "execution_count": 30,
   "id": "fc74ba27",
   "metadata": {},
   "outputs": [
    {
     "data": {
      "text/plain": [
       "10"
      ]
     },
     "execution_count": 30,
     "metadata": {},
     "output_type": "execute_result"
    }
   ],
   "source": [
    "linear(10)"
   ]
  },
  {
   "cell_type": "markdown",
   "id": "31157db9",
   "metadata": {},
   "source": [
    "8. Tanh (Hyperbolic Tangent)"
   ]
  },
  {
   "cell_type": "code",
   "execution_count": 31,
   "id": "aa363f47",
   "metadata": {},
   "outputs": [],
   "source": [
    "def tanh(x):\n",
    "    return np.tanh(x)"
   ]
  },
  {
   "cell_type": "code",
   "execution_count": 32,
   "id": "eb210e36",
   "metadata": {},
   "outputs": [
    {
     "data": {
      "text/plain": [
       "0.9999999958776927"
      ]
     },
     "execution_count": 32,
     "metadata": {},
     "output_type": "execute_result"
    }
   ],
   "source": [
    "tanh(10)"
   ]
  },
  {
   "cell_type": "code",
   "execution_count": 33,
   "id": "bbd39161",
   "metadata": {},
   "outputs": [
    {
     "data": {
      "text/plain": [
       "array([-0.76159416,  0.        ,  0.76159416,  0.96402758])"
      ]
     },
     "execution_count": 33,
     "metadata": {},
     "output_type": "execute_result"
    }
   ],
   "source": [
    "tanh([-1, 0, 1, 2])\n"
   ]
  },
  {
   "cell_type": "code",
   "execution_count": 40,
   "id": "71ae3761",
   "metadata": {},
   "outputs": [],
   "source": [
    "import math\n"
   ]
  },
  {
   "cell_type": "code",
   "execution_count": 41,
   "id": "3cb5a14f",
   "metadata": {},
   "outputs": [],
   "source": [
    "def tanh(x):\n",
    "    result = (math.exp(x) - math.exp(-x)) / (math.exp(x) + math.exp(-x))\n",
    "    return result"
   ]
  },
  {
   "cell_type": "code",
   "execution_count": null,
   "id": "fd29ce4d",
   "metadata": {},
   "outputs": [],
   "source": []
  },
  {
   "cell_type": "code",
   "execution_count": 43,
   "id": "977c4e20",
   "metadata": {},
   "outputs": [
    {
     "data": {
      "text/plain": [
       "-0.7615941559557649"
      ]
     },
     "execution_count": 43,
     "metadata": {},
     "output_type": "execute_result"
    }
   ],
   "source": [
    "tanh(-1)"
   ]
  }
 ],
 "metadata": {
  "kernelspec": {
   "display_name": "Python 3",
   "language": "python",
   "name": "python3"
  },
  "language_info": {
   "codemirror_mode": {
    "name": "ipython",
    "version": 3
   },
   "file_extension": ".py",
   "mimetype": "text/x-python",
   "name": "python",
   "nbconvert_exporter": "python",
   "pygments_lexer": "ipython3",
   "version": "3.12.7"
  }
 },
 "nbformat": 4,
 "nbformat_minor": 5
}
