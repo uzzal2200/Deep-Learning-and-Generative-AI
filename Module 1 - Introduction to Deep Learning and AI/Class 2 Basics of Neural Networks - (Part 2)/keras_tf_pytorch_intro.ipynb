{
 "cells": [
  {
   "cell_type": "markdown",
   "id": "5bc54f49",
   "metadata": {},
   "source": [
    "### Keras with Neural Network\n"
   ]
  },
  {
   "cell_type": "code",
   "execution_count": 80,
   "id": "ce365ecd",
   "metadata": {},
   "outputs": [],
   "source": [
    "from keras.models import Sequential\n",
    "from keras.layers import Dense"
   ]
  },
  {
   "cell_type": "code",
   "execution_count": 81,
   "id": "bcda48b2",
   "metadata": {},
   "outputs": [
    {
     "name": "stderr",
     "output_type": "stream",
     "text": [
      "c:\\Users\\User\\AppData\\Local\\Programs\\Python\\Python312\\Lib\\site-packages\\keras\\src\\layers\\core\\dense.py:87: UserWarning: Do not pass an `input_shape`/`input_dim` argument to a layer. When using Sequential models, prefer using an `Input(shape)` object as the first layer in the model instead.\n",
      "  super().__init__(activity_regularizer=activity_regularizer, **kwargs)\n"
     ]
    }
   ],
   "source": [
    "model = Sequential([\n",
    "    Dense(10, activation='relu', input_shape=(4,)), # Hidden layer\n",
    "    Dense(5, activation='relu'),    # Hidden layer\n",
    "    Dense(1, activation='sigmoid')  # Output layer for binary classification\n",
    "]\n",
    ")"
   ]
  },
  {
   "cell_type": "code",
   "execution_count": 82,
   "id": "d3b40462",
   "metadata": {},
   "outputs": [
    {
     "data": {
      "text/html": [
       "<pre style=\"white-space:pre;overflow-x:auto;line-height:normal;font-family:Menlo,'DejaVu Sans Mono',consolas,'Courier New',monospace\"><span style=\"font-weight: bold\">Model: \"sequential_15\"</span>\n",
       "</pre>\n"
      ],
      "text/plain": [
       "\u001b[1mModel: \"sequential_15\"\u001b[0m\n"
      ]
     },
     "metadata": {},
     "output_type": "display_data"
    },
    {
     "data": {
      "text/html": [
       "<pre style=\"white-space:pre;overflow-x:auto;line-height:normal;font-family:Menlo,'DejaVu Sans Mono',consolas,'Courier New',monospace\">┏━━━━━━━━━━━━━━━━━━━━━━━━━━━━━━━━━┳━━━━━━━━━━━━━━━━━━━━━━━━┳━━━━━━━━━━━━━━━┓\n",
       "┃<span style=\"font-weight: bold\"> Layer (type)                    </span>┃<span style=\"font-weight: bold\"> Output Shape           </span>┃<span style=\"font-weight: bold\">       Param # </span>┃\n",
       "┡━━━━━━━━━━━━━━━━━━━━━━━━━━━━━━━━━╇━━━━━━━━━━━━━━━━━━━━━━━━╇━━━━━━━━━━━━━━━┩\n",
       "│ dense_43 (<span style=\"color: #0087ff; text-decoration-color: #0087ff\">Dense</span>)                │ (<span style=\"color: #00d7ff; text-decoration-color: #00d7ff\">None</span>, <span style=\"color: #00af00; text-decoration-color: #00af00\">10</span>)             │            <span style=\"color: #00af00; text-decoration-color: #00af00\">50</span> │\n",
       "├─────────────────────────────────┼────────────────────────┼───────────────┤\n",
       "│ dense_44 (<span style=\"color: #0087ff; text-decoration-color: #0087ff\">Dense</span>)                │ (<span style=\"color: #00d7ff; text-decoration-color: #00d7ff\">None</span>, <span style=\"color: #00af00; text-decoration-color: #00af00\">5</span>)              │            <span style=\"color: #00af00; text-decoration-color: #00af00\">55</span> │\n",
       "├─────────────────────────────────┼────────────────────────┼───────────────┤\n",
       "│ dense_45 (<span style=\"color: #0087ff; text-decoration-color: #0087ff\">Dense</span>)                │ (<span style=\"color: #00d7ff; text-decoration-color: #00d7ff\">None</span>, <span style=\"color: #00af00; text-decoration-color: #00af00\">1</span>)              │             <span style=\"color: #00af00; text-decoration-color: #00af00\">6</span> │\n",
       "└─────────────────────────────────┴────────────────────────┴───────────────┘\n",
       "</pre>\n"
      ],
      "text/plain": [
       "┏━━━━━━━━━━━━━━━━━━━━━━━━━━━━━━━━━┳━━━━━━━━━━━━━━━━━━━━━━━━┳━━━━━━━━━━━━━━━┓\n",
       "┃\u001b[1m \u001b[0m\u001b[1mLayer (type)                   \u001b[0m\u001b[1m \u001b[0m┃\u001b[1m \u001b[0m\u001b[1mOutput Shape          \u001b[0m\u001b[1m \u001b[0m┃\u001b[1m \u001b[0m\u001b[1m      Param #\u001b[0m\u001b[1m \u001b[0m┃\n",
       "┡━━━━━━━━━━━━━━━━━━━━━━━━━━━━━━━━━╇━━━━━━━━━━━━━━━━━━━━━━━━╇━━━━━━━━━━━━━━━┩\n",
       "│ dense_43 (\u001b[38;5;33mDense\u001b[0m)                │ (\u001b[38;5;45mNone\u001b[0m, \u001b[38;5;34m10\u001b[0m)             │            \u001b[38;5;34m50\u001b[0m │\n",
       "├─────────────────────────────────┼────────────────────────┼───────────────┤\n",
       "│ dense_44 (\u001b[38;5;33mDense\u001b[0m)                │ (\u001b[38;5;45mNone\u001b[0m, \u001b[38;5;34m5\u001b[0m)              │            \u001b[38;5;34m55\u001b[0m │\n",
       "├─────────────────────────────────┼────────────────────────┼───────────────┤\n",
       "│ dense_45 (\u001b[38;5;33mDense\u001b[0m)                │ (\u001b[38;5;45mNone\u001b[0m, \u001b[38;5;34m1\u001b[0m)              │             \u001b[38;5;34m6\u001b[0m │\n",
       "└─────────────────────────────────┴────────────────────────┴───────────────┘\n"
      ]
     },
     "metadata": {},
     "output_type": "display_data"
    },
    {
     "data": {
      "text/html": [
       "<pre style=\"white-space:pre;overflow-x:auto;line-height:normal;font-family:Menlo,'DejaVu Sans Mono',consolas,'Courier New',monospace\"><span style=\"font-weight: bold\"> Total params: </span><span style=\"color: #00af00; text-decoration-color: #00af00\">111</span> (444.00 B)\n",
       "</pre>\n"
      ],
      "text/plain": [
       "\u001b[1m Total params: \u001b[0m\u001b[38;5;34m111\u001b[0m (444.00 B)\n"
      ]
     },
     "metadata": {},
     "output_type": "display_data"
    },
    {
     "data": {
      "text/html": [
       "<pre style=\"white-space:pre;overflow-x:auto;line-height:normal;font-family:Menlo,'DejaVu Sans Mono',consolas,'Courier New',monospace\"><span style=\"font-weight: bold\"> Trainable params: </span><span style=\"color: #00af00; text-decoration-color: #00af00\">111</span> (444.00 B)\n",
       "</pre>\n"
      ],
      "text/plain": [
       "\u001b[1m Trainable params: \u001b[0m\u001b[38;5;34m111\u001b[0m (444.00 B)\n"
      ]
     },
     "metadata": {},
     "output_type": "display_data"
    },
    {
     "data": {
      "text/html": [
       "<pre style=\"white-space:pre;overflow-x:auto;line-height:normal;font-family:Menlo,'DejaVu Sans Mono',consolas,'Courier New',monospace\"><span style=\"font-weight: bold\"> Non-trainable params: </span><span style=\"color: #00af00; text-decoration-color: #00af00\">0</span> (0.00 B)\n",
       "</pre>\n"
      ],
      "text/plain": [
       "\u001b[1m Non-trainable params: \u001b[0m\u001b[38;5;34m0\u001b[0m (0.00 B)\n"
      ]
     },
     "metadata": {},
     "output_type": "display_data"
    }
   ],
   "source": [
    "# Compile the model\n",
    "model.compile(optimizer='adam', loss='binary_crossentropy', metrics=['accuracy'])\n",
    "\n",
    "# Print the model summary\n",
    "model.summary()"
   ]
  },
  {
   "cell_type": "markdown",
   "id": "7fb6e4b1",
   "metadata": {},
   "source": [
    "### Tensorflow with Neural Network\n"
   ]
  },
  {
   "cell_type": "code",
   "execution_count": 83,
   "id": "8ab51496",
   "metadata": {},
   "outputs": [
    {
     "data": {
      "text/html": [
       "<pre style=\"white-space:pre;overflow-x:auto;line-height:normal;font-family:Menlo,'DejaVu Sans Mono',consolas,'Courier New',monospace\"><span style=\"font-weight: bold\">Model: \"sequential_16\"</span>\n",
       "</pre>\n"
      ],
      "text/plain": [
       "\u001b[1mModel: \"sequential_16\"\u001b[0m\n"
      ]
     },
     "metadata": {},
     "output_type": "display_data"
    },
    {
     "data": {
      "text/html": [
       "<pre style=\"white-space:pre;overflow-x:auto;line-height:normal;font-family:Menlo,'DejaVu Sans Mono',consolas,'Courier New',monospace\">┏━━━━━━━━━━━━━━━━━━━━━━━━━━━━━━━━━┳━━━━━━━━━━━━━━━━━━━━━━━━┳━━━━━━━━━━━━━━━┓\n",
       "┃<span style=\"font-weight: bold\"> Layer (type)                    </span>┃<span style=\"font-weight: bold\"> Output Shape           </span>┃<span style=\"font-weight: bold\">       Param # </span>┃\n",
       "┡━━━━━━━━━━━━━━━━━━━━━━━━━━━━━━━━━╇━━━━━━━━━━━━━━━━━━━━━━━━╇━━━━━━━━━━━━━━━┩\n",
       "│ dense_46 (<span style=\"color: #0087ff; text-decoration-color: #0087ff\">Dense</span>)                │ (<span style=\"color: #00d7ff; text-decoration-color: #00d7ff\">None</span>, <span style=\"color: #00af00; text-decoration-color: #00af00\">10</span>)             │            <span style=\"color: #00af00; text-decoration-color: #00af00\">50</span> │\n",
       "├─────────────────────────────────┼────────────────────────┼───────────────┤\n",
       "│ dense_47 (<span style=\"color: #0087ff; text-decoration-color: #0087ff\">Dense</span>)                │ (<span style=\"color: #00d7ff; text-decoration-color: #00d7ff\">None</span>, <span style=\"color: #00af00; text-decoration-color: #00af00\">1</span>)              │            <span style=\"color: #00af00; text-decoration-color: #00af00\">11</span> │\n",
       "└─────────────────────────────────┴────────────────────────┴───────────────┘\n",
       "</pre>\n"
      ],
      "text/plain": [
       "┏━━━━━━━━━━━━━━━━━━━━━━━━━━━━━━━━━┳━━━━━━━━━━━━━━━━━━━━━━━━┳━━━━━━━━━━━━━━━┓\n",
       "┃\u001b[1m \u001b[0m\u001b[1mLayer (type)                   \u001b[0m\u001b[1m \u001b[0m┃\u001b[1m \u001b[0m\u001b[1mOutput Shape          \u001b[0m\u001b[1m \u001b[0m┃\u001b[1m \u001b[0m\u001b[1m      Param #\u001b[0m\u001b[1m \u001b[0m┃\n",
       "┡━━━━━━━━━━━━━━━━━━━━━━━━━━━━━━━━━╇━━━━━━━━━━━━━━━━━━━━━━━━╇━━━━━━━━━━━━━━━┩\n",
       "│ dense_46 (\u001b[38;5;33mDense\u001b[0m)                │ (\u001b[38;5;45mNone\u001b[0m, \u001b[38;5;34m10\u001b[0m)             │            \u001b[38;5;34m50\u001b[0m │\n",
       "├─────────────────────────────────┼────────────────────────┼───────────────┤\n",
       "│ dense_47 (\u001b[38;5;33mDense\u001b[0m)                │ (\u001b[38;5;45mNone\u001b[0m, \u001b[38;5;34m1\u001b[0m)              │            \u001b[38;5;34m11\u001b[0m │\n",
       "└─────────────────────────────────┴────────────────────────┴───────────────┘\n"
      ]
     },
     "metadata": {},
     "output_type": "display_data"
    },
    {
     "data": {
      "text/html": [
       "<pre style=\"white-space:pre;overflow-x:auto;line-height:normal;font-family:Menlo,'DejaVu Sans Mono',consolas,'Courier New',monospace\"><span style=\"font-weight: bold\"> Total params: </span><span style=\"color: #00af00; text-decoration-color: #00af00\">61</span> (244.00 B)\n",
       "</pre>\n"
      ],
      "text/plain": [
       "\u001b[1m Total params: \u001b[0m\u001b[38;5;34m61\u001b[0m (244.00 B)\n"
      ]
     },
     "metadata": {},
     "output_type": "display_data"
    },
    {
     "data": {
      "text/html": [
       "<pre style=\"white-space:pre;overflow-x:auto;line-height:normal;font-family:Menlo,'DejaVu Sans Mono',consolas,'Courier New',monospace\"><span style=\"font-weight: bold\"> Trainable params: </span><span style=\"color: #00af00; text-decoration-color: #00af00\">61</span> (244.00 B)\n",
       "</pre>\n"
      ],
      "text/plain": [
       "\u001b[1m Trainable params: \u001b[0m\u001b[38;5;34m61\u001b[0m (244.00 B)\n"
      ]
     },
     "metadata": {},
     "output_type": "display_data"
    },
    {
     "data": {
      "text/html": [
       "<pre style=\"white-space:pre;overflow-x:auto;line-height:normal;font-family:Menlo,'DejaVu Sans Mono',consolas,'Courier New',monospace\"><span style=\"font-weight: bold\"> Non-trainable params: </span><span style=\"color: #00af00; text-decoration-color: #00af00\">0</span> (0.00 B)\n",
       "</pre>\n"
      ],
      "text/plain": [
       "\u001b[1m Non-trainable params: \u001b[0m\u001b[38;5;34m0\u001b[0m (0.00 B)\n"
      ]
     },
     "metadata": {},
     "output_type": "display_data"
    }
   ],
   "source": [
    "import tensorflow as tf\n",
    "\n",
    "# Define a simple Sequential model\n",
    "\n",
    "model = tf.keras.Sequential([\n",
    "    tf.keras.layers.Dense(10, activation='relu', input_shape=(4,)),\n",
    "    tf.keras.layers.Dense(1, activation='sigmoid')\n",
    "\n",
    "])\n",
    "\n",
    "model.compile(optimizer='adam', loss='binary_crossentropy', metrics=['accuracy'])\n",
    "\n",
    "\n",
    "# Print the model summary\n",
    "model.summary()"
   ]
  },
  {
   "cell_type": "code",
   "execution_count": 84,
   "id": "1a9df280",
   "metadata": {},
   "outputs": [
    {
     "name": "stdout",
     "output_type": "stream",
     "text": [
      "Sum: [4. 6.] \n",
      "Dot Product : 11.0\n"
     ]
    }
   ],
   "source": [
    "import tensorflow as tf\n",
    "\n",
    "#Define tensors\n",
    "a = tf.constant([1.0,2.0])\n",
    "b = tf.constant([3.0, 4.0])\n",
    "\n",
    "\n",
    "# Perform basic operatins\n",
    "\n",
    "sum_result = tf.add(a,b)\n",
    "dot_product = tf.tensordot(a,b, axes=1)\n",
    "\n",
    "print(f\"Sum: {sum_result} \" )\n",
    "print(f\"Dot Product : {dot_product}\")"
   ]
  },
  {
   "cell_type": "code",
   "execution_count": 85,
   "id": "3bb36f52",
   "metadata": {},
   "outputs": [],
   "source": [
    "import tensorflow as tf\n",
    "\n",
    "# Define a simple neural network using Tensorflow low level API\n",
    "\n",
    "class SimpleNN(tf.Module):\n",
    "    def __init__(self):\n",
    "        super(SimpleNN, self).__init__()\n",
    "        self.w = tf.Variable(tf.random.normal([2,2]), name=\"weights\") # weifht  matix\n",
    "        self.b = tf.Variable(tf.zeros([2]), name=\"bias\") # bias vector\n",
    "\n",
    "    def __call__(self, x):\n",
    "        return tf.nn.relu(tf.matmul(x, self.w) + self.b)  # RelU activation"
   ]
  },
  {
   "cell_type": "code",
   "execution_count": 86,
   "id": "8a1a8fdf",
   "metadata": {},
   "outputs": [],
   "source": [
    "# creat a model and test it\n",
    "\n",
    "model = SimpleNN()\n",
    "input_data = tf.constant([[1.0, 2.0], [3.0, 4.0]])\n",
    "output = model(input_data)"
   ]
  },
  {
   "cell_type": "code",
   "execution_count": 87,
   "id": "48eab6e8",
   "metadata": {},
   "outputs": [
    {
     "name": "stdout",
     "output_type": "stream",
     "text": [
      "output : tf.Tensor(\n",
      "[[0.8341261 2.9120588]\n",
      " [2.8805761 7.15135  ]], shape=(2, 2), dtype=float32)\n",
      "\n",
      "Trainable parameters:\n",
      "weights (w) :\n",
      "Biases (b) :\n",
      "[0. 0.]\n"
     ]
    }
   ],
   "source": [
    "# output result from model\n",
    "\n",
    "print(\"output :\", output)\n",
    "\n",
    "\n",
    "# Display trainable parameters\n",
    "print(\"\\nTrainable parameters:\")\n",
    "print(\"weights (w) :\")  # Display weights matrix\n",
    "print(\"Biases (b) :\")\n",
    "print(model.b.numpy()) # Display the bias vectore"
   ]
  },
  {
   "cell_type": "code",
   "execution_count": 88,
   "id": "0d4428ca",
   "metadata": {},
   "outputs": [],
   "source": [
    "import torch\n",
    "\n",
    "# Define tensors\n",
    "a = torch.tensor([2.0, 3.0])\n",
    "b = torch.tensor([4.0, 5.0])\n",
    "\n",
    "# Perform basic operations\n",
    "\n",
    "sum_result =  a + b\n",
    "dot_product = torch.dot(a,b)"
   ]
  },
  {
   "cell_type": "code",
   "execution_count": 89,
   "id": "ee83f40d",
   "metadata": {},
   "outputs": [
    {
     "name": "stdout",
     "output_type": "stream",
     "text": [
      "Model architecture:\n",
      "SimpleNN(\n",
      "  (fc1): Linear(in_features=4, out_features=8, bias=True)\n",
      "  (fc2): Linear(in_features=8, out_features=10, bias=True)\n",
      "  (fc3): Linear(in_features=10, out_features=1, bias=True)\n",
      ")\n",
      "\n",
      "Trainable Parameters:tensor([[0.3897]], grad_fn=<SigmoidBackward0>)\n",
      "\n",
      "Trainable Parameters:\n",
      "fc1.weight:\n",
      "tensor([[-0.1343, -0.1837, -0.2812, -0.3374],\n",
      "        [-0.1597,  0.3244, -0.3711,  0.4908],\n",
      "        [ 0.3199,  0.3056, -0.2709, -0.0433],\n",
      "        [-0.1762, -0.4376, -0.2517,  0.3051],\n",
      "        [-0.3792,  0.1042, -0.0149,  0.4366],\n",
      "        [-0.3079, -0.0654, -0.0282,  0.0538],\n",
      "        [-0.3943,  0.1245,  0.2849,  0.0380],\n",
      "        [ 0.3358, -0.4403,  0.1024,  0.0619]])\n",
      "fc1.bias:\n",
      "tensor([-0.4964, -0.2414, -0.2733, -0.0931, -0.0088, -0.4516, -0.2100,  0.1021])\n",
      "fc2.weight:\n",
      "tensor([[-0.2084,  0.0975, -0.1965,  0.1736, -0.0981,  0.1078, -0.0959,  0.1080],\n",
      "        [-0.0535, -0.1061,  0.3160,  0.3495, -0.0014, -0.3471, -0.3217, -0.2318],\n",
      "        [-0.2391, -0.0858,  0.3341, -0.2351, -0.1693,  0.1630, -0.1407,  0.1607],\n",
      "        [-0.0759, -0.2555,  0.0301, -0.1121,  0.1517,  0.1793,  0.0340,  0.0630],\n",
      "        [ 0.3375, -0.1558,  0.2517, -0.2700, -0.3193,  0.0028,  0.0968, -0.0709],\n",
      "        [ 0.2149, -0.2860,  0.1833, -0.0284,  0.0271, -0.1932, -0.3330,  0.1534],\n",
      "        [-0.1751,  0.2140, -0.0860,  0.2950,  0.1324,  0.2898, -0.0408, -0.1829],\n",
      "        [-0.0339,  0.1325, -0.1462,  0.1191, -0.0809, -0.3341, -0.0718,  0.3340],\n",
      "        [-0.2813,  0.1087,  0.3013,  0.1054, -0.2853,  0.2279,  0.0425,  0.2394],\n",
      "        [ 0.1156,  0.0423, -0.0295, -0.2370,  0.3292,  0.1084, -0.3117,  0.0403]])\n",
      "fc2.bias:\n",
      "tensor([ 0.2538,  0.2804, -0.0194, -0.2275, -0.2855, -0.3497, -0.3202,  0.0966,\n",
      "        -0.2169, -0.2651])\n",
      "fc3.weight:\n",
      "tensor([[-0.0850, -0.1016, -0.2978,  0.2775,  0.1382,  0.0716,  0.3074, -0.1597,\n",
      "         -0.2957, -0.1637]])\n",
      "fc3.bias:\n",
      "tensor([-0.2551])\n"
     ]
    }
   ],
   "source": [
    "import torch\n",
    "import torch.nn as nn\n",
    "import torch.optim as optim\n",
    "\n",
    "\n",
    "#Define a simple neural network\n",
    "\n",
    "class SimpleNN(nn.Module):\n",
    "    def __init__(self):\n",
    "        super(SimpleNN, self).__init__()\n",
    "        self.fc1 = nn.Linear(4,8) # Hidden layer\n",
    "        self.fc2 = nn.Linear (8,10)\n",
    "        self.fc3 = nn.Linear(10,1) # output layer\n",
    "\n",
    "    def forward(self, x):\n",
    "        x = torch.relu(self.fc1(x)) # Apply RelU activation\n",
    "        x = torch.sigmoid(self.fc2(x))\n",
    "        x = torch.sigmoid(self.fc3(x)) # Apply sigmoid activation for output\n",
    "        return x\n",
    "\n",
    "# Instantiate the model\n",
    "model = SimpleNN()\n",
    "\n",
    "print(\"Model architecture:\")\n",
    "print(model)\n",
    "\n",
    "# Example inpurt to test the model\n",
    "input_data  = torch.rand(1, 4) # Batch size 1 and inpurt  features 4\n",
    "\n",
    "output = model(input_data)\n",
    "print(f\"\\nTrainable Parameters:{output}\")\n",
    "\n",
    "\n",
    "# Print trainable parameters (weights and biases)\n",
    "print(\"\\nTrainable Parameters:\")\n",
    "\n",
    "for name , param in model.named_parameters():\n",
    "    print(f\"{name}:\\n{param.data}\")\n"
   ]
  },
  {
   "cell_type": "markdown",
   "id": "b13e617b",
   "metadata": {},
   "source": [
    "### Experiments with IRIS Data with Keras"
   ]
  },
  {
   "cell_type": "code",
   "execution_count": 90,
   "id": "58ea9cc4",
   "metadata": {},
   "outputs": [],
   "source": [
    "import numpy as np\n",
    "import tensorflow as tf\n",
    "from sklearn.datasets import load_iris\n",
    "from sklearn.model_selection import train_test_split\n",
    "from sklearn.preprocessing import OneHotEncoder, StandardScaler"
   ]
  },
  {
   "cell_type": "code",
   "execution_count": 91,
   "id": "83097aa4",
   "metadata": {},
   "outputs": [
    {
     "name": "stdout",
     "output_type": "stream",
     "text": [
      "[[5.1 3.5 1.4 0.2]\n",
      " [4.9 3.  1.4 0.2]\n",
      " [4.7 3.2 1.3 0.2]\n",
      " [4.6 3.1 1.5 0.2]\n",
      " [5.  3.6 1.4 0.2]\n",
      " [5.4 3.9 1.7 0.4]\n",
      " [4.6 3.4 1.4 0.3]\n",
      " [5.  3.4 1.5 0.2]\n",
      " [4.4 2.9 1.4 0.2]\n",
      " [4.9 3.1 1.5 0.1]\n",
      " [5.4 3.7 1.5 0.2]\n",
      " [4.8 3.4 1.6 0.2]\n",
      " [4.8 3.  1.4 0.1]\n",
      " [4.3 3.  1.1 0.1]\n",
      " [5.8 4.  1.2 0.2]\n",
      " [5.7 4.4 1.5 0.4]\n",
      " [5.4 3.9 1.3 0.4]\n",
      " [5.1 3.5 1.4 0.3]\n",
      " [5.7 3.8 1.7 0.3]\n",
      " [5.1 3.8 1.5 0.3]\n",
      " [5.4 3.4 1.7 0.2]\n",
      " [5.1 3.7 1.5 0.4]\n",
      " [4.6 3.6 1.  0.2]\n",
      " [5.1 3.3 1.7 0.5]\n",
      " [4.8 3.4 1.9 0.2]\n",
      " [5.  3.  1.6 0.2]\n",
      " [5.  3.4 1.6 0.4]\n",
      " [5.2 3.5 1.5 0.2]\n",
      " [5.2 3.4 1.4 0.2]\n",
      " [4.7 3.2 1.6 0.2]\n",
      " [4.8 3.1 1.6 0.2]\n",
      " [5.4 3.4 1.5 0.4]\n",
      " [5.2 4.1 1.5 0.1]\n",
      " [5.5 4.2 1.4 0.2]\n",
      " [4.9 3.1 1.5 0.2]\n",
      " [5.  3.2 1.2 0.2]\n",
      " [5.5 3.5 1.3 0.2]\n",
      " [4.9 3.6 1.4 0.1]\n",
      " [4.4 3.  1.3 0.2]\n",
      " [5.1 3.4 1.5 0.2]\n",
      " [5.  3.5 1.3 0.3]\n",
      " [4.5 2.3 1.3 0.3]\n",
      " [4.4 3.2 1.3 0.2]\n",
      " [5.  3.5 1.6 0.6]\n",
      " [5.1 3.8 1.9 0.4]\n",
      " [4.8 3.  1.4 0.3]\n",
      " [5.1 3.8 1.6 0.2]\n",
      " [4.6 3.2 1.4 0.2]\n",
      " [5.3 3.7 1.5 0.2]\n",
      " [5.  3.3 1.4 0.2]\n",
      " [7.  3.2 4.7 1.4]\n",
      " [6.4 3.2 4.5 1.5]\n",
      " [6.9 3.1 4.9 1.5]\n",
      " [5.5 2.3 4.  1.3]\n",
      " [6.5 2.8 4.6 1.5]\n",
      " [5.7 2.8 4.5 1.3]\n",
      " [6.3 3.3 4.7 1.6]\n",
      " [4.9 2.4 3.3 1. ]\n",
      " [6.6 2.9 4.6 1.3]\n",
      " [5.2 2.7 3.9 1.4]\n",
      " [5.  2.  3.5 1. ]\n",
      " [5.9 3.  4.2 1.5]\n",
      " [6.  2.2 4.  1. ]\n",
      " [6.1 2.9 4.7 1.4]\n",
      " [5.6 2.9 3.6 1.3]\n",
      " [6.7 3.1 4.4 1.4]\n",
      " [5.6 3.  4.5 1.5]\n",
      " [5.8 2.7 4.1 1. ]\n",
      " [6.2 2.2 4.5 1.5]\n",
      " [5.6 2.5 3.9 1.1]\n",
      " [5.9 3.2 4.8 1.8]\n",
      " [6.1 2.8 4.  1.3]\n",
      " [6.3 2.5 4.9 1.5]\n",
      " [6.1 2.8 4.7 1.2]\n",
      " [6.4 2.9 4.3 1.3]\n",
      " [6.6 3.  4.4 1.4]\n",
      " [6.8 2.8 4.8 1.4]\n",
      " [6.7 3.  5.  1.7]\n",
      " [6.  2.9 4.5 1.5]\n",
      " [5.7 2.6 3.5 1. ]\n",
      " [5.5 2.4 3.8 1.1]\n",
      " [5.5 2.4 3.7 1. ]\n",
      " [5.8 2.7 3.9 1.2]\n",
      " [6.  2.7 5.1 1.6]\n",
      " [5.4 3.  4.5 1.5]\n",
      " [6.  3.4 4.5 1.6]\n",
      " [6.7 3.1 4.7 1.5]\n",
      " [6.3 2.3 4.4 1.3]\n",
      " [5.6 3.  4.1 1.3]\n",
      " [5.5 2.5 4.  1.3]\n",
      " [5.5 2.6 4.4 1.2]\n",
      " [6.1 3.  4.6 1.4]\n",
      " [5.8 2.6 4.  1.2]\n",
      " [5.  2.3 3.3 1. ]\n",
      " [5.6 2.7 4.2 1.3]\n",
      " [5.7 3.  4.2 1.2]\n",
      " [5.7 2.9 4.2 1.3]\n",
      " [6.2 2.9 4.3 1.3]\n",
      " [5.1 2.5 3.  1.1]\n",
      " [5.7 2.8 4.1 1.3]\n",
      " [6.3 3.3 6.  2.5]\n",
      " [5.8 2.7 5.1 1.9]\n",
      " [7.1 3.  5.9 2.1]\n",
      " [6.3 2.9 5.6 1.8]\n",
      " [6.5 3.  5.8 2.2]\n",
      " [7.6 3.  6.6 2.1]\n",
      " [4.9 2.5 4.5 1.7]\n",
      " [7.3 2.9 6.3 1.8]\n",
      " [6.7 2.5 5.8 1.8]\n",
      " [7.2 3.6 6.1 2.5]\n",
      " [6.5 3.2 5.1 2. ]\n",
      " [6.4 2.7 5.3 1.9]\n",
      " [6.8 3.  5.5 2.1]\n",
      " [5.7 2.5 5.  2. ]\n",
      " [5.8 2.8 5.1 2.4]\n",
      " [6.4 3.2 5.3 2.3]\n",
      " [6.5 3.  5.5 1.8]\n",
      " [7.7 3.8 6.7 2.2]\n",
      " [7.7 2.6 6.9 2.3]\n",
      " [6.  2.2 5.  1.5]\n",
      " [6.9 3.2 5.7 2.3]\n",
      " [5.6 2.8 4.9 2. ]\n",
      " [7.7 2.8 6.7 2. ]\n",
      " [6.3 2.7 4.9 1.8]\n",
      " [6.7 3.3 5.7 2.1]\n",
      " [7.2 3.2 6.  1.8]\n",
      " [6.2 2.8 4.8 1.8]\n",
      " [6.1 3.  4.9 1.8]\n",
      " [6.4 2.8 5.6 2.1]\n",
      " [7.2 3.  5.8 1.6]\n",
      " [7.4 2.8 6.1 1.9]\n",
      " [7.9 3.8 6.4 2. ]\n",
      " [6.4 2.8 5.6 2.2]\n",
      " [6.3 2.8 5.1 1.5]\n",
      " [6.1 2.6 5.6 1.4]\n",
      " [7.7 3.  6.1 2.3]\n",
      " [6.3 3.4 5.6 2.4]\n",
      " [6.4 3.1 5.5 1.8]\n",
      " [6.  3.  4.8 1.8]\n",
      " [6.9 3.1 5.4 2.1]\n",
      " [6.7 3.1 5.6 2.4]\n",
      " [6.9 3.1 5.1 2.3]\n",
      " [5.8 2.7 5.1 1.9]\n",
      " [6.8 3.2 5.9 2.3]\n",
      " [6.7 3.3 5.7 2.5]\n",
      " [6.7 3.  5.2 2.3]\n",
      " [6.3 2.5 5.  1.9]\n",
      " [6.5 3.  5.2 2. ]\n",
      " [6.2 3.4 5.4 2.3]\n",
      " [5.9 3.  5.1 1.8]]\n",
      "[0 0 0 0 0 0 0 0 0 0 0 0 0 0 0 0 0 0 0 0 0 0 0 0 0 0 0 0 0 0 0 0 0 0 0 0 0\n",
      " 0 0 0 0 0 0 0 0 0 0 0 0 0 1 1 1 1 1 1 1 1 1 1 1 1 1 1 1 1 1 1 1 1 1 1 1 1\n",
      " 1 1 1 1 1 1 1 1 1 1 1 1 1 1 1 1 1 1 1 1 1 1 1 1 1 1 2 2 2 2 2 2 2 2 2 2 2\n",
      " 2 2 2 2 2 2 2 2 2 2 2 2 2 2 2 2 2 2 2 2 2 2 2 2 2 2 2 2 2 2 2 2 2 2 2 2 2\n",
      " 2 2]\n"
     ]
    }
   ],
   "source": [
    "# load the Iris dataset\n",
    "iris = load_iris()\n",
    "x = iris.data\n",
    "y = iris.target\n",
    "\n",
    "print(x)\n",
    "print(y)\n"
   ]
  },
  {
   "cell_type": "code",
   "execution_count": 92,
   "id": "3523422e",
   "metadata": {},
   "outputs": [],
   "source": [
    "\n",
    "# One-hot encode the labels (since we have 3 classes)\n",
    "encoder = OneHotEncoder()\n",
    "y =  encoder.fit_transform(y.reshape(-1,1))"
   ]
  },
  {
   "cell_type": "code",
   "execution_count": 93,
   "id": "936f5de9",
   "metadata": {},
   "outputs": [],
   "source": [
    "xtrain, xtest, ytrain,ytest = train_test_split(x,y, test_size=0.2, random_state =42) #এর মান সেট করলে প্রতিবার কোড চালানোর সময় একই ডেটা বিভাজন (train-test split) হবে।\n",
    "# 42 শুধুমাত্র একটি প্রচলিত সংখ্যা; যেকোনো সংখ্যা ব্যবহার করা যায়।"
   ]
  },
  {
   "cell_type": "code",
   "execution_count": 94,
   "id": "27bd0bfb",
   "metadata": {},
   "outputs": [],
   "source": [
    "# Standardize the data\n",
    "\n",
    "# Standardize the data\n",
    "scaler = StandardScaler()\n",
    "X_train = scaler.fit_transform(xtrain)\n",
    "X_test = scaler.transform(xtest)"
   ]
  },
  {
   "cell_type": "code",
   "execution_count": 96,
   "id": "8dbe3eeb",
   "metadata": {},
   "outputs": [
    {
     "name": "stdout",
     "output_type": "stream",
     "text": [
      "Epoch 1/50\n",
      "4/4 - 1s - 272ms/step - accuracy: 0.3250 - loss: 1.3215 - val_accuracy: 0.3667 - val_loss: 1.2534\n",
      "Epoch 2/50\n",
      "4/4 - 0s - 21ms/step - accuracy: 0.3250 - loss: 1.3006 - val_accuracy: 0.3667 - val_loss: 1.2368\n",
      "Epoch 3/50\n",
      "4/4 - 0s - 21ms/step - accuracy: 0.3250 - loss: 1.2815 - val_accuracy: 0.3667 - val_loss: 1.2213\n",
      "Epoch 4/50\n",
      "4/4 - 0s - 24ms/step - accuracy: 0.3250 - loss: 1.2621 - val_accuracy: 0.3667 - val_loss: 1.2074\n",
      "Epoch 5/50\n",
      "4/4 - 0s - 22ms/step - accuracy: 0.3250 - loss: 1.2476 - val_accuracy: 0.3667 - val_loss: 1.1943\n",
      "Epoch 6/50\n",
      "4/4 - 0s - 24ms/step - accuracy: 0.3250 - loss: 1.2307 - val_accuracy: 0.3667 - val_loss: 1.1827\n",
      "Epoch 7/50\n",
      "4/4 - 0s - 25ms/step - accuracy: 0.3250 - loss: 1.2184 - val_accuracy: 0.3667 - val_loss: 1.1717\n",
      "Epoch 8/50\n",
      "4/4 - 0s - 21ms/step - accuracy: 0.3250 - loss: 1.2041 - val_accuracy: 0.3667 - val_loss: 1.1620\n",
      "Epoch 9/50\n",
      "4/4 - 0s - 21ms/step - accuracy: 0.3250 - loss: 1.1922 - val_accuracy: 0.3667 - val_loss: 1.1529\n",
      "Epoch 10/50\n",
      "4/4 - 0s - 25ms/step - accuracy: 0.3250 - loss: 1.1823 - val_accuracy: 0.3667 - val_loss: 1.1444\n",
      "Epoch 11/50\n",
      "4/4 - 0s - 21ms/step - accuracy: 0.3250 - loss: 1.1721 - val_accuracy: 0.3667 - val_loss: 1.1366\n",
      "Epoch 12/50\n",
      "4/4 - 0s - 25ms/step - accuracy: 0.3250 - loss: 1.1612 - val_accuracy: 0.3667 - val_loss: 1.1297\n",
      "Epoch 13/50\n",
      "4/4 - 0s - 21ms/step - accuracy: 0.3250 - loss: 1.1534 - val_accuracy: 0.3667 - val_loss: 1.1232\n",
      "Epoch 14/50\n",
      "4/4 - 0s - 21ms/step - accuracy: 0.3250 - loss: 1.1442 - val_accuracy: 0.3667 - val_loss: 1.1175\n",
      "Epoch 15/50\n",
      "4/4 - 0s - 21ms/step - accuracy: 0.3250 - loss: 1.1380 - val_accuracy: 0.3667 - val_loss: 1.1120\n",
      "Epoch 16/50\n",
      "4/4 - 0s - 25ms/step - accuracy: 0.3333 - loss: 1.1304 - val_accuracy: 0.3667 - val_loss: 1.1070\n",
      "Epoch 17/50\n",
      "4/4 - 0s - 21ms/step - accuracy: 0.3333 - loss: 1.1243 - val_accuracy: 0.3333 - val_loss: 1.1025\n",
      "Epoch 18/50\n",
      "4/4 - 0s - 25ms/step - accuracy: 0.3500 - loss: 1.1181 - val_accuracy: 0.3667 - val_loss: 1.0984\n",
      "Epoch 19/50\n",
      "4/4 - 0s - 19ms/step - accuracy: 0.3833 - loss: 1.1123 - val_accuracy: 0.4000 - val_loss: 1.0946\n",
      "Epoch 20/50\n",
      "4/4 - 0s - 25ms/step - accuracy: 0.4417 - loss: 1.1078 - val_accuracy: 0.4333 - val_loss: 1.0911\n",
      "Epoch 21/50\n",
      "4/4 - 0s - 21ms/step - accuracy: 0.5000 - loss: 1.1036 - val_accuracy: 0.5000 - val_loss: 1.0878\n",
      "Epoch 22/50\n",
      "4/4 - 0s - 21ms/step - accuracy: 0.5500 - loss: 1.0987 - val_accuracy: 0.5333 - val_loss: 1.0848\n",
      "Epoch 23/50\n",
      "4/4 - 0s - 21ms/step - accuracy: 0.5833 - loss: 1.0945 - val_accuracy: 0.6000 - val_loss: 1.0820\n",
      "Epoch 24/50\n",
      "4/4 - 0s - 21ms/step - accuracy: 0.6083 - loss: 1.0914 - val_accuracy: 0.6667 - val_loss: 1.0793\n",
      "Epoch 25/50\n",
      "4/4 - 0s - 21ms/step - accuracy: 0.6417 - loss: 1.0874 - val_accuracy: 0.6667 - val_loss: 1.0768\n",
      "Epoch 26/50\n",
      "4/4 - 0s - 21ms/step - accuracy: 0.6417 - loss: 1.0847 - val_accuracy: 0.6667 - val_loss: 1.0744\n",
      "Epoch 27/50\n",
      "4/4 - 0s - 21ms/step - accuracy: 0.6417 - loss: 1.0816 - val_accuracy: 0.6667 - val_loss: 1.0722\n",
      "Epoch 28/50\n",
      "4/4 - 0s - 25ms/step - accuracy: 0.6417 - loss: 1.0783 - val_accuracy: 0.6667 - val_loss: 1.0701\n",
      "Epoch 29/50\n",
      "4/4 - 0s - 21ms/step - accuracy: 0.6417 - loss: 1.0756 - val_accuracy: 0.6667 - val_loss: 1.0680\n",
      "Epoch 30/50\n",
      "4/4 - 0s - 25ms/step - accuracy: 0.6417 - loss: 1.0730 - val_accuracy: 0.6667 - val_loss: 1.0659\n",
      "Epoch 31/50\n",
      "4/4 - 0s - 25ms/step - accuracy: 0.6417 - loss: 1.0703 - val_accuracy: 0.6667 - val_loss: 1.0638\n",
      "Epoch 32/50\n",
      "4/4 - 0s - 21ms/step - accuracy: 0.6500 - loss: 1.0679 - val_accuracy: 0.6667 - val_loss: 1.0618\n",
      "Epoch 33/50\n",
      "4/4 - 0s - 25ms/step - accuracy: 0.6500 - loss: 1.0656 - val_accuracy: 0.6667 - val_loss: 1.0597\n",
      "Epoch 34/50\n",
      "4/4 - 0s - 21ms/step - accuracy: 0.6500 - loss: 1.0630 - val_accuracy: 0.6667 - val_loss: 1.0575\n",
      "Epoch 35/50\n",
      "4/4 - 0s - 20ms/step - accuracy: 0.6500 - loss: 1.0608 - val_accuracy: 0.6667 - val_loss: 1.0553\n",
      "Epoch 36/50\n",
      "4/4 - 0s - 37ms/step - accuracy: 0.6583 - loss: 1.0587 - val_accuracy: 0.6667 - val_loss: 1.0531\n",
      "Epoch 37/50\n",
      "4/4 - 0s - 21ms/step - accuracy: 0.6500 - loss: 1.0564 - val_accuracy: 0.6667 - val_loss: 1.0511\n",
      "Epoch 38/50\n",
      "4/4 - 0s - 21ms/step - accuracy: 0.6500 - loss: 1.0539 - val_accuracy: 0.7000 - val_loss: 1.0488\n",
      "Epoch 39/50\n",
      "4/4 - 0s - 21ms/step - accuracy: 0.6583 - loss: 1.0516 - val_accuracy: 0.7000 - val_loss: 1.0463\n",
      "Epoch 40/50\n",
      "4/4 - 0s - 21ms/step - accuracy: 0.6833 - loss: 1.0492 - val_accuracy: 0.7000 - val_loss: 1.0438\n",
      "Epoch 41/50\n",
      "4/4 - 0s - 21ms/step - accuracy: 0.6833 - loss: 1.0468 - val_accuracy: 0.7000 - val_loss: 1.0413\n",
      "Epoch 42/50\n",
      "4/4 - 0s - 26ms/step - accuracy: 0.6917 - loss: 1.0446 - val_accuracy: 0.7000 - val_loss: 1.0387\n",
      "Epoch 43/50\n",
      "4/4 - 0s - 19ms/step - accuracy: 0.7083 - loss: 1.0420 - val_accuracy: 0.7667 - val_loss: 1.0362\n",
      "Epoch 44/50\n",
      "4/4 - 0s - 21ms/step - accuracy: 0.7250 - loss: 1.0397 - val_accuracy: 0.8000 - val_loss: 1.0336\n",
      "Epoch 45/50\n",
      "4/4 - 0s - 21ms/step - accuracy: 0.7500 - loss: 1.0371 - val_accuracy: 0.8000 - val_loss: 1.0310\n",
      "Epoch 46/50\n",
      "4/4 - 0s - 21ms/step - accuracy: 0.7917 - loss: 1.0347 - val_accuracy: 0.8000 - val_loss: 1.0282\n",
      "Epoch 47/50\n",
      "4/4 - 0s - 21ms/step - accuracy: 0.7917 - loss: 1.0319 - val_accuracy: 0.8000 - val_loss: 1.0255\n",
      "Epoch 48/50\n",
      "4/4 - 0s - 21ms/step - accuracy: 0.8167 - loss: 1.0293 - val_accuracy: 0.8000 - val_loss: 1.0226\n",
      "Epoch 49/50\n",
      "4/4 - 0s - 22ms/step - accuracy: 0.8083 - loss: 1.0268 - val_accuracy: 0.8333 - val_loss: 1.0195\n",
      "Epoch 50/50\n",
      "4/4 - 0s - 25ms/step - accuracy: 0.8167 - loss: 1.0238 - val_accuracy: 0.8333 - val_loss: 1.0167\n",
      "1/1 - 0s - 25ms/step - accuracy: 0.8333 - loss: 1.0167\n",
      "Test Accuracy (All Sigmoid): 0.8333333134651184\n"
     ]
    }
   ],
   "source": [
    "# Define a simple neural network using Sigmoid activation in all layers\n",
    "def build_model_sigmoid():\n",
    "    model = Sequential([\n",
    "        Dense(10, activation='sigmoid', input_shape=(4,)),  # Hidden layer with Sigmoid\n",
    "        Dense(10, activation='sigmoid'),  # Another hidden layer with Sigmoid\n",
    "        Dense(3, activation='softmax')  # Output layer with softmax for classification\n",
    "    ])\n",
    "    model.compile(optimizer='adam', loss='categorical_crossentropy', metrics=['accuracy'])\n",
    "    return model\n",
    "\n",
    "# Build the model\n",
    "model_sigmoid = build_model_sigmoid()\n",
    "\n",
    "ytrain_dense = ytrain.toarray()\n",
    "ytest_dense = ytest.toarray()\n",
    "\n",
    "# Train the model\n",
    "history_sigmoid = model_sigmoid.fit(X_train, ytrain_dense, epochs=50, validation_data=(X_test, ytest_dense), verbose=2)\n",
    "\n",
    "# Evaluate the model\n",
    "test_loss_sigmoid, test_acc_sigmoid = model_sigmoid.evaluate(X_test, ytest_dense, verbose=2)\n",
    "print(f\"Test Accuracy (All Sigmoid): {test_acc_sigmoid}\")"
   ]
  },
  {
   "cell_type": "code",
   "execution_count": 100,
   "id": "b8266555",
   "metadata": {},
   "outputs": [
    {
     "name": "stdout",
     "output_type": "stream",
     "text": [
      "Epoch 1/50\n",
      "\u001b[1m4/4\u001b[0m \u001b[32m━━━━━━━━━━━━━━━━━━━━\u001b[0m\u001b[37m\u001b[0m \u001b[1m1s\u001b[0m 62ms/step - accuracy: 0.3394 - loss: 1.1903 - val_accuracy: 0.3667 - val_loss: 1.1377\n",
      "Epoch 2/50\n",
      "\u001b[1m4/4\u001b[0m \u001b[32m━━━━━━━━━━━━━━━━━━━━\u001b[0m\u001b[37m\u001b[0m \u001b[1m0s\u001b[0m 24ms/step - accuracy: 0.3404 - loss: 1.1557 - val_accuracy: 0.3667 - val_loss: 1.1032\n",
      "Epoch 3/50\n",
      "\u001b[1m4/4\u001b[0m \u001b[32m━━━━━━━━━━━━━━━━━━━━\u001b[0m\u001b[37m\u001b[0m \u001b[1m0s\u001b[0m 21ms/step - accuracy: 0.3331 - loss: 1.1047 - val_accuracy: 0.3667 - val_loss: 1.0739\n",
      "Epoch 4/50\n",
      "\u001b[1m4/4\u001b[0m \u001b[32m━━━━━━━━━━━━━━━━━━━━\u001b[0m\u001b[37m\u001b[0m \u001b[1m0s\u001b[0m 28ms/step - accuracy: 0.3415 - loss: 1.0705 - val_accuracy: 0.3667 - val_loss: 1.0483\n",
      "Epoch 5/50\n",
      "\u001b[1m4/4\u001b[0m \u001b[32m━━━━━━━━━━━━━━━━━━━━\u001b[0m\u001b[37m\u001b[0m \u001b[1m0s\u001b[0m 22ms/step - accuracy: 0.3633 - loss: 1.0259 - val_accuracy: 0.3667 - val_loss: 1.0263\n",
      "Epoch 6/50\n",
      "\u001b[1m4/4\u001b[0m \u001b[32m━━━━━━━━━━━━━━━━━━━━\u001b[0m\u001b[37m\u001b[0m \u001b[1m0s\u001b[0m 23ms/step - accuracy: 0.2894 - loss: 1.0745 - val_accuracy: 0.3667 - val_loss: 1.0062\n",
      "Epoch 7/50\n",
      "\u001b[1m4/4\u001b[0m \u001b[32m━━━━━━━━━━━━━━━━━━━━\u001b[0m\u001b[37m\u001b[0m \u001b[1m0s\u001b[0m 24ms/step - accuracy: 0.3331 - loss: 1.0047 - val_accuracy: 0.3667 - val_loss: 0.9884\n",
      "Epoch 8/50\n",
      "\u001b[1m4/4\u001b[0m \u001b[32m━━━━━━━━━━━━━━━━━━━━\u001b[0m\u001b[37m\u001b[0m \u001b[1m0s\u001b[0m 21ms/step - accuracy: 0.3237 - loss: 0.9941 - val_accuracy: 0.3667 - val_loss: 0.9710\n",
      "Epoch 9/50\n",
      "\u001b[1m4/4\u001b[0m \u001b[32m━━━━━━━━━━━━━━━━━━━━\u001b[0m\u001b[37m\u001b[0m \u001b[1m0s\u001b[0m 23ms/step - accuracy: 0.3331 - loss: 0.9639 - val_accuracy: 0.3667 - val_loss: 0.9547\n",
      "Epoch 10/50\n",
      "\u001b[1m4/4\u001b[0m \u001b[32m━━━━━━━━━━━━━━━━━━━━\u001b[0m\u001b[37m\u001b[0m \u001b[1m0s\u001b[0m 22ms/step - accuracy: 0.3258 - loss: 0.9381 - val_accuracy: 0.3333 - val_loss: 0.9390\n",
      "Epoch 11/50\n",
      "\u001b[1m4/4\u001b[0m \u001b[32m━━━━━━━━━━━━━━━━━━━━\u001b[0m\u001b[37m\u001b[0m \u001b[1m0s\u001b[0m 22ms/step - accuracy: 0.3248 - loss: 0.9394 - val_accuracy: 0.3333 - val_loss: 0.9233\n",
      "Epoch 12/50\n",
      "\u001b[1m4/4\u001b[0m \u001b[32m━━━━━━━━━━━━━━━━━━━━\u001b[0m\u001b[37m\u001b[0m \u001b[1m0s\u001b[0m 23ms/step - accuracy: 0.3008 - loss: 0.9403 - val_accuracy: 0.3333 - val_loss: 0.9099\n",
      "Epoch 13/50\n",
      "\u001b[1m4/4\u001b[0m \u001b[32m━━━━━━━━━━━━━━━━━━━━\u001b[0m\u001b[37m\u001b[0m \u001b[1m0s\u001b[0m 24ms/step - accuracy: 0.3237 - loss: 0.9180 - val_accuracy: 0.3333 - val_loss: 0.8980\n",
      "Epoch 14/50\n",
      "\u001b[1m4/4\u001b[0m \u001b[32m━━━━━━━━━━━━━━━━━━━━\u001b[0m\u001b[37m\u001b[0m \u001b[1m0s\u001b[0m 23ms/step - accuracy: 0.3023 - loss: 0.9130 - val_accuracy: 0.4000 - val_loss: 0.8870\n",
      "Epoch 15/50\n",
      "\u001b[1m4/4\u001b[0m \u001b[32m━━━━━━━━━━━━━━━━━━━━\u001b[0m\u001b[37m\u001b[0m \u001b[1m0s\u001b[0m 26ms/step - accuracy: 0.3671 - loss: 0.8963 - val_accuracy: 0.5333 - val_loss: 0.8763\n",
      "Epoch 16/50\n",
      "\u001b[1m4/4\u001b[0m \u001b[32m━━━━━━━━━━━━━━━━━━━━\u001b[0m\u001b[37m\u001b[0m \u001b[1m0s\u001b[0m 23ms/step - accuracy: 0.5681 - loss: 0.8773 - val_accuracy: 0.7000 - val_loss: 0.8651\n",
      "Epoch 17/50\n",
      "\u001b[1m4/4\u001b[0m \u001b[32m━━━━━━━━━━━━━━━━━━━━\u001b[0m\u001b[37m\u001b[0m \u001b[1m0s\u001b[0m 22ms/step - accuracy: 0.6594 - loss: 0.8683 - val_accuracy: 0.7000 - val_loss: 0.8532\n",
      "Epoch 18/50\n",
      "\u001b[1m4/4\u001b[0m \u001b[32m━━━━━━━━━━━━━━━━━━━━\u001b[0m\u001b[37m\u001b[0m \u001b[1m0s\u001b[0m 24ms/step - accuracy: 0.6283 - loss: 0.8541 - val_accuracy: 0.7000 - val_loss: 0.8421\n",
      "Epoch 19/50\n",
      "\u001b[1m4/4\u001b[0m \u001b[32m━━━━━━━━━━━━━━━━━━━━\u001b[0m\u001b[37m\u001b[0m \u001b[1m0s\u001b[0m 23ms/step - accuracy: 0.6556 - loss: 0.8497 - val_accuracy: 0.7000 - val_loss: 0.8316\n",
      "Epoch 20/50\n",
      "\u001b[1m4/4\u001b[0m \u001b[32m━━━━━━━━━━━━━━━━━━━━\u001b[0m\u001b[37m\u001b[0m \u001b[1m0s\u001b[0m 24ms/step - accuracy: 0.6363 - loss: 0.8370 - val_accuracy: 0.7333 - val_loss: 0.8224\n",
      "Epoch 21/50\n",
      "\u001b[1m4/4\u001b[0m \u001b[32m━━━━━━━━━━━━━━━━━━━━\u001b[0m\u001b[37m\u001b[0m \u001b[1m0s\u001b[0m 22ms/step - accuracy: 0.6623 - loss: 0.8319 - val_accuracy: 0.7333 - val_loss: 0.8139\n",
      "Epoch 22/50\n",
      "\u001b[1m4/4\u001b[0m \u001b[32m━━━━━━━━━━━━━━━━━━━━\u001b[0m\u001b[37m\u001b[0m \u001b[1m0s\u001b[0m 26ms/step - accuracy: 0.6894 - loss: 0.8166 - val_accuracy: 0.7000 - val_loss: 0.8049\n",
      "Epoch 23/50\n",
      "\u001b[1m4/4\u001b[0m \u001b[32m━━━━━━━━━━━━━━━━━━━━\u001b[0m\u001b[37m\u001b[0m \u001b[1m0s\u001b[0m 25ms/step - accuracy: 0.6873 - loss: 0.8132 - val_accuracy: 0.7000 - val_loss: 0.7947\n",
      "Epoch 24/50\n",
      "\u001b[1m4/4\u001b[0m \u001b[32m━━━━━━━━━━━━━━━━━━━━\u001b[0m\u001b[37m\u001b[0m \u001b[1m0s\u001b[0m 24ms/step - accuracy: 0.6654 - loss: 0.7946 - val_accuracy: 0.7000 - val_loss: 0.7740\n",
      "Epoch 25/50\n",
      "\u001b[1m4/4\u001b[0m \u001b[32m━━━━━━━━━━━━━━━━━━━━\u001b[0m\u001b[37m\u001b[0m \u001b[1m0s\u001b[0m 22ms/step - accuracy: 0.6529 - loss: 0.7826 - val_accuracy: 0.7000 - val_loss: 0.7590\n",
      "Epoch 26/50\n",
      "\u001b[1m4/4\u001b[0m \u001b[32m━━━━━━━━━━━━━━━━━━━━\u001b[0m\u001b[37m\u001b[0m \u001b[1m0s\u001b[0m 22ms/step - accuracy: 0.6529 - loss: 0.7796 - val_accuracy: 0.7000 - val_loss: 0.7483\n",
      "Epoch 27/50\n",
      "\u001b[1m4/4\u001b[0m \u001b[32m━━━━━━━━━━━━━━━━━━━━\u001b[0m\u001b[37m\u001b[0m \u001b[1m0s\u001b[0m 21ms/step - accuracy: 0.6717 - loss: 0.7559 - val_accuracy: 0.7000 - val_loss: 0.7379\n",
      "Epoch 28/50\n",
      "\u001b[1m4/4\u001b[0m \u001b[32m━━━━━━━━━━━━━━━━━━━━\u001b[0m\u001b[37m\u001b[0m \u001b[1m0s\u001b[0m 22ms/step - accuracy: 0.6779 - loss: 0.7474 - val_accuracy: 0.7000 - val_loss: 0.7264\n",
      "Epoch 29/50\n",
      "\u001b[1m4/4\u001b[0m \u001b[32m━━━━━━━━━━━━━━━━━━━━\u001b[0m\u001b[37m\u001b[0m \u001b[1m0s\u001b[0m 25ms/step - accuracy: 0.6248 - loss: 0.7465 - val_accuracy: 0.7000 - val_loss: 0.7174\n",
      "Epoch 30/50\n",
      "\u001b[1m4/4\u001b[0m \u001b[32m━━━━━━━━━━━━━━━━━━━━\u001b[0m\u001b[37m\u001b[0m \u001b[1m0s\u001b[0m 23ms/step - accuracy: 0.6492 - loss: 0.7382 - val_accuracy: 0.7000 - val_loss: 0.7090\n",
      "Epoch 31/50\n",
      "\u001b[1m4/4\u001b[0m \u001b[32m━━━━━━━━━━━━━━━━━━━━\u001b[0m\u001b[37m\u001b[0m \u001b[1m0s\u001b[0m 17ms/step - accuracy: 0.7131 - loss: 0.7125 - val_accuracy: 0.7000 - val_loss: 0.6972\n",
      "Epoch 32/50\n",
      "\u001b[1m4/4\u001b[0m \u001b[32m━━━━━━━━━━━━━━━━━━━━\u001b[0m\u001b[37m\u001b[0m \u001b[1m0s\u001b[0m 23ms/step - accuracy: 0.7167 - loss: 0.7048 - val_accuracy: 0.7333 - val_loss: 0.6866\n",
      "Epoch 33/50\n",
      "\u001b[1m4/4\u001b[0m \u001b[32m━━━━━━━━━━━━━━━━━━━━\u001b[0m\u001b[37m\u001b[0m \u001b[1m0s\u001b[0m 17ms/step - accuracy: 0.7446 - loss: 0.6979 - val_accuracy: 0.7667 - val_loss: 0.6762\n",
      "Epoch 34/50\n",
      "\u001b[1m4/4\u001b[0m \u001b[32m━━━━━━━━━━━━━━━━━━━━\u001b[0m\u001b[37m\u001b[0m \u001b[1m0s\u001b[0m 23ms/step - accuracy: 0.7977 - loss: 0.6843 - val_accuracy: 0.8000 - val_loss: 0.6652\n",
      "Epoch 35/50\n",
      "\u001b[1m4/4\u001b[0m \u001b[32m━━━━━━━━━━━━━━━━━━━━\u001b[0m\u001b[37m\u001b[0m \u001b[1m0s\u001b[0m 22ms/step - accuracy: 0.7973 - loss: 0.6745 - val_accuracy: 0.8000 - val_loss: 0.6550\n",
      "Epoch 36/50\n",
      "\u001b[1m4/4\u001b[0m \u001b[32m━━━━━━━━━━━━━━━━━━━━\u001b[0m\u001b[37m\u001b[0m \u001b[1m0s\u001b[0m 22ms/step - accuracy: 0.8317 - loss: 0.6598 - val_accuracy: 0.8000 - val_loss: 0.6444\n",
      "Epoch 37/50\n",
      "\u001b[1m4/4\u001b[0m \u001b[32m━━━━━━━━━━━━━━━━━━━━\u001b[0m\u001b[37m\u001b[0m \u001b[1m0s\u001b[0m 23ms/step - accuracy: 0.8087 - loss: 0.6654 - val_accuracy: 0.8333 - val_loss: 0.6354\n",
      "Epoch 38/50\n",
      "\u001b[1m4/4\u001b[0m \u001b[32m━━━━━━━━━━━━━━━━━━━━\u001b[0m\u001b[37m\u001b[0m \u001b[1m0s\u001b[0m 23ms/step - accuracy: 0.8527 - loss: 0.6373 - val_accuracy: 0.8333 - val_loss: 0.6247\n",
      "Epoch 39/50\n",
      "\u001b[1m4/4\u001b[0m \u001b[32m━━━━━━━━━━━━━━━━━━━━\u001b[0m\u001b[37m\u001b[0m \u001b[1m0s\u001b[0m 25ms/step - accuracy: 0.8094 - loss: 0.6443 - val_accuracy: 0.8333 - val_loss: 0.6152\n",
      "Epoch 40/50\n",
      "\u001b[1m4/4\u001b[0m \u001b[32m━━━━━━━━━━━━━━━━━━━━\u001b[0m\u001b[37m\u001b[0m \u001b[1m0s\u001b[0m 22ms/step - accuracy: 0.8333 - loss: 0.6211 - val_accuracy: 0.8333 - val_loss: 0.6052\n",
      "Epoch 41/50\n",
      "\u001b[1m4/4\u001b[0m \u001b[32m━━━━━━━━━━━━━━━━━━━━\u001b[0m\u001b[37m\u001b[0m \u001b[1m0s\u001b[0m 23ms/step - accuracy: 0.8490 - loss: 0.6053 - val_accuracy: 0.8333 - val_loss: 0.5948\n",
      "Epoch 42/50\n",
      "\u001b[1m4/4\u001b[0m \u001b[32m━━━━━━━━━━━━━━━━━━━━\u001b[0m\u001b[37m\u001b[0m \u001b[1m0s\u001b[0m 21ms/step - accuracy: 0.8508 - loss: 0.6067 - val_accuracy: 0.8333 - val_loss: 0.5863\n",
      "Epoch 43/50\n",
      "\u001b[1m4/4\u001b[0m \u001b[32m━━━━━━━━━━━━━━━━━━━━\u001b[0m\u001b[37m\u001b[0m \u001b[1m0s\u001b[0m 21ms/step - accuracy: 0.9152 - loss: 0.5977 - val_accuracy: 0.8667 - val_loss: 0.5776\n",
      "Epoch 44/50\n",
      "\u001b[1m4/4\u001b[0m \u001b[32m━━━━━━━━━━━━━━━━━━━━\u001b[0m\u001b[37m\u001b[0m \u001b[1m0s\u001b[0m 19ms/step - accuracy: 0.9142 - loss: 0.5770 - val_accuracy: 0.8333 - val_loss: 0.5677\n",
      "Epoch 45/50\n",
      "\u001b[1m4/4\u001b[0m \u001b[32m━━━━━━━━━━━━━━━━━━━━\u001b[0m\u001b[37m\u001b[0m \u001b[1m0s\u001b[0m 21ms/step - accuracy: 0.9048 - loss: 0.5846 - val_accuracy: 0.8333 - val_loss: 0.5583\n",
      "Epoch 46/50\n",
      "\u001b[1m4/4\u001b[0m \u001b[32m━━━━━━━━━━━━━━━━━━━━\u001b[0m\u001b[37m\u001b[0m \u001b[1m0s\u001b[0m 22ms/step - accuracy: 0.9181 - loss: 0.5490 - val_accuracy: 0.8333 - val_loss: 0.5479\n",
      "Epoch 47/50\n",
      "\u001b[1m4/4\u001b[0m \u001b[32m━━━━━━━━━━━━━━━━━━━━\u001b[0m\u001b[37m\u001b[0m \u001b[1m0s\u001b[0m 23ms/step - accuracy: 0.9235 - loss: 0.5468 - val_accuracy: 0.8333 - val_loss: 0.5389\n",
      "Epoch 48/50\n",
      "\u001b[1m4/4\u001b[0m \u001b[32m━━━━━━━━━━━━━━━━━━━━\u001b[0m\u001b[37m\u001b[0m \u001b[1m0s\u001b[0m 17ms/step - accuracy: 0.9123 - loss: 0.5455 - val_accuracy: 0.9000 - val_loss: 0.5304\n",
      "Epoch 49/50\n",
      "\u001b[1m4/4\u001b[0m \u001b[32m━━━━━━━━━━━━━━━━━━━━\u001b[0m\u001b[37m\u001b[0m \u001b[1m0s\u001b[0m 23ms/step - accuracy: 0.9029 - loss: 0.5414 - val_accuracy: 0.9000 - val_loss: 0.5217\n",
      "Epoch 50/50\n",
      "\u001b[1m4/4\u001b[0m \u001b[32m━━━━━━━━━━━━━━━━━━━━\u001b[0m\u001b[37m\u001b[0m \u001b[1m0s\u001b[0m 23ms/step - accuracy: 0.9073 - loss: 0.5334 - val_accuracy: 0.9000 - val_loss: 0.5127\n",
      "\u001b[1m1/1\u001b[0m \u001b[32m━━━━━━━━━━━━━━━━━━━━\u001b[0m\u001b[37m\u001b[0m \u001b[1m0s\u001b[0m 46ms/step - accuracy: 0.9000 - loss: 0.5127\n",
      "Test accuracy (All relue): 0.8999999761581421\n"
     ]
    }
   ],
   "source": [
    "def bulid_model_relu():\n",
    "    model = Sequential([\n",
    "        Dense(10, activation='relu', input_shape=(4,)),\n",
    "        Dense(10, activation='relu'),\n",
    "        Dense(3, activation='softmax')\n",
    "    ])\n",
    "\n",
    "    model.compile(optimizer='adam', loss='categorical_crossentropy', metrics=['accuracy'])\n",
    "    return model\n",
    "\n",
    "model_relu = bulid_model_relu()\n",
    "ytrain_dense = ytrain.toarray()\n",
    "ytest_dense = ytest.toarray()\n",
    "\n",
    "history_relu = model_relu.fit(xtrain, ytrain_dense, epochs=50, validation_data=(xtest, ytest_dense))\n",
    "\n",
    "test_loss, test_acc_relu = model_relu.evaluate(xtest, ytest_dense)\n",
    "\n",
    "print(f\"Test accuracy (All relue): {test_acc_relu}\")"
   ]
  },
  {
   "cell_type": "code",
   "execution_count": 105,
   "id": "7e7f9116",
   "metadata": {},
   "outputs": [],
   "source": [
    "from tensorflow.keras.layers import LeakyReLU"
   ]
  },
  {
   "cell_type": "code",
   "execution_count": 109,
   "id": "62e57aac",
   "metadata": {},
   "outputs": [
    {
     "name": "stdout",
     "output_type": "stream",
     "text": [
      "Epoch 1/50\n",
      "\u001b[1m4/4\u001b[0m \u001b[32m━━━━━━━━━━━━━━━━━━━━\u001b[0m\u001b[37m\u001b[0m \u001b[1m1s\u001b[0m 64ms/step - accuracy: 0.3667 - loss: 5.7701 - val_accuracy: 0.3333 - val_loss: 6.2257\n",
      "Epoch 2/50\n",
      "\u001b[1m4/4\u001b[0m \u001b[32m━━━━━━━━━━━━━━━━━━━━\u001b[0m\u001b[37m\u001b[0m \u001b[1m0s\u001b[0m 43ms/step - accuracy: 0.3302 - loss: 5.3803 - val_accuracy: 0.3333 - val_loss: 5.8263\n",
      "Epoch 3/50\n",
      "\u001b[1m4/4\u001b[0m \u001b[32m━━━━━━━━━━━━━━━━━━━━\u001b[0m\u001b[37m\u001b[0m \u001b[1m0s\u001b[0m 23ms/step - accuracy: 0.3000 - loss: 5.5295 - val_accuracy: 0.3333 - val_loss: 5.4541\n",
      "Epoch 4/50\n",
      "\u001b[1m4/4\u001b[0m \u001b[32m━━━━━━━━━━━━━━━━━━━━\u001b[0m\u001b[37m\u001b[0m \u001b[1m0s\u001b[0m 17ms/step - accuracy: 0.3135 - loss: 5.0750 - val_accuracy: 0.3333 - val_loss: 5.1047\n",
      "Epoch 5/50\n",
      "\u001b[1m4/4\u001b[0m \u001b[32m━━━━━━━━━━━━━━━━━━━━\u001b[0m\u001b[37m\u001b[0m \u001b[1m0s\u001b[0m 23ms/step - accuracy: 0.2958 - loss: 4.7299 - val_accuracy: 0.3333 - val_loss: 4.7688\n",
      "Epoch 6/50\n",
      "\u001b[1m4/4\u001b[0m \u001b[32m━━━━━━━━━━━━━━━━━━━━\u001b[0m\u001b[37m\u001b[0m \u001b[1m0s\u001b[0m 21ms/step - accuracy: 0.3354 - loss: 4.3001 - val_accuracy: 0.3333 - val_loss: 4.4287\n",
      "Epoch 7/50\n",
      "\u001b[1m4/4\u001b[0m \u001b[32m━━━━━━━━━━━━━━━━━━━━\u001b[0m\u001b[37m\u001b[0m \u001b[1m0s\u001b[0m 23ms/step - accuracy: 0.3250 - loss: 3.9259 - val_accuracy: 0.3333 - val_loss: 4.0951\n",
      "Epoch 8/50\n",
      "\u001b[1m4/4\u001b[0m \u001b[32m━━━━━━━━━━━━━━━━━━━━\u001b[0m\u001b[37m\u001b[0m \u001b[1m0s\u001b[0m 21ms/step - accuracy: 0.3469 - loss: 3.4850 - val_accuracy: 0.3333 - val_loss: 3.7977\n",
      "Epoch 9/50\n",
      "\u001b[1m4/4\u001b[0m \u001b[32m━━━━━━━━━━━━━━━━━━━━\u001b[0m\u001b[37m\u001b[0m \u001b[1m0s\u001b[0m 20ms/step - accuracy: 0.3115 - loss: 3.7182 - val_accuracy: 0.3333 - val_loss: 3.5373\n",
      "Epoch 10/50\n",
      "\u001b[1m4/4\u001b[0m \u001b[32m━━━━━━━━━━━━━━━━━━━━\u001b[0m\u001b[37m\u001b[0m \u001b[1m0s\u001b[0m 23ms/step - accuracy: 0.3510 - loss: 3.1676 - val_accuracy: 0.3333 - val_loss: 3.3243\n",
      "Epoch 11/50\n",
      "\u001b[1m4/4\u001b[0m \u001b[32m━━━━━━━━━━━━━━━━━━━━\u001b[0m\u001b[37m\u001b[0m \u001b[1m0s\u001b[0m 23ms/step - accuracy: 0.3656 - loss: 2.9283 - val_accuracy: 0.3000 - val_loss: 3.1506\n",
      "Epoch 12/50\n",
      "\u001b[1m4/4\u001b[0m \u001b[32m━━━━━━━━━━━━━━━━━━━━\u001b[0m\u001b[37m\u001b[0m \u001b[1m0s\u001b[0m 23ms/step - accuracy: 0.2221 - loss: 2.9413 - val_accuracy: 0.3000 - val_loss: 3.0046\n",
      "Epoch 13/50\n",
      "\u001b[1m4/4\u001b[0m \u001b[32m━━━━━━━━━━━━━━━━━━━━\u001b[0m\u001b[37m\u001b[0m \u001b[1m0s\u001b[0m 23ms/step - accuracy: 0.1813 - loss: 2.4053 - val_accuracy: 0.2333 - val_loss: 2.8802\n",
      "Epoch 14/50\n",
      "\u001b[1m4/4\u001b[0m \u001b[32m━━━━━━━━━━━━━━━━━━━━\u001b[0m\u001b[37m\u001b[0m \u001b[1m0s\u001b[0m 17ms/step - accuracy: 0.2227 - loss: 2.4690 - val_accuracy: 0.2333 - val_loss: 2.7646\n",
      "Epoch 15/50\n",
      "\u001b[1m4/4\u001b[0m \u001b[32m━━━━━━━━━━━━━━━━━━━━\u001b[0m\u001b[37m\u001b[0m \u001b[1m0s\u001b[0m 23ms/step - accuracy: 0.2738 - loss: 2.4719 - val_accuracy: 0.2333 - val_loss: 2.6536\n",
      "Epoch 16/50\n",
      "\u001b[1m4/4\u001b[0m \u001b[32m━━━━━━━━━━━━━━━━━━━━\u001b[0m\u001b[37m\u001b[0m \u001b[1m0s\u001b[0m 23ms/step - accuracy: 0.3110 - loss: 2.4560 - val_accuracy: 0.2667 - val_loss: 2.5453\n",
      "Epoch 17/50\n",
      "\u001b[1m4/4\u001b[0m \u001b[32m━━━━━━━━━━━━━━━━━━━━\u001b[0m\u001b[37m\u001b[0m \u001b[1m0s\u001b[0m 22ms/step - accuracy: 0.3281 - loss: 2.2533 - val_accuracy: 0.3333 - val_loss: 2.4431\n",
      "Epoch 18/50\n",
      "\u001b[1m4/4\u001b[0m \u001b[32m━━━━━━━━━━━━━━━━━━━━\u001b[0m\u001b[37m\u001b[0m \u001b[1m0s\u001b[0m 21ms/step - accuracy: 0.3946 - loss: 2.1426 - val_accuracy: 0.4000 - val_loss: 2.3444\n",
      "Epoch 19/50\n",
      "\u001b[1m4/4\u001b[0m \u001b[32m━━━━━━━━━━━━━━━━━━━━\u001b[0m\u001b[37m\u001b[0m \u001b[1m0s\u001b[0m 24ms/step - accuracy: 0.4435 - loss: 2.0297 - val_accuracy: 0.4667 - val_loss: 2.2494\n",
      "Epoch 20/50\n",
      "\u001b[1m4/4\u001b[0m \u001b[32m━━━━━━━━━━━━━━━━━━━━\u001b[0m\u001b[37m\u001b[0m \u001b[1m0s\u001b[0m 23ms/step - accuracy: 0.4802 - loss: 2.0333 - val_accuracy: 0.5333 - val_loss: 2.1566\n",
      "Epoch 21/50\n",
      "\u001b[1m4/4\u001b[0m \u001b[32m━━━━━━━━━━━━━━━━━━━━\u001b[0m\u001b[37m\u001b[0m \u001b[1m0s\u001b[0m 24ms/step - accuracy: 0.5352 - loss: 2.0706 - val_accuracy: 0.5667 - val_loss: 2.0665\n",
      "Epoch 22/50\n",
      "\u001b[1m4/4\u001b[0m \u001b[32m━━━━━━━━━━━━━━━━━━━━\u001b[0m\u001b[37m\u001b[0m \u001b[1m0s\u001b[0m 24ms/step - accuracy: 0.6385 - loss: 1.8498 - val_accuracy: 0.5667 - val_loss: 1.9816\n",
      "Epoch 23/50\n",
      "\u001b[1m4/4\u001b[0m \u001b[32m━━━━━━━━━━━━━━━━━━━━\u001b[0m\u001b[37m\u001b[0m \u001b[1m0s\u001b[0m 22ms/step - accuracy: 0.6117 - loss: 1.8265 - val_accuracy: 0.5667 - val_loss: 1.8997\n",
      "Epoch 24/50\n",
      "\u001b[1m4/4\u001b[0m \u001b[32m━━━━━━━━━━━━━━━━━━━━\u001b[0m\u001b[37m\u001b[0m \u001b[1m0s\u001b[0m 21ms/step - accuracy: 0.6369 - loss: 1.7564 - val_accuracy: 0.5667 - val_loss: 1.8219\n",
      "Epoch 25/50\n",
      "\u001b[1m4/4\u001b[0m \u001b[32m━━━━━━━━━━━━━━━━━━━━\u001b[0m\u001b[37m\u001b[0m \u001b[1m0s\u001b[0m 22ms/step - accuracy: 0.6706 - loss: 1.5939 - val_accuracy: 0.6000 - val_loss: 1.7480\n",
      "Epoch 26/50\n",
      "\u001b[1m4/4\u001b[0m \u001b[32m━━━━━━━━━━━━━━━━━━━━\u001b[0m\u001b[37m\u001b[0m \u001b[1m0s\u001b[0m 23ms/step - accuracy: 0.6488 - loss: 1.6297 - val_accuracy: 0.6000 - val_loss: 1.6758\n",
      "Epoch 27/50\n",
      "\u001b[1m4/4\u001b[0m \u001b[32m━━━━━━━━━━━━━━━━━━━━\u001b[0m\u001b[37m\u001b[0m \u001b[1m0s\u001b[0m 18ms/step - accuracy: 0.6415 - loss: 1.6011 - val_accuracy: 0.6000 - val_loss: 1.6064\n",
      "Epoch 28/50\n",
      "\u001b[1m4/4\u001b[0m \u001b[32m━━━━━━━━━━━━━━━━━━━━\u001b[0m\u001b[37m\u001b[0m \u001b[1m0s\u001b[0m 20ms/step - accuracy: 0.6706 - loss: 1.4077 - val_accuracy: 0.6000 - val_loss: 1.5411\n",
      "Epoch 29/50\n",
      "\u001b[1m4/4\u001b[0m \u001b[32m━━━━━━━━━━━━━━━━━━━━\u001b[0m\u001b[37m\u001b[0m \u001b[1m0s\u001b[0m 21ms/step - accuracy: 0.6227 - loss: 1.4823 - val_accuracy: 0.6333 - val_loss: 1.4770\n",
      "Epoch 30/50\n",
      "\u001b[1m4/4\u001b[0m \u001b[32m━━━━━━━━━━━━━━━━━━━━\u001b[0m\u001b[37m\u001b[0m \u001b[1m0s\u001b[0m 26ms/step - accuracy: 0.6258 - loss: 1.4079 - val_accuracy: 0.6333 - val_loss: 1.4170\n",
      "Epoch 31/50\n",
      "\u001b[1m4/4\u001b[0m \u001b[32m━━━━━━━━━━━━━━━━━━━━\u001b[0m\u001b[37m\u001b[0m \u001b[1m0s\u001b[0m 23ms/step - accuracy: 0.7115 - loss: 1.1895 - val_accuracy: 0.6333 - val_loss: 1.3612\n",
      "Epoch 32/50\n",
      "\u001b[1m4/4\u001b[0m \u001b[32m━━━━━━━━━━━━━━━━━━━━\u001b[0m\u001b[37m\u001b[0m \u001b[1m0s\u001b[0m 21ms/step - accuracy: 0.6615 - loss: 1.2429 - val_accuracy: 0.6333 - val_loss: 1.3062\n",
      "Epoch 33/50\n",
      "\u001b[1m4/4\u001b[0m \u001b[32m━━━━━━━━━━━━━━━━━━━━\u001b[0m\u001b[37m\u001b[0m \u001b[1m0s\u001b[0m 27ms/step - accuracy: 0.6917 - loss: 1.1367 - val_accuracy: 0.6333 - val_loss: 1.2541\n",
      "Epoch 34/50\n",
      "\u001b[1m4/4\u001b[0m \u001b[32m━━━━━━━━━━━━━━━━━━━━\u001b[0m\u001b[37m\u001b[0m \u001b[1m0s\u001b[0m 40ms/step - accuracy: 0.6137 - loss: 1.2666 - val_accuracy: 0.6333 - val_loss: 1.2031\n",
      "Epoch 35/50\n",
      "\u001b[1m4/4\u001b[0m \u001b[32m━━━━━━━━━━━━━━━━━━━━\u001b[0m\u001b[37m\u001b[0m \u001b[1m0s\u001b[0m 22ms/step - accuracy: 0.6929 - loss: 1.0708 - val_accuracy: 0.6333 - val_loss: 1.1568\n",
      "Epoch 36/50\n",
      "\u001b[1m4/4\u001b[0m \u001b[32m━━━━━━━━━━━━━━━━━━━━\u001b[0m\u001b[37m\u001b[0m \u001b[1m0s\u001b[0m 19ms/step - accuracy: 0.6835 - loss: 1.0505 - val_accuracy: 0.6333 - val_loss: 1.1128\n",
      "Epoch 37/50\n",
      "\u001b[1m4/4\u001b[0m \u001b[32m━━━━━━━━━━━━━━━━━━━━\u001b[0m\u001b[37m\u001b[0m \u001b[1m0s\u001b[0m 22ms/step - accuracy: 0.6648 - loss: 1.0452 - val_accuracy: 0.6333 - val_loss: 1.0707\n",
      "Epoch 38/50\n",
      "\u001b[1m4/4\u001b[0m \u001b[32m━━━━━━━━━━━━━━━━━━━━\u001b[0m\u001b[37m\u001b[0m \u001b[1m0s\u001b[0m 22ms/step - accuracy: 0.6888 - loss: 0.9778 - val_accuracy: 0.6333 - val_loss: 1.0322\n",
      "Epoch 39/50\n",
      "\u001b[1m4/4\u001b[0m \u001b[32m━━━━━━━━━━━━━━━━━━━━\u001b[0m\u001b[37m\u001b[0m \u001b[1m0s\u001b[0m 23ms/step - accuracy: 0.6200 - loss: 1.0240 - val_accuracy: 0.6333 - val_loss: 0.9956\n",
      "Epoch 40/50\n",
      "\u001b[1m4/4\u001b[0m \u001b[32m━━━━━━━━━━━━━━━━━━━━\u001b[0m\u001b[37m\u001b[0m \u001b[1m0s\u001b[0m 22ms/step - accuracy: 0.7106 - loss: 0.8860 - val_accuracy: 0.6333 - val_loss: 0.9636\n",
      "Epoch 41/50\n",
      "\u001b[1m4/4\u001b[0m \u001b[32m━━━━━━━━━━━━━━━━━━━━\u001b[0m\u001b[37m\u001b[0m \u001b[1m0s\u001b[0m 21ms/step - accuracy: 0.6648 - loss: 0.9207 - val_accuracy: 0.6333 - val_loss: 0.9325\n",
      "Epoch 42/50\n",
      "\u001b[1m4/4\u001b[0m \u001b[32m━━━━━━━━━━━━━━━━━━━━\u001b[0m\u001b[37m\u001b[0m \u001b[1m0s\u001b[0m 24ms/step - accuracy: 0.6835 - loss: 0.8679 - val_accuracy: 0.6333 - val_loss: 0.9035\n",
      "Epoch 43/50\n",
      "\u001b[1m4/4\u001b[0m \u001b[32m━━━━━━━━━━━━━━━━━━━━\u001b[0m\u001b[37m\u001b[0m \u001b[1m0s\u001b[0m 25ms/step - accuracy: 0.6481 - loss: 0.8816 - val_accuracy: 0.6333 - val_loss: 0.8753\n",
      "Epoch 44/50\n",
      "\u001b[1m4/4\u001b[0m \u001b[32m━━━━━━━━━━━━━━━━━━━━\u001b[0m\u001b[37m\u001b[0m \u001b[1m0s\u001b[0m 22ms/step - accuracy: 0.6721 - loss: 0.8394 - val_accuracy: 0.6333 - val_loss: 0.8499\n",
      "Epoch 45/50\n",
      "\u001b[1m4/4\u001b[0m \u001b[32m━━━━━━━━━━━━━━━━━━━━\u001b[0m\u001b[37m\u001b[0m \u001b[1m0s\u001b[0m 25ms/step - accuracy: 0.6648 - loss: 0.8145 - val_accuracy: 0.6333 - val_loss: 0.8260\n",
      "Epoch 46/50\n",
      "\u001b[1m4/4\u001b[0m \u001b[32m━━━━━━━━━━━━━━━━━━━━\u001b[0m\u001b[37m\u001b[0m \u001b[1m0s\u001b[0m 17ms/step - accuracy: 0.6513 - loss: 0.8143 - val_accuracy: 0.6333 - val_loss: 0.8048\n",
      "Epoch 47/50\n",
      "\u001b[1m4/4\u001b[0m \u001b[32m━━━━━━━━━━━━━━━━━━━━\u001b[0m\u001b[37m\u001b[0m \u001b[1m0s\u001b[0m 22ms/step - accuracy: 0.7023 - loss: 0.7540 - val_accuracy: 0.6333 - val_loss: 0.7856\n",
      "Epoch 48/50\n",
      "\u001b[1m4/4\u001b[0m \u001b[32m━━━━━━━━━━━━━━━━━━━━\u001b[0m\u001b[37m\u001b[0m \u001b[1m0s\u001b[0m 23ms/step - accuracy: 0.6263 - loss: 0.7740 - val_accuracy: 0.6333 - val_loss: 0.7676\n",
      "Epoch 49/50\n",
      "\u001b[1m4/4\u001b[0m \u001b[32m━━━━━━━━━━━━━━━━━━━━\u001b[0m\u001b[37m\u001b[0m \u001b[1m0s\u001b[0m 23ms/step - accuracy: 0.6940 - loss: 0.7203 - val_accuracy: 0.6333 - val_loss: 0.7520\n",
      "Epoch 50/50\n",
      "\u001b[1m4/4\u001b[0m \u001b[32m━━━━━━━━━━━━━━━━━━━━\u001b[0m\u001b[37m\u001b[0m \u001b[1m0s\u001b[0m 20ms/step - accuracy: 0.6252 - loss: 0.7486 - val_accuracy: 0.6333 - val_loss: 0.7379\n",
      "\u001b[1m1/1\u001b[0m \u001b[32m━━━━━━━━━━━━━━━━━━━━\u001b[0m\u001b[37m\u001b[0m \u001b[1m0s\u001b[0m 39ms/step - accuracy: 0.6333 - loss: 0.7379\n",
      "Test Accuracy (All Leaky ReLU): 0.6333333253860474\n"
     ]
    }
   ],
   "source": [
    "def build_model_leak_relu():\n",
    "    model = Sequential([\n",
    "        Dense(10, input_shape=(4,)),  # First hidden layer without activation, add LeakyReLU separately\n",
    "        LeakyReLU(alpha=0.01),  # Leaky ReLU activation with small slope for negative values\n",
    "        Dense(10),  # Second hidden layer\n",
    "        LeakyReLU(alpha=0.01),  # Leaky ReLU activatio\n",
    "        Dense(3, activation='softmax')\n",
    "\n",
    "    ])\n",
    "    model.compile(optimizer='adam',loss='categorical_crossentropy', metrics=['accuracy'] )\n",
    "    return model\n",
    "\n",
    "\n",
    "model_leaky_relu = build_model_leak_relu()\n",
    "\n",
    "ytrain_dense = ytrain.toarray()\n",
    "ytest_dense = ytest.toarray()\n",
    "\n",
    "history_leaky_relu = model_leaky_relu.fit(xtrain, ytrain_dense, epochs=50, validation_data=(xtest, ytest_dense))\n",
    "\n",
    "test_loss, test_acc_leaky_relue = model_leaky_relu.evaluate(xtest, ytest_dense)\n",
    "\n",
    "print(f\"Test Accuracy (All Leaky ReLU): {test_acc_leaky_relue}\")"
   ]
  },
  {
   "cell_type": "code",
   "execution_count": 113,
   "id": "5b487f70",
   "metadata": {},
   "outputs": [
    {
     "data": {
      "image/png": "[encoded data removed]",
      "text/plain": [
       "<Figure size 640x480 with 1 Axes>"
      ]
     },
     "metadata": {},
     "output_type": "display_data"
    }
   ],
   "source": [
    "import matplotlib.pyplot as plt\n",
    "\n",
    "plt.plot(history_sigmoid.history['accuracy'], label='Sigmoid accuracy')\n",
    "\n",
    "plt.plot(history_relu.history['accuracy'], label='ReLU Accuracy')\n",
    "\n",
    "plt.plot(history_leaky_relu.history['accuracy'], label='Leaky ReLU Accuracy')\n",
    "\n",
    "plt.xlabel('Epochs')\n",
    "plt.ylabel('Accuracy')\n",
    "\n",
    "plt.legend()\n",
    "plt.show()"
   ]
  }
 ],
 "metadata": {
  "kernelspec": {
   "display_name": "Python 3",
   "language": "python",
   "name": "python3"
  },
  "language_info": {
   "codemirror_mode": {
    "name": "ipython",
    "version": 3
   },
   "file_extension": ".py",
   "mimetype": "text/x-python",
   "name": "python",
   "nbconvert_exporter": "python",
   "pygments_lexer": "ipython3",
   "version": "3.12.7"
  }
 },
 "nbformat": 4,
 "nbformat_minor": 5
}
