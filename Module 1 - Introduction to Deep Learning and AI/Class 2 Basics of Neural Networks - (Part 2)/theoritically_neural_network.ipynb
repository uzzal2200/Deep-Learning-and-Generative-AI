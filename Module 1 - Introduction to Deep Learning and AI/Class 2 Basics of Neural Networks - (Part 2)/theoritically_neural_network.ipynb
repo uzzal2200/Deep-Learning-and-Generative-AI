{
 "cells": [
  {
   "cell_type": "code",
   "execution_count": 1,
   "id": "bdb726b3",
   "metadata": {},
   "outputs": [],
   "source": [
    "import numpy as np"
   ]
  },
  {
   "cell_type": "code",
   "execution_count": 2,
   "id": "e0f875e4",
   "metadata": {},
   "outputs": [],
   "source": [
    "def sigmoid(x):\n",
    "    return 1 / (1 + np.exp(-x))"
   ]
  },
  {
   "cell_type": "code",
   "execution_count": 3,
   "id": "f379a17a",
   "metadata": {},
   "outputs": [],
   "source": [
    "\n",
    "# Derivative of sigmoid\n",
    "def sigmoid_derivative(x):\n",
    "    return x * (1 - x)"
   ]
  },
  {
   "cell_type": "code",
   "execution_count": 5,
   "id": "eeda102d",
   "metadata": {},
   "outputs": [],
   "source": [
    "# Inputs and true output\n",
    "X = np.array([[1, 2, 3, 4]])\n",
    "Y_true = np.array([[1]])\n",
    "\n",
    "# Initialize weights and biases\n",
    "np.random.seed(42)\n",
    "W1 = np.random.rand(4, 2)  # Weights for first layer\n",
    "b1 = np.random.rand(1, 2)  # Bias for first layer\n",
    "W2 = np.random.rand(2, 1)  # Weights for second layer\n",
    "b2 = np.random.rand(1, 1)  # Bias for second layer\n",
    "\n",
    "# Learning rate\n",
    "lr = 0.1"
   ]
  },
  {
   "cell_type": "code",
   "execution_count": 6,
   "id": "85adf035",
   "metadata": {},
   "outputs": [],
   "source": [
    "# Forward pass\n",
    "Z1 = np.dot(X, W1) + b1\n",
    "A1 = sigmoid(Z1)\n",
    "Z2 = np.dot(A1, W2) + b2\n",
    "Y_pred = sigmoid(Z2)"
   ]
  },
  {
   "cell_type": "code",
   "execution_count": 7,
   "id": "c747eb36",
   "metadata": {},
   "outputs": [
    {
     "name": "stdout",
     "output_type": "stream",
     "text": [
      "Initial Loss: 0.15002658543925287\n"
     ]
    }
   ],
   "source": [
    "# Loss calculation (Binary Crossentropy)\n",
    "loss = -np.mean(Y_true * np.log(Y_pred) + (1 - Y_true) * np.log(1 - Y_pred))\n",
    "print(\"Initial Loss:\", loss)"
   ]
  },
  {
   "cell_type": "code",
   "execution_count": 8,
   "id": "a8b188b1",
   "metadata": {},
   "outputs": [],
   "source": [
    "# Backpropagation\n",
    "d_loss = Y_pred - Y_true\n",
    "\n",
    "# Gradients for second layer\n",
    "dW2 = np.dot(A1.T, d_loss * sigmoid_derivative(Y_pred))\n",
    "db2 = np.sum(d_loss * sigmoid_derivative(Y_pred), axis=0, keepdims=True)\n",
    "\n",
    "# Gradients for first layer\n",
    "dA1 = np.dot(d_loss * sigmoid_derivative(Y_pred), W2.T)\n",
    "dW1 = np.dot(X.T, dA1 * sigmoid_derivative(A1))\n",
    "db1 = np.sum(dA1 * sigmoid_derivative(A1), axis=0)\n",
    "\n",
    "# Update weights and biases\n",
    "W1 -= lr * dW1\n",
    "b1 -= lr * db1\n",
    "W2 -= lr * dW2\n",
    "b2 -= lr * db2\n"
   ]
  },
  {
   "cell_type": "code",
   "execution_count": 9,
   "id": "993d15bc",
   "metadata": {},
   "outputs": [
    {
     "name": "stdout",
     "output_type": "stream",
     "text": [
      "Loss after backpropagation: 0.14934925984013103\n"
     ]
    }
   ],
   "source": [
    "\n",
    "# Forward pass with updated weights\n",
    "Z1 = np.dot(X, W1) + b1\n",
    "A1 = sigmoid(Z1)\n",
    "Z2 = np.dot(A1, W2) + b2\n",
    "Y_pred = sigmoid(Z2)\n",
    "\n",
    "# Loss calculation after weight update\n",
    "new_loss = -np.mean(Y_true * np.log(Y_pred) + (1 - Y_true) * np.log(1 - Y_pred))\n",
    "print(\"Loss after backpropagation:\", new_loss)\n"
   ]
  }
 ],
 "metadata": {
  "kernelspec": {
   "display_name": "Python 3",
   "language": "python",
   "name": "python3"
  },
  "language_info": {
   "codemirror_mode": {
    "name": "ipython",
    "version": 3
   },
   "file_extension": ".py",
   "mimetype": "text/x-python",
   "name": "python",
   "nbconvert_exporter": "python",
   "pygments_lexer": "ipython3",
   "version": "3.12.7"
  }
 },
 "nbformat": 4,
 "nbformat_minor": 5
}
